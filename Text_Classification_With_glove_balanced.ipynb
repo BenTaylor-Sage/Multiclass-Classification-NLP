{
 "cells": [
  {
   "cell_type": "code",
   "execution_count": 0,
   "metadata": {
    "application/vnd.databricks.v1+cell": {
     "inputWidgets": {},
     "nuid": "692d9f4c-9d4b-4835-990d-ea1433fc66b7",
     "showTitle": false,
     "title": ""
    }
   },
   "outputs": [
    {
     "data": {
      "text/html": [
       "<style scoped>\n",
       "  .ansiout {\n",
       "    display: block;\n",
       "    unicode-bidi: embed;\n",
       "    white-space: pre-wrap;\n",
       "    word-wrap: break-word;\n",
       "    word-break: break-all;\n",
       "    font-family: \"Source Code Pro\", \"Menlo\", monospace;;\n",
       "    font-size: 13px;\n",
       "    color: #555;\n",
       "    margin-left: 4px;\n",
       "    line-height: 19px;\n",
       "  }\n",
       "</style>\n",
       "<div class=\"ansiout\"></div>"
      ]
     },
     "metadata": {
      "application/vnd.databricks.v1+output": {
       "addedWidgets": {},
       "arguments": {},
       "data": "<div class=\"ansiout\"></div>",
       "datasetInfos": [],
       "metadata": {},
       "removedWidgets": [],
       "type": "html"
      }
     },
     "output_type": "display_data"
    }
   ],
   "source": [
    "import random\n",
    "import copy\n",
    "import time\n",
    "import pandas as pd\n",
    "import numpy as np\n",
    "import gc\n",
    "import re\n",
    "import torch\n",
    "\n",
    "#import spacy\n",
    "from tqdm import tqdm_notebook, tnrange\n",
    "from tqdm.auto import tqdm\n",
    "\n",
    "tqdm.pandas(desc='Progress')\n",
    "from collections import Counter\n",
    "\n",
    "from nltk import word_tokenize\n",
    "\n",
    "import torch.nn as nn\n",
    "import torch.optim as optim\n",
    "import torch.nn.functional as F\n",
    "from torch.utils.data import Dataset, DataLoader\n",
    "from torch.nn.utils.rnn import pack_padded_sequence, pad_packed_sequence\n",
    "from torch.autograd import Variable\n",
    "from sklearn.metrics import f1_score\n",
    "import os \n",
    "\n",
    "from keras.preprocessing.text import Tokenizer\n",
    "from keras.preprocessing.sequence import pad_sequences\n",
    "\n",
    "# cross validation and metrics\n",
    "from sklearn.model_selection import StratifiedKFold\n",
    "from sklearn.metrics import f1_score\n",
    "from torch.optim.optimizer import Optimizer\n",
    "\n",
    "from sklearn.preprocessing import StandardScaler\n",
    "from multiprocessing import  Pool\n",
    "from functools import partial\n",
    "import numpy as np\n",
    "from sklearn.decomposition import PCA\n",
    "import torch as t\n",
    "import torch.nn as nn\n",
    "import torch.nn.functional as F\n",
    "\n",
    "import matplotlib.pyplot as plt\n",
    "pd.options.mode.chained_assignment = None\n",
    "\n",
    "import plotly.express as px"
   ]
  },
  {
   "cell_type": "code",
   "execution_count": 0,
   "metadata": {
    "application/vnd.databricks.v1+cell": {
     "inputWidgets": {},
     "nuid": "a49d8919-c7cf-44b4-b330-c34a1e573295",
     "showTitle": false,
     "title": ""
    }
   },
   "outputs": [
    {
     "data": {
      "text/html": [
       "<style scoped>\n",
       "  .ansiout {\n",
       "    display: block;\n",
       "    unicode-bidi: embed;\n",
       "    white-space: pre-wrap;\n",
       "    word-wrap: break-word;\n",
       "    word-break: break-all;\n",
       "    font-family: \"Source Code Pro\", \"Menlo\", monospace;;\n",
       "    font-size: 13px;\n",
       "    color: #555;\n",
       "    margin-left: 4px;\n",
       "    line-height: 19px;\n",
       "  }\n",
       "</style>\n",
       "<div class=\"ansiout\"></div>"
      ]
     },
     "metadata": {
      "application/vnd.databricks.v1+output": {
       "addedWidgets": {},
       "arguments": {},
       "data": "<div class=\"ansiout\"></div>",
       "datasetInfos": [],
       "metadata": {},
       "removedWidgets": [],
       "type": "html"
      }
     },
     "output_type": "display_data"
    }
   ],
   "source": [
    "embed_size = 300 # how big is each word vector\n",
    "max_features = 120000 # how many unique words to use (i.e num rows in embedding vector)\n",
    "maxlen = 750 # max number of words in a question to use\n",
    "batch_size = 512 # how many samples to process at once\n",
    "n_epochs = 5 # how many times to iterate over all samples\n",
    "n_splits = 5 # Number of K-fold Splits\n",
    "SEED = 10\n",
    "debug = 0"
   ]
  },
  {
   "cell_type": "code",
   "execution_count": 0,
   "metadata": {
    "application/vnd.databricks.v1+cell": {
     "inputWidgets": {},
     "nuid": "e0bf39c4-c868-4050-8232-da2fc11b7f46",
     "showTitle": false,
     "title": ""
    }
   },
   "outputs": [
    {
     "data": {
      "text/html": [
       "<style scoped>\n",
       "  .ansiout {\n",
       "    display: block;\n",
       "    unicode-bidi: embed;\n",
       "    white-space: pre-wrap;\n",
       "    word-wrap: break-word;\n",
       "    word-break: break-all;\n",
       "    font-family: \"Source Code Pro\", \"Menlo\", monospace;;\n",
       "    font-size: 13px;\n",
       "    color: #555;\n",
       "    margin-left: 4px;\n",
       "    line-height: 19px;\n",
       "  }\n",
       "</style>\n",
       "<div class=\"ansiout\">Out[3]: </div>"
      ]
     },
     "metadata": {
      "application/vnd.databricks.v1+output": {
       "addedWidgets": {},
       "arguments": {},
       "data": "<div class=\"ansiout\">Out[3]: </div>",
       "datasetInfos": [],
       "metadata": {},
       "removedWidgets": [],
       "type": "html"
      }
     },
     "output_type": "display_data"
    },
    {
     "data": {
      "text/html": [
       "<div>\n",
       "<style scoped>\n",
       "    .dataframe tbody tr th:only-of-type {\n",
       "        vertical-align: middle;\n",
       "    }\n",
       "\n",
       "    .dataframe tbody tr th {\n",
       "        vertical-align: top;\n",
       "    }\n",
       "\n",
       "    .dataframe thead th {\n",
       "        text-align: right;\n",
       "    }\n",
       "</style>\n",
       "<table border=\"1\" class=\"dataframe\">\n",
       "  <thead>\n",
       "    <tr style=\"text-align: right;\">\n",
       "      <th></th>\n",
       "      <th>marketplace</th>\n",
       "      <th>customer_id</th>\n",
       "      <th>review_id</th>\n",
       "      <th>product_id</th>\n",
       "      <th>product_parent</th>\n",
       "      <th>product_title</th>\n",
       "      <th>product_category</th>\n",
       "      <th>star_rating</th>\n",
       "      <th>helpful_votes</th>\n",
       "      <th>total_votes</th>\n",
       "      <th>vine</th>\n",
       "      <th>verified_purchase</th>\n",
       "      <th>review_headline</th>\n",
       "      <th>review_body</th>\n",
       "      <th>review_date</th>\n",
       "      <th>Unnamed: 15</th>\n",
       "      <th>Unnamed: 16</th>\n",
       "      <th>Unnamed: 17</th>\n",
       "      <th>Unnamed: 18</th>\n",
       "      <th>Unnamed: 19</th>\n",
       "      <th>Unnamed: 20</th>\n",
       "      <th>Unnamed: 21</th>\n",
       "    </tr>\n",
       "  </thead>\n",
       "  <tbody>\n",
       "    <tr>\n",
       "      <th>0</th>\n",
       "      <td>US</td>\n",
       "      <td>20422322</td>\n",
       "      <td>R8MEA6IGAHO0B</td>\n",
       "      <td>B00MC4CED8</td>\n",
       "      <td>217304173</td>\n",
       "      <td>BlackVue DR600GW-PMP</td>\n",
       "      <td>Mobile_Electronics</td>\n",
       "      <td>5.0</td>\n",
       "      <td>0.0</td>\n",
       "      <td>0.0</td>\n",
       "      <td>N</td>\n",
       "      <td>Y</td>\n",
       "      <td>Very Happy!</td>\n",
       "      <td>As advertised. Everything works perfectly, I'm...</td>\n",
       "      <td>31/08/2015</td>\n",
       "      <td>NaN</td>\n",
       "      <td>NaN</td>\n",
       "      <td>NaN</td>\n",
       "      <td>NaN</td>\n",
       "      <td>NaN</td>\n",
       "      <td>NaN</td>\n",
       "      <td>NaN</td>\n",
       "    </tr>\n",
       "    <tr>\n",
       "      <th>1</th>\n",
       "      <td>US</td>\n",
       "      <td>40835037</td>\n",
       "      <td>R31LOQ8JGLPRLK</td>\n",
       "      <td>B00OQMFG1Q</td>\n",
       "      <td>137313254</td>\n",
       "      <td>GENSSI GSM / GPS Two Way Smart Phone Car Alarm...</td>\n",
       "      <td>Mobile_Electronics</td>\n",
       "      <td>5.0</td>\n",
       "      <td>0.0</td>\n",
       "      <td>1.0</td>\n",
       "      <td>N</td>\n",
       "      <td>Y</td>\n",
       "      <td>five star</td>\n",
       "      <td>it's great</td>\n",
       "      <td>31/08/2015</td>\n",
       "      <td>NaN</td>\n",
       "      <td>NaN</td>\n",
       "      <td>NaN</td>\n",
       "      <td>NaN</td>\n",
       "      <td>NaN</td>\n",
       "      <td>NaN</td>\n",
       "      <td>NaN</td>\n",
       "    </tr>\n",
       "    <tr>\n",
       "      <th>2</th>\n",
       "      <td>US</td>\n",
       "      <td>51469641</td>\n",
       "      <td>R2Y0MM9YE6OP3P</td>\n",
       "      <td>B00QERR5CY</td>\n",
       "      <td>82850235</td>\n",
       "      <td>iXCC Multi pack Lightning cable</td>\n",
       "      <td>Mobile_Electronics</td>\n",
       "      <td>5.0</td>\n",
       "      <td>0.0</td>\n",
       "      <td>0.0</td>\n",
       "      <td>N</td>\n",
       "      <td>Y</td>\n",
       "      <td>great cables</td>\n",
       "      <td>These work great and fit my life proof case fo...</td>\n",
       "      <td>31/08/2015</td>\n",
       "      <td>NaN</td>\n",
       "      <td>NaN</td>\n",
       "      <td>NaN</td>\n",
       "      <td>NaN</td>\n",
       "      <td>NaN</td>\n",
       "      <td>NaN</td>\n",
       "      <td>NaN</td>\n",
       "    </tr>\n",
       "    <tr>\n",
       "      <th>3</th>\n",
       "      <td>US</td>\n",
       "      <td>4332923</td>\n",
       "      <td>RRB9C05HDOD4O</td>\n",
       "      <td>B00QUFTPV4</td>\n",
       "      <td>221169481</td>\n",
       "      <td>abcGoodefgÂ® FBI Covert Acoustic Tube Earpiece...</td>\n",
       "      <td>Mobile_Electronics</td>\n",
       "      <td>4.0</td>\n",
       "      <td>0.0</td>\n",
       "      <td>0.0</td>\n",
       "      <td>N</td>\n",
       "      <td>Y</td>\n",
       "      <td>Work very well but couldn't get used to not he...</td>\n",
       "      <td>Work very well but couldn't get used to not he...</td>\n",
       "      <td>31/08/2015</td>\n",
       "      <td>NaN</td>\n",
       "      <td>NaN</td>\n",
       "      <td>NaN</td>\n",
       "      <td>NaN</td>\n",
       "      <td>NaN</td>\n",
       "      <td>NaN</td>\n",
       "      <td>NaN</td>\n",
       "    </tr>\n",
       "    <tr>\n",
       "      <th>4</th>\n",
       "      <td>US</td>\n",
       "      <td>44855305</td>\n",
       "      <td>R26I2RI1GFV8QG</td>\n",
       "      <td>B0067XVNTG</td>\n",
       "      <td>563475445</td>\n",
       "      <td>Generic Car Dashboard Video Camera Vehicle Vid...</td>\n",
       "      <td>Mobile_Electronics</td>\n",
       "      <td>2.0</td>\n",
       "      <td>0.0</td>\n",
       "      <td>0.0</td>\n",
       "      <td>N</td>\n",
       "      <td>Y</td>\n",
       "      <td>Cameras has battery issues</td>\n",
       "      <td>Be careful with these products, I have bought ...</td>\n",
       "      <td>31/08/2015</td>\n",
       "      <td>NaN</td>\n",
       "      <td>NaN</td>\n",
       "      <td>NaN</td>\n",
       "      <td>NaN</td>\n",
       "      <td>NaN</td>\n",
       "      <td>NaN</td>\n",
       "      <td>NaN</td>\n",
       "    </tr>\n",
       "  </tbody>\n",
       "</table>\n",
       "</div>"
      ]
     },
     "metadata": {
      "application/vnd.databricks.v1+output": {
       "addedWidgets": {},
       "arguments": {},
       "data": "<div>\n<style scoped>\n    .dataframe tbody tr th:only-of-type {\n        vertical-align: middle;\n    }\n\n    .dataframe tbody tr th {\n        vertical-align: top;\n    }\n\n    .dataframe thead th {\n        text-align: right;\n    }\n</style>\n<table border=\"1\" class=\"dataframe\">\n  <thead>\n    <tr style=\"text-align: right;\">\n      <th></th>\n      <th>marketplace</th>\n      <th>customer_id</th>\n      <th>review_id</th>\n      <th>product_id</th>\n      <th>product_parent</th>\n      <th>product_title</th>\n      <th>product_category</th>\n      <th>star_rating</th>\n      <th>helpful_votes</th>\n      <th>total_votes</th>\n      <th>vine</th>\n      <th>verified_purchase</th>\n      <th>review_headline</th>\n      <th>review_body</th>\n      <th>review_date</th>\n      <th>Unnamed: 15</th>\n      <th>Unnamed: 16</th>\n      <th>Unnamed: 17</th>\n      <th>Unnamed: 18</th>\n      <th>Unnamed: 19</th>\n      <th>Unnamed: 20</th>\n      <th>Unnamed: 21</th>\n    </tr>\n  </thead>\n  <tbody>\n    <tr>\n      <th>0</th>\n      <td>US</td>\n      <td>20422322</td>\n      <td>R8MEA6IGAHO0B</td>\n      <td>B00MC4CED8</td>\n      <td>217304173</td>\n      <td>BlackVue DR600GW-PMP</td>\n      <td>Mobile_Electronics</td>\n      <td>5.0</td>\n      <td>0.0</td>\n      <td>0.0</td>\n      <td>N</td>\n      <td>Y</td>\n      <td>Very Happy!</td>\n      <td>As advertised. Everything works perfectly, I'm...</td>\n      <td>31/08/2015</td>\n      <td>NaN</td>\n      <td>NaN</td>\n      <td>NaN</td>\n      <td>NaN</td>\n      <td>NaN</td>\n      <td>NaN</td>\n      <td>NaN</td>\n    </tr>\n    <tr>\n      <th>1</th>\n      <td>US</td>\n      <td>40835037</td>\n      <td>R31LOQ8JGLPRLK</td>\n      <td>B00OQMFG1Q</td>\n      <td>137313254</td>\n      <td>GENSSI GSM / GPS Two Way Smart Phone Car Alarm...</td>\n      <td>Mobile_Electronics</td>\n      <td>5.0</td>\n      <td>0.0</td>\n      <td>1.0</td>\n      <td>N</td>\n      <td>Y</td>\n      <td>five star</td>\n      <td>it's great</td>\n      <td>31/08/2015</td>\n      <td>NaN</td>\n      <td>NaN</td>\n      <td>NaN</td>\n      <td>NaN</td>\n      <td>NaN</td>\n      <td>NaN</td>\n      <td>NaN</td>\n    </tr>\n    <tr>\n      <th>2</th>\n      <td>US</td>\n      <td>51469641</td>\n      <td>R2Y0MM9YE6OP3P</td>\n      <td>B00QERR5CY</td>\n      <td>82850235</td>\n      <td>iXCC Multi pack Lightning cable</td>\n      <td>Mobile_Electronics</td>\n      <td>5.0</td>\n      <td>0.0</td>\n      <td>0.0</td>\n      <td>N</td>\n      <td>Y</td>\n      <td>great cables</td>\n      <td>These work great and fit my life proof case fo...</td>\n      <td>31/08/2015</td>\n      <td>NaN</td>\n      <td>NaN</td>\n      <td>NaN</td>\n      <td>NaN</td>\n      <td>NaN</td>\n      <td>NaN</td>\n      <td>NaN</td>\n    </tr>\n    <tr>\n      <th>3</th>\n      <td>US</td>\n      <td>4332923</td>\n      <td>RRB9C05HDOD4O</td>\n      <td>B00QUFTPV4</td>\n      <td>221169481</td>\n      <td>abcGoodefgÂ® FBI Covert Acoustic Tube Earpiece...</td>\n      <td>Mobile_Electronics</td>\n      <td>4.0</td>\n      <td>0.0</td>\n      <td>0.0</td>\n      <td>N</td>\n      <td>Y</td>\n      <td>Work very well but couldn't get used to not he...</td>\n      <td>Work very well but couldn't get used to not he...</td>\n      <td>31/08/2015</td>\n      <td>NaN</td>\n      <td>NaN</td>\n      <td>NaN</td>\n      <td>NaN</td>\n      <td>NaN</td>\n      <td>NaN</td>\n      <td>NaN</td>\n    </tr>\n    <tr>\n      <th>4</th>\n      <td>US</td>\n      <td>44855305</td>\n      <td>R26I2RI1GFV8QG</td>\n      <td>B0067XVNTG</td>\n      <td>563475445</td>\n      <td>Generic Car Dashboard Video Camera Vehicle Vid...</td>\n      <td>Mobile_Electronics</td>\n      <td>2.0</td>\n      <td>0.0</td>\n      <td>0.0</td>\n      <td>N</td>\n      <td>Y</td>\n      <td>Cameras has battery issues</td>\n      <td>Be careful with these products, I have bought ...</td>\n      <td>31/08/2015</td>\n      <td>NaN</td>\n      <td>NaN</td>\n      <td>NaN</td>\n      <td>NaN</td>\n      <td>NaN</td>\n      <td>NaN</td>\n      <td>NaN</td>\n    </tr>\n  </tbody>\n</table>\n</div>",
       "datasetInfos": [],
       "metadata": {},
       "removedWidgets": [],
       "textData": null,
       "type": "htmlSandbox"
      }
     },
     "output_type": "display_data"
    }
   ],
   "source": [
    "data = pd.read_csv(\"/dbfs/FileStore/amazon_reviews_us_Mobile_Electronics_v1_00.csv\", low_memory=False)\n",
    "data.head()"
   ]
  },
  {
   "cell_type": "code",
   "execution_count": 0,
   "metadata": {
    "application/vnd.databricks.v1+cell": {
     "inputWidgets": {},
     "nuid": "0f51f4ee-aed8-4312-b231-6cbd9142dd09",
     "showTitle": false,
     "title": ""
    }
   },
   "outputs": [
    {
     "data": {
      "text/html": [
       "<style scoped>\n",
       "  .ansiout {\n",
       "    display: block;\n",
       "    unicode-bidi: embed;\n",
       "    white-space: pre-wrap;\n",
       "    word-wrap: break-word;\n",
       "    word-break: break-all;\n",
       "    font-family: \"Source Code Pro\", \"Menlo\", monospace;;\n",
       "    font-size: 13px;\n",
       "    color: #555;\n",
       "    margin-left: 4px;\n",
       "    line-height: 19px;\n",
       "  }\n",
       "</style>\n",
       "<div class=\"ansiout\"></div>"
      ]
     },
     "metadata": {
      "application/vnd.databricks.v1+output": {
       "addedWidgets": {},
       "arguments": {},
       "data": "<div class=\"ansiout\"></div>",
       "datasetInfos": [],
       "metadata": {},
       "removedWidgets": [],
       "type": "html"
      }
     },
     "output_type": "display_data"
    }
   ],
   "source": [
    "data = data[['review_body','star_rating']]\n",
    "data.dropna(inplace=True)\n",
    "data['star_rating'] = data['star_rating'].astype(int)"
   ]
  },
  {
   "cell_type": "code",
   "execution_count": 0,
   "metadata": {
    "application/vnd.databricks.v1+cell": {
     "inputWidgets": {},
     "nuid": "e7afecd3-95f1-4230-bd4d-35e91f01f552",
     "showTitle": false,
     "title": ""
    }
   },
   "outputs": [
    {
     "data": {
      "text/html": [
       "<style scoped>\n",
       "  .ansiout {\n",
       "    display: block;\n",
       "    unicode-bidi: embed;\n",
       "    white-space: pre-wrap;\n",
       "    word-wrap: break-word;\n",
       "    word-break: break-all;\n",
       "    font-family: \"Source Code Pro\", \"Menlo\", monospace;;\n",
       "    font-size: 13px;\n",
       "    color: #555;\n",
       "    margin-left: 4px;\n",
       "    line-height: 19px;\n",
       "  }\n",
       "</style>\n",
       "<div class=\"ansiout\"></div>"
      ]
     },
     "metadata": {
      "application/vnd.databricks.v1+output": {
       "addedWidgets": {},
       "arguments": {},
       "data": "<div class=\"ansiout\"></div>",
       "datasetInfos": [],
       "metadata": {},
       "removedWidgets": [],
       "type": "html"
      }
     },
     "output_type": "display_data"
    }
   ],
   "source": [
    "### Over sampling to balance Dataset"
   ]
  },
  {
   "cell_type": "code",
   "execution_count": 0,
   "metadata": {
    "application/vnd.databricks.v1+cell": {
     "inputWidgets": {},
     "nuid": "f7796610-e26c-4445-9c2a-637897c6d998",
     "showTitle": false,
     "title": ""
    }
   },
   "outputs": [
    {
     "data": {
      "text/html": [
       "<style scoped>\n",
       "  .ansiout {\n",
       "    display: block;\n",
       "    unicode-bidi: embed;\n",
       "    white-space: pre-wrap;\n",
       "    word-wrap: break-word;\n",
       "    word-break: break-all;\n",
       "    font-family: \"Source Code Pro\", \"Menlo\", monospace;;\n",
       "    font-size: 13px;\n",
       "    color: #555;\n",
       "    margin-left: 4px;\n",
       "    line-height: 19px;\n",
       "  }\n",
       "</style>\n",
       "<div class=\"ansiout\">Out[6]: 5    52198\n",
       "4    18063\n",
       "1    17572\n",
       "3     9720\n",
       "2     7298\n",
       "Name: star_rating, dtype: int64</div>"
      ]
     },
     "metadata": {
      "application/vnd.databricks.v1+output": {
       "addedWidgets": {},
       "arguments": {},
       "data": "<div class=\"ansiout\">Out[6]: 5    52198\n4    18063\n1    17572\n3     9720\n2     7298\nName: star_rating, dtype: int64</div>",
       "datasetInfos": [],
       "metadata": {},
       "removedWidgets": [],
       "type": "html"
      }
     },
     "output_type": "display_data"
    }
   ],
   "source": [
    "data['star_rating'].value_counts()"
   ]
  },
  {
   "cell_type": "code",
   "execution_count": 0,
   "metadata": {
    "application/vnd.databricks.v1+cell": {
     "inputWidgets": {},
     "nuid": "5995d920-1fa4-4e5f-8786-aefeb6dd96b0",
     "showTitle": false,
     "title": ""
    }
   },
   "outputs": [
    {
     "data": {
      "text/html": [
       "<style scoped>\n",
       "  .ansiout {\n",
       "    display: block;\n",
       "    unicode-bidi: embed;\n",
       "    white-space: pre-wrap;\n",
       "    word-wrap: break-word;\n",
       "    word-break: break-all;\n",
       "    font-family: \"Source Code Pro\", \"Menlo\", monospace;;\n",
       "    font-size: 13px;\n",
       "    color: #555;\n",
       "    margin-left: 4px;\n",
       "    line-height: 19px;\n",
       "  }\n",
       "</style>\n",
       "<div class=\"ansiout\"></div>"
      ]
     },
     "metadata": {
      "application/vnd.databricks.v1+output": {
       "addedWidgets": {},
       "arguments": {},
       "data": "<div class=\"ansiout\"></div>",
       "datasetInfos": [],
       "metadata": {},
       "removedWidgets": [],
       "type": "html"
      }
     },
     "output_type": "display_data"
    }
   ],
   "source": [
    "data['len'] = data['review_body'].apply(lambda s : len(s))"
   ]
  },
  {
   "cell_type": "code",
   "execution_count": 0,
   "metadata": {
    "application/vnd.databricks.v1+cell": {
     "inputWidgets": {},
     "nuid": "e9127dbe-80c2-4e47-be7c-ce6a28ce44a7",
     "showTitle": false,
     "title": ""
    }
   },
   "outputs": [
    {
     "data": {
      "text/html": [
       "<style scoped>\n",
       "  .ansiout {\n",
       "    display: block;\n",
       "    unicode-bidi: embed;\n",
       "    white-space: pre-wrap;\n",
       "    word-wrap: break-word;\n",
       "    word-break: break-all;\n",
       "    font-family: \"Source Code Pro\", \"Menlo\", monospace;;\n",
       "    font-size: 13px;\n",
       "    color: #555;\n",
       "    margin-left: 4px;\n",
       "    line-height: 19px;\n",
       "  }\n",
       "</style>\n",
       "<div class=\"ansiout\"></div>"
      ]
     },
     "metadata": {
      "application/vnd.databricks.v1+output": {
       "addedWidgets": {},
       "arguments": {},
       "data": "<div class=\"ansiout\"></div>",
       "datasetInfos": [],
       "metadata": {},
       "removedWidgets": [],
       "type": "html"
      }
     },
     "output_type": "display_data"
    }
   ],
   "source": [
    "data  = data[data.len >1]"
   ]
  },
  {
   "cell_type": "code",
   "execution_count": 0,
   "metadata": {
    "application/vnd.databricks.v1+cell": {
     "inputWidgets": {},
     "nuid": "c2875302-490d-4c71-bd4b-f07a9e0d79ba",
     "showTitle": false,
     "title": ""
    }
   },
   "outputs": [
    {
     "data": {
      "text/html": [
       "<style scoped>\n",
       "  .ansiout {\n",
       "    display: block;\n",
       "    unicode-bidi: embed;\n",
       "    white-space: pre-wrap;\n",
       "    word-wrap: break-word;\n",
       "    word-break: break-all;\n",
       "    font-family: \"Source Code Pro\", \"Menlo\", monospace;;\n",
       "    font-size: 13px;\n",
       "    color: #555;\n",
       "    margin-left: 4px;\n",
       "    line-height: 19px;\n",
       "  }\n",
       "</style>\n",
       "<div class=\"ansiout\">Out[9]: </div>"
      ]
     },
     "metadata": {
      "application/vnd.databricks.v1+output": {
       "addedWidgets": {},
       "arguments": {},
       "data": "<div class=\"ansiout\">Out[9]: </div>",
       "datasetInfos": [],
       "metadata": {},
       "removedWidgets": [],
       "type": "html"
      }
     },
     "output_type": "display_data"
    },
    {
     "data": {
      "image/png": "[encoded data removed]"
     },
     "metadata": {
      "application/vnd.databricks.v1+output": {
       "addedWidgets": {},
       "arguments": {},
       "data": "data:image/png;base64,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",
       "datasetInfos": [],
       "metadata": {
        "imageDimensions": {
         "height": 248,
         "width": 401
        }
       },
       "removedWidgets": [],
       "type": "image"
      },
      "image/png": {
       "height": 248,
       "width": 401
      }
     },
     "output_type": "display_data"
    },
    {
     "data": {
      "text/html": [
       "<style scoped>\n",
       "  .ansiout {\n",
       "    display: block;\n",
       "    unicode-bidi: embed;\n",
       "    white-space: pre-wrap;\n",
       "    word-wrap: break-word;\n",
       "    word-break: break-all;\n",
       "    font-family: \"Source Code Pro\", \"Menlo\", monospace;;\n",
       "    font-size: 13px;\n",
       "    color: #555;\n",
       "    margin-left: 4px;\n",
       "    line-height: 19px;\n",
       "  }\n",
       "</style>\n",
       "<div class=\"ansiout\">&lt;AxesSubplot:ylabel=&#39;Frequency&#39;&gt;</div>"
      ]
     },
     "metadata": {
      "application/vnd.databricks.v1+output": {
       "addedWidgets": {},
       "arguments": {},
       "data": "<div class=\"ansiout\">&lt;AxesSubplot:ylabel=&#39;Frequency&#39;&gt;</div>",
       "datasetInfos": [],
       "metadata": {},
       "removedWidgets": [],
       "type": "html"
      }
     },
     "output_type": "display_data"
    }
   ],
   "source": [
    "data['len'].plot.hist(bins=100)"
   ]
  },
  {
   "cell_type": "code",
   "execution_count": 0,
   "metadata": {
    "application/vnd.databricks.v1+cell": {
     "inputWidgets": {},
     "nuid": "240f0e4d-3bdf-4218-aa2f-9846a6a99716",
     "showTitle": false,
     "title": ""
    }
   },
   "outputs": [
    {
     "data": {
      "text/html": [
       "<style scoped>\n",
       "  .ansiout {\n",
       "    display: block;\n",
       "    unicode-bidi: embed;\n",
       "    white-space: pre-wrap;\n",
       "    word-wrap: break-word;\n",
       "    word-break: break-all;\n",
       "    font-family: \"Source Code Pro\", \"Menlo\", monospace;;\n",
       "    font-size: 13px;\n",
       "    color: #555;\n",
       "    margin-left: 4px;\n",
       "    line-height: 19px;\n",
       "  }\n",
       "</style>\n",
       "<div class=\"ansiout\">Out[10]: 728.0</div>"
      ]
     },
     "metadata": {
      "application/vnd.databricks.v1+output": {
       "addedWidgets": {},
       "arguments": {},
       "data": "<div class=\"ansiout\">Out[10]: 728.0</div>",
       "datasetInfos": [],
       "metadata": {},
       "removedWidgets": [],
       "type": "html"
      }
     },
     "output_type": "display_data"
    }
   ],
   "source": [
    "data.len.quantile(0.9)"
   ]
  },
  {
   "cell_type": "code",
   "execution_count": 0,
   "metadata": {
    "application/vnd.databricks.v1+cell": {
     "inputWidgets": {},
     "nuid": "1fe21a00-2913-4c1f-90bd-e280d7b5d05e",
     "showTitle": false,
     "title": ""
    }
   },
   "outputs": [
    {
     "data": {
      "text/html": [
       "<style scoped>\n",
       "  .ansiout {\n",
       "    display: block;\n",
       "    unicode-bidi: embed;\n",
       "    white-space: pre-wrap;\n",
       "    word-wrap: break-word;\n",
       "    word-break: break-all;\n",
       "    font-family: \"Source Code Pro\", \"Menlo\", monospace;;\n",
       "    font-size: 13px;\n",
       "    color: #555;\n",
       "    margin-left: 4px;\n",
       "    line-height: 19px;\n",
       "  }\n",
       "</style>\n",
       "<div class=\"ansiout\">Out[11]: 5    52186\n",
       "4    18056\n",
       "1    17572\n",
       "3     9719\n",
       "2     7298\n",
       "Name: star_rating, dtype: int64</div>"
      ]
     },
     "metadata": {
      "application/vnd.databricks.v1+output": {
       "addedWidgets": {},
       "arguments": {},
       "data": "<div class=\"ansiout\">Out[11]: 5    52186\n4    18056\n1    17572\n3     9719\n2     7298\nName: star_rating, dtype: int64</div>",
       "datasetInfos": [],
       "metadata": {},
       "removedWidgets": [],
       "type": "html"
      }
     },
     "output_type": "display_data"
    }
   ],
   "source": [
    "data.star_rating.value_counts()"
   ]
  },
  {
   "cell_type": "markdown",
   "metadata": {
    "application/vnd.databricks.v1+cell": {
     "inputWidgets": {},
     "nuid": "33cbc266-8c0f-4ef1-8ade-6a8cd98f07f3",
     "showTitle": false,
     "title": ""
    }
   },
   "source": [
    "### Cleaning"
   ]
  },
  {
   "cell_type": "code",
   "execution_count": 0,
   "metadata": {
    "application/vnd.databricks.v1+cell": {
     "inputWidgets": {},
     "nuid": "f04f1334-ee8c-4a9f-9729-1d044c10f567",
     "showTitle": false,
     "title": ""
    }
   },
   "outputs": [
    {
     "data": {
      "text/html": [
       "<style scoped>\n",
       "  .ansiout {\n",
       "    display: block;\n",
       "    unicode-bidi: embed;\n",
       "    white-space: pre-wrap;\n",
       "    word-wrap: break-word;\n",
       "    word-break: break-all;\n",
       "    font-family: \"Source Code Pro\", \"Menlo\", monospace;;\n",
       "    font-size: 13px;\n",
       "    color: #555;\n",
       "    margin-left: 4px;\n",
       "    line-height: 19px;\n",
       "  }\n",
       "</style>\n",
       "<div class=\"ansiout\"></div>"
      ]
     },
     "metadata": {
      "application/vnd.databricks.v1+output": {
       "addedWidgets": {},
       "arguments": {},
       "data": "<div class=\"ansiout\"></div>",
       "datasetInfos": [],
       "metadata": {},
       "removedWidgets": [],
       "type": "html"
      }
     },
     "output_type": "display_data"
    }
   ],
   "source": [
    "import copy\n",
    "df = copy.deepcopy(data)"
   ]
  },
  {
   "cell_type": "code",
   "execution_count": 0,
   "metadata": {
    "application/vnd.databricks.v1+cell": {
     "inputWidgets": {},
     "nuid": "bd958970-470f-45fd-a248-cb97a513b7c1",
     "showTitle": false,
     "title": ""
    }
   },
   "outputs": [
    {
     "data": {
      "text/html": [
       "<style scoped>\n",
       "  .ansiout {\n",
       "    display: block;\n",
       "    unicode-bidi: embed;\n",
       "    white-space: pre-wrap;\n",
       "    word-wrap: break-word;\n",
       "    word-break: break-all;\n",
       "    font-family: \"Source Code Pro\", \"Menlo\", monospace;;\n",
       "    font-size: 13px;\n",
       "    color: #555;\n",
       "    margin-left: 4px;\n",
       "    line-height: 19px;\n",
       "  }\n",
       "</style>\n",
       "<div class=\"ansiout\"></div>"
      ]
     },
     "metadata": {
      "application/vnd.databricks.v1+output": {
       "addedWidgets": {},
       "arguments": {},
       "data": "<div class=\"ansiout\"></div>",
       "datasetInfos": [],
       "metadata": {},
       "removedWidgets": [],
       "type": "html"
      }
     },
     "output_type": "display_data"
    }
   ],
   "source": [
    "import re\n",
    "\n",
    "def clean_text(x):\n",
    "    pattern = r'[^a-zA-z0-9\\s]'\n",
    "    text = re.sub(pattern, '', x)\n",
    "    return x\n",
    "\n",
    "def clean_numbers(x):\n",
    "    if bool(re.search(r'\\d', x)):\n",
    "        x = re.sub('[0-9]{5,}', '#####', x)\n",
    "        x = re.sub('[0-9]{4}', '####', x)\n",
    "        x = re.sub('[0-9]{3}', '###', x)\n",
    "        x = re.sub('[0-9]{2}', '##', x)\n",
    "    return x\n",
    "def remove_punctuation(x):\n",
    "  new_string = re.sub(r'[^\\w\\s]', '', x)\n",
    "  return new_string\n",
    "  "
   ]
  },
  {
   "cell_type": "code",
   "execution_count": 0,
   "metadata": {
    "application/vnd.databricks.v1+cell": {
     "inputWidgets": {},
     "nuid": "3a8d5331-d57a-4eb6-ab1d-f50faf20a310",
     "showTitle": false,
     "title": ""
    }
   },
   "outputs": [
    {
     "data": {
      "text/html": [
       "<style scoped>\n",
       "  .ansiout {\n",
       "    display: block;\n",
       "    unicode-bidi: embed;\n",
       "    white-space: pre-wrap;\n",
       "    word-wrap: break-word;\n",
       "    word-break: break-all;\n",
       "    font-family: \"Source Code Pro\", \"Menlo\", monospace;;\n",
       "    font-size: 13px;\n",
       "    color: #555;\n",
       "    margin-left: 4px;\n",
       "    line-height: 19px;\n",
       "  }\n",
       "</style>\n",
       "<div class=\"ansiout\">Out[14]: &#39;this is a text with contraction&#39;</div>"
      ]
     },
     "metadata": {
      "application/vnd.databricks.v1+output": {
       "addedWidgets": {},
       "arguments": {},
       "data": "<div class=\"ansiout\">Out[14]: &#39;this is a text with contraction&#39;</div>",
       "datasetInfos": [],
       "metadata": {},
       "removedWidgets": [],
       "type": "html"
      }
     },
     "output_type": "display_data"
    }
   ],
   "source": [
    "contraction_dict = {\"ain't\": \"is not\", \"aren't\": \"are not\",\"can't\": \"cannot\", \"'cause\": \"because\", \"could've\": \"could have\", \"couldn't\": \"could not\", \"didn't\": \"did not\",  \"doesn't\": \"does not\", \"don't\": \"do not\", \"hadn't\": \"had not\", \"hasn't\": \"has not\", \"haven't\": \"have not\", \"he'd\": \"he would\",\"he'll\": \"he will\", \"he's\": \"he is\", \"how'd\": \"how did\", \"how'd'y\": \"how do you\", \"how'll\": \"how will\", \"how's\": \"how is\",  \"I'd\": \"I would\", \"I'd've\": \"I would have\", \"I'll\": \"I will\", \"I'll've\": \"I will have\",\"I'm\": \"I am\", \"I've\": \"I have\", \"i'd\": \"i would\", \"i'd've\": \"i would have\", \"i'll\": \"i will\",  \"i'll've\": \"i will have\",\"i'm\": \"i am\", \"i've\": \"i have\", \"isn't\": \"is not\", \"it'd\": \"it would\", \"it'd've\": \"it would have\", \"it'll\": \"it will\", \"it'll've\": \"it will have\",\"it's\": \"it is\", \"let's\": \"let us\", \"ma'am\": \"madam\", \"mayn't\": \"may not\", \"might've\": \"might have\",\"mightn't\": \"might not\",\"mightn't've\": \"might not have\", \"must've\": \"must have\", \"mustn't\": \"must not\", \"mustn't've\": \"must not have\", \"needn't\": \"need not\", \"needn't've\": \"need not have\",\"o'clock\": \"of the clock\", \"oughtn't\": \"ought not\", \"oughtn't've\": \"ought not have\", \"shan't\": \"shall not\", \"sha'n't\": \"shall not\", \"shan't've\": \"shall not have\", \"she'd\": \"she would\", \"she'd've\": \"she would have\", \"she'll\": \"she will\", \"she'll've\": \"she will have\", \"she's\": \"she is\", \"should've\": \"should have\", \"shouldn't\": \"should not\", \"shouldn't've\": \"should not have\", \"so've\": \"so have\",\"so's\": \"so as\", \"this's\": \"this is\",\"that'd\": \"that would\", \"that'd've\": \"that would have\", \"that's\": \"that is\", \"there'd\": \"there would\", \"there'd've\": \"there would have\", \"there's\": \"there is\", \"here's\": \"here is\",\"they'd\": \"they would\", \"they'd've\": \"they would have\", \"they'll\": \"they will\", \"they'll've\": \"they will have\", \"they're\": \"they are\", \"they've\": \"they have\", \"to've\": \"to have\", \"wasn't\": \"was not\", \"we'd\": \"we would\", \"we'd've\": \"we would have\", \"we'll\": \"we will\", \"we'll've\": \"we will have\", \"we're\": \"we are\", \"we've\": \"we have\", \"weren't\": \"were not\", \"what'll\": \"what will\", \"what'll've\": \"what will have\", \"what're\": \"what are\",  \"what's\": \"what is\", \"what've\": \"what have\", \"when's\": \"when is\", \"when've\": \"when have\", \"where'd\": \"where did\", \"where's\": \"where is\", \"where've\": \"where have\", \"who'll\": \"who will\", \"who'll've\": \"who will have\", \"who's\": \"who is\", \"who've\": \"who have\", \"why's\": \"why is\", \"why've\": \"why have\", \"will've\": \"will have\", \"won't\": \"will not\", \"won't've\": \"will not have\", \"would've\": \"would have\", \"wouldn't\": \"would not\", \"wouldn't've\": \"would not have\", \"y'all\": \"you all\", \"y'all'd\": \"you all would\",\"y'all'd've\": \"you all would have\",\"y'all're\": \"you all are\",\"y'all've\": \"you all have\",\"you'd\": \"you would\", \"you'd've\": \"you would have\", \"you'll\": \"you will\", \"you'll've\": \"you will have\", \"you're\": \"you are\", \"you've\": \"you have\"}\n",
    "def _get_contractions(contraction_dict):\n",
    "    contraction_re = re.compile('(%s)' % '|'.join(contraction_dict.keys()))\n",
    "    return contraction_dict, contraction_re\n",
    "contractions, contractions_re = _get_contractions(contraction_dict)\n",
    "def replace_contractions(text):\n",
    "    def replace(match):\n",
    "        return contractions[match.group(0)]\n",
    "    return contractions_re.sub(replace, text)\n",
    "# Usage\n",
    "replace_contractions(\"this's a text with contraction\")"
   ]
  },
  {
   "cell_type": "code",
   "execution_count": 0,
   "metadata": {
    "application/vnd.databricks.v1+cell": {
     "inputWidgets": {},
     "nuid": "737e68d1-1f75-4199-8393-0b8a70f952d5",
     "showTitle": false,
     "title": ""
    }
   },
   "outputs": [
    {
     "data": {
      "text/html": [
       "<style scoped>\n",
       "  .ansiout {\n",
       "    display: block;\n",
       "    unicode-bidi: embed;\n",
       "    white-space: pre-wrap;\n",
       "    word-wrap: break-word;\n",
       "    word-break: break-all;\n",
       "    font-family: \"Source Code Pro\", \"Menlo\", monospace;;\n",
       "    font-size: 13px;\n",
       "    color: #555;\n",
       "    margin-left: 4px;\n",
       "    line-height: 19px;\n",
       "  }\n",
       "</style>\n",
       "<div class=\"ansiout\"></div>"
      ]
     },
     "metadata": {
      "application/vnd.databricks.v1+output": {
       "addedWidgets": {},
       "arguments": {},
       "data": "<div class=\"ansiout\"></div>",
       "datasetInfos": [],
       "metadata": {},
       "removedWidgets": [],
       "type": "html"
      }
     },
     "output_type": "display_data"
    }
   ],
   "source": [
    "# lower the text\n",
    "df[\"review_body\"] = df[\"review_body\"].apply(lambda x: x.lower())\n",
    "\n",
    "# Clean the text\n",
    "df[\"review_body\"] = df[\"review_body\"].apply(lambda x: clean_text(x))\n",
    "\n",
    "# Clean numbers\n",
    "df[\"review_body\"] = df[\"review_body\"].apply(lambda x: clean_numbers(x))\n",
    "\n",
    "# Clean Contractions\n",
    "df[\"review_body\"] = df[\"review_body\"].apply(lambda x: replace_contractions(x))\n",
    "\n",
    "df[\"review_body\"] = df[\"review_body\"].apply(lambda x: remove_punctuation(x))"
   ]
  },
  {
   "cell_type": "code",
   "execution_count": 0,
   "metadata": {
    "application/vnd.databricks.v1+cell": {
     "inputWidgets": {},
     "nuid": "736c8422-b899-4488-9e2b-0f049d122b9f",
     "showTitle": false,
     "title": ""
    }
   },
   "outputs": [
    {
     "data": {
      "text/html": [
       "<style scoped>\n",
       "  .ansiout {\n",
       "    display: block;\n",
       "    unicode-bidi: embed;\n",
       "    white-space: pre-wrap;\n",
       "    word-wrap: break-word;\n",
       "    word-break: break-all;\n",
       "    font-family: \"Source Code Pro\", \"Menlo\", monospace;;\n",
       "    font-size: 13px;\n",
       "    color: #555;\n",
       "    margin-left: 4px;\n",
       "    line-height: 19px;\n",
       "  }\n",
       "</style>\n",
       "<div class=\"ansiout\">Out[16]: </div>"
      ]
     },
     "metadata": {
      "application/vnd.databricks.v1+output": {
       "addedWidgets": {},
       "arguments": {},
       "data": "<div class=\"ansiout\">Out[16]: </div>",
       "datasetInfos": [],
       "metadata": {},
       "removedWidgets": [],
       "type": "html"
      }
     },
     "output_type": "display_data"
    },
    {
     "data": {
      "text/html": [
       "<div>\n",
       "<style scoped>\n",
       "    .dataframe tbody tr th:only-of-type {\n",
       "        vertical-align: middle;\n",
       "    }\n",
       "\n",
       "    .dataframe tbody tr th {\n",
       "        vertical-align: top;\n",
       "    }\n",
       "\n",
       "    .dataframe thead th {\n",
       "        text-align: right;\n",
       "    }\n",
       "</style>\n",
       "<table border=\"1\" class=\"dataframe\">\n",
       "  <thead>\n",
       "    <tr style=\"text-align: right;\">\n",
       "      <th></th>\n",
       "      <th>review_body</th>\n",
       "      <th>star_rating</th>\n",
       "    </tr>\n",
       "  </thead>\n",
       "  <tbody>\n",
       "    <tr>\n",
       "      <th>14751</th>\n",
       "      <td>good</td>\n",
       "      <td>277</td>\n",
       "    </tr>\n",
       "    <tr>\n",
       "      <th>98629</th>\n",
       "      <td>works great</td>\n",
       "      <td>218</td>\n",
       "    </tr>\n",
       "    <tr>\n",
       "      <th>16607</th>\n",
       "      <td>great</td>\n",
       "      <td>203</td>\n",
       "    </tr>\n",
       "    <tr>\n",
       "      <th>11513</th>\n",
       "      <td>excellent</td>\n",
       "      <td>162</td>\n",
       "    </tr>\n",
       "    <tr>\n",
       "      <th>18169</th>\n",
       "      <td>great product</td>\n",
       "      <td>132</td>\n",
       "    </tr>\n",
       "    <tr>\n",
       "      <th>...</th>\n",
       "      <td>...</td>\n",
       "      <td>...</td>\n",
       "    </tr>\n",
       "    <tr>\n",
       "      <th>93589</th>\n",
       "      <td>very nice product</td>\n",
       "      <td>5</td>\n",
       "    </tr>\n",
       "    <tr>\n",
       "      <th>100615</th>\n",
       "      <td>yes</td>\n",
       "      <td>5</td>\n",
       "    </tr>\n",
       "    <tr>\n",
       "      <th>19513</th>\n",
       "      <td>great value</td>\n",
       "      <td>5</td>\n",
       "    </tr>\n",
       "    <tr>\n",
       "      <th>52171</th>\n",
       "      <td>item delivered on time was as described</td>\n",
       "      <td>5</td>\n",
       "    </tr>\n",
       "    <tr>\n",
       "      <th>14487</th>\n",
       "      <td>garbage</td>\n",
       "      <td>5</td>\n",
       "    </tr>\n",
       "  </tbody>\n",
       "</table>\n",
       "<p>120 rows × 2 columns</p>\n",
       "</div>"
      ]
     },
     "metadata": {
      "application/vnd.databricks.v1+output": {
       "addedWidgets": {},
       "arguments": {},
       "data": "<div>\n<style scoped>\n    .dataframe tbody tr th:only-of-type {\n        vertical-align: middle;\n    }\n\n    .dataframe tbody tr th {\n        vertical-align: top;\n    }\n\n    .dataframe thead th {\n        text-align: right;\n    }\n</style>\n<table border=\"1\" class=\"dataframe\">\n  <thead>\n    <tr style=\"text-align: right;\">\n      <th></th>\n      <th>review_body</th>\n      <th>star_rating</th>\n    </tr>\n  </thead>\n  <tbody>\n    <tr>\n      <th>14751</th>\n      <td>good</td>\n      <td>277</td>\n    </tr>\n    <tr>\n      <th>98629</th>\n      <td>works great</td>\n      <td>218</td>\n    </tr>\n    <tr>\n      <th>16607</th>\n      <td>great</td>\n      <td>203</td>\n    </tr>\n    <tr>\n      <th>11513</th>\n      <td>excellent</td>\n      <td>162</td>\n    </tr>\n    <tr>\n      <th>18169</th>\n      <td>great product</td>\n      <td>132</td>\n    </tr>\n    <tr>\n      <th>...</th>\n      <td>...</td>\n      <td>...</td>\n    </tr>\n    <tr>\n      <th>93589</th>\n      <td>very nice product</td>\n      <td>5</td>\n    </tr>\n    <tr>\n      <th>100615</th>\n      <td>yes</td>\n      <td>5</td>\n    </tr>\n    <tr>\n      <th>19513</th>\n      <td>great value</td>\n      <td>5</td>\n    </tr>\n    <tr>\n      <th>52171</th>\n      <td>item delivered on time was as described</td>\n      <td>5</td>\n    </tr>\n    <tr>\n      <th>14487</th>\n      <td>garbage</td>\n      <td>5</td>\n    </tr>\n  </tbody>\n</table>\n<p>120 rows × 2 columns</p>\n</div>",
       "datasetInfos": [],
       "metadata": {},
       "removedWidgets": [],
       "textData": null,
       "type": "htmlSandbox"
      }
     },
     "output_type": "display_data"
    }
   ],
   "source": [
    "count_df = df[['review_body','star_rating']].groupby('review_body').aggregate({'star_rating':'count'}).reset_index().sort_values('star_rating',ascending=False)\n",
    "count_df.head(120)"
   ]
  },
  {
   "cell_type": "code",
   "execution_count": 0,
   "metadata": {
    "application/vnd.databricks.v1+cell": {
     "inputWidgets": {},
     "nuid": "17714d36-3952-4c9a-86b0-37a77a55b1e7",
     "showTitle": false,
     "title": ""
    }
   },
   "outputs": [
    {
     "data": {
      "text/html": [
       "<style scoped>\n",
       "  .ansiout {\n",
       "    display: block;\n",
       "    unicode-bidi: embed;\n",
       "    white-space: pre-wrap;\n",
       "    word-wrap: break-word;\n",
       "    word-break: break-all;\n",
       "    font-family: \"Source Code Pro\", \"Menlo\", monospace;;\n",
       "    font-size: 13px;\n",
       "    color: #555;\n",
       "    margin-left: 4px;\n",
       "    line-height: 19px;\n",
       "  }\n",
       "</style>\n",
       "<div class=\"ansiout\">Out[17]: </div>"
      ]
     },
     "metadata": {
      "application/vnd.databricks.v1+output": {
       "addedWidgets": {},
       "arguments": {},
       "data": "<div class=\"ansiout\">Out[17]: </div>",
       "datasetInfos": [],
       "metadata": {},
       "removedWidgets": [],
       "type": "html"
      }
     },
     "output_type": "display_data"
    },
    {
     "data": {
      "text/html": [
       "<html>\n",
       "<head><meta charset=\"utf-8\" /></head>\n",
       "<body>\n",
       "    <div>            <script src=\"https://cdnjs.cloudflare.com/ajax/libs/mathjax/2.7.5/MathJax.js?config=TeX-AMS-MML_SVG\"></script><script type=\"text/javascript\">if (window.MathJax) {MathJax.Hub.Config({SVG: {font: \"STIX-Web\"}});}</script>                <script type=\"text/javascript\">window.PlotlyConfig = {MathJaxConfig: 'local'};</script>\n",
       "        <script src=\"https://cdn.plot.ly/plotly-2.4.1.min.js\"></script>                <div id=\"e6b24637-0189-42ca-b3be-f86c5f803562\" class=\"plotly-graph-div\" style=\"height:100%; width:100%;\"></div>            <script type=\"text/javascript\">                                    window.PLOTLYENV=window.PLOTLYENV || {};                                    if (document.getElementById(\"e6b24637-0189-42ca-b3be-f86c5f803562\")) {                    Plotly.newPlot(                        \"e6b24637-0189-42ca-b3be-f86c5f803562\",                        [{\"alignmentgroup\":\"True\",\"hovertemplate\":\"review_body=%{x}<br>star_rating=%{y}<extra></extra>\",\"legendgroup\":\"\",\"marker\":{\"color\":\"#636efa\",\"pattern\":{\"shape\":\"\"}},\"name\":\"\",\"offsetgroup\":\"\",\"orientation\":\"v\",\"showlegend\":false,\"textposition\":\"auto\",\"type\":\"bar\",\"x\":[\"good\",\"works great\",\"great\",\"excellent\",\"great product\",\"love it\",\"ok\",\"very good\",\"nice\",\"perfect\",\"good product\",\"thanks\",\"awesome\",\"excelente\",\"thank you\",\"works well\",\"excelent\",\"worked great\",\"excellent product\",\"i love it\",\"a\",\"junk\",\"very nice\",\"works\",\"works fine\",\"works perfectly\",\"works as advertised\",\"works good\",\"did not work\",\"as expected\",\"great item\",\"it works\",\"\",\"just what i needed\",\"does not work\",\"perfect fit\",\"so far so good\",\"as described\",\"loved it\",\"fine\",\"very good product\",\"as a buyer of wellover  baofeng radios and counting for the group i belong to not all of which were purchased through amazon but many were i am always amazed at the lengths some sellers go to to hype their products as being newer or better than other models or perhaps to give them the benefit of the doubt they just do not know any betterbr br first the baofeng uv5r series including the original and still extremely popular uv5r i will explain why in a minute is what is normally referred to by many as a sdr radio or software defined radio  while not a true sdr product you cannot use it with your computer to control the radios functions or scan a wide amount of vhfuhf frequencies with it none the less a large chip is programmed on the circuit board built inside each radio  that chip determines what capability the radio itself can performbr br every uv5r series radio has the ability to transmit from  mhz on vhf and from  mhz on uhf in both narrowband and wideband modes very useful for the occasional frs or murs use which requires narrowband mode to work correctlybr br every model does at least 4w on vhfuhf from the factory but occasionally you will get a batch that does 45w or even 5w out but the difference between 4w and 5w is minimal at best  a 4w radio with a better antenna will easily outperform a 5w radio with the standard crappy antenna that baofeng ships on all including the uv5ra 5rax and 5rax modelsbr br baofeng does not program those chips any differently for the uv5r vs any other uv5r series including the uv5ra  version  of the firmware which is the most current release i have in any of my radios works exactly the same way as previous older releases of firmware at least back to the  release over a year ago so any claim from a seller that this release provides additional features at least from a users perspective is simply bogus since the firmware inside both radios have the same features  in fact my uv5r radios with the  firmware release is exactly the same radio inside and within the firmware as my uv5ra radios with the  firmware releasebr br second you cannot in any way upgrade the firmware unless you count buying a different radio and it comes with a different firmware release so again the claim in the listing from some sellers that you can is simply bogusbr br third you can believe that two thinner pieces glued or screwed together on the faceplate of the uv5ra is somehow stronger than one thicker piece of plastic on the original uv5r series if you like and maybe it is but i have not seen that in realworld use from my own uv5ra units  the standard uv5r units that we use seem to hold up just as well when dropped in the desert dirt or rolling down a hill as any other baofeng radio we own and usebr br fourth and my biggest issue with all of the nonstandard uv5ra uv5rax and uv5rax units is that none of the baofeng battery accessories except the little  mah standard battery work without modification unless you use a dremel tool to grind or cut off part of your extended battery that works on the standard uv5r  but will not work on your uv5ra uv5rax or uv5raxbr br getting new uv5ra units that do not work with extended  mah batteries without modification does not make my group happy  that may not bother you but none of the sellers of the nonstandard uv5ra uv5rax and uv5rax units ever seem to mention that lack of hardware compatibility in their listings so buyer bewarebr br btw none of the aa or aaa battery shell packs work on the uv5ra uv5rax or uv5rax units either so that is 3 different battery accessories including the  mah extended battery that you cannot use on these radios without hacking them with a dremel tool but they all work without modification on the original uv5r unitsbr br so if you want a pretty radio as my wife calls it buy one of the various versions of the uv5ra or 5rax or 5rax with the shiny face plate and live with the fact that you will be modifying all of the battery accessories you buy later in order to get them to work  oh you should see how well that shiny faceplate lights up when a flashlight hits it in the dark just the thing you do not want for night usebr br virtually every guy in our group ends up carrying a standard uv5r and giving the uv5ra 5rax or 5rax to the wife or kids since the wife andor kids rarely care about the other accessories working and they the wife and kids tend to like the pretty radios but again there is no internal difference and no extra features in the uv5ra 5rax or 5rax units other than a different looking shiny faceplate vs the original and still wildly popular uv5r which i refer to as the m of radios as all the accessories you match it up with just plain workbr br now you know the real background on these radiosf you want a pretty radio as my wife calls it buy one of the various versions of the uv5ra or 5rax or 5rax with the shiny face plate and live with the fact that you will be modifying all of the battery accessories you buy later in order to get them to work  oh you should see how well that shiny faceplate lights up when a flashlight hits it in the dark just the thing you do not want for night usebr br virtually every guy in our group ends up carrying a standard uv5r and giving the uv5ra 5rax or 5rax to the wife or kids since the wife andor kids rarely care about the other accessories working and they the wife and kids tend to like the pretty radios but again there is no internal difference and no extra features in the uv5ra 5rax or 5rax units other than a different looking shiny faceplate vs the original and still wildly popular uv5r which i refer to as the m of radios as all the accessories you match it up with just plain workbr br now you know the real background on these radios\",\"works as expected\",\"i like it\",\"great sound\",\"not good\",\"good quality\",\"works perfect\",\"good deal\",\"exelente\",\"works ok\",\"awesome product\",\"good value\",\"good stuff\",\"it did not work\",\"\\u00f0\\u00ff\",\"cool\",\"my daughter loves it\",\"as advertised\",\"great case\",\"great price\",\"fit perfectly\",\"excelente producto\",\"it is ok\",\"like it\",\"work great\",\"super\",\"love them\",\"works like a charm\",\"love\",\"fits perfect\",\"bueno\",\"great quality\",\"gracias\",\"great deal\",\"good item\",\"nice product\",\"okay\",\"exelent\",\"does the job\",\"worked well\",\"nice case\",\"its ok\",\"excelent product\",\"works very well\",\"awsome\",\"love this\",\"not bad\",\"muy bueno\",\"very useful\",\"no good\",\"if you purchase memphis car audio products on the internet be advised  we will not honor any warranty claims on products purchased from internet sellers  we will not issue return authorization for products purchased online    we do this to protect our customers and our retailers we want you to enjoy the best performance possible from memphis car audio products purchasing memphis car audio products from an authorized retailer means you are guaranteed     genuine memphis car audio products not a knockoff imitation   the support of trained professional installers   superb warranty service should you ever need it   reliable technical information and support from memphis car audio  your retailer   smart product innovation and leading edge technology   excellent value for your money\",\"very satisfied\",\"great buy\",\"works as described\",\"amazing\",\"thank you very much\",\"does not work at all\",\"poor quality\",\"just what i was looking for\",\"they work great\",\"so cute\",\"cute\",\"great for the price\",\"sounds great\",\"exactly what i wanted\",\"good price\",\"all good\",\"it works great\",\"aaa\",\"fits perfectly\",\"i bought three new sandisk players in the last six yearsbr all went to hell after two yearsbr never again a sandisk player\",\"it is very good\",\"works as intended\",\"crap\",\"very nice product\",\"yes\",\"great value\",\"item delivered on time was as described\",\"garbage\",\"it was ok\",\"exactly what i needed\",\"pretty cool\",\"searched for an a laptop i get about  pages of this same speaker technical specs also list it as a laptop\",\"good buy\",\"they work\",\"good case\",\"good job\",\"bien\",\"great speakers\",\"great cover\",\"did not work at all\",\"easy to use\",\"i love this\",\"cheap\",\"wonderful\",\"bad\",\"worked fine\",\"not very loud\",\"not what i expected\",\"worked perfectly\",\"not working\",\"the best\",\"worked as advertised\"],\"xaxis\":\"x\",\"y\":[277,218,203,162,132,132,93,86,79,76,70,70,68,59,45,44,34,34,33,33,33,26,25,25,24,24,23,22,21,20,18,18,18,17,16,15,14,14,13,13,13,13,13,13,13,12,12,12,12,12,11,11,11,10,10,10,10,10,10,10,10,10,10,10,9,9,9,9,9,9,9,9,9,8,8,8,8,8,8,8,8,8,8,8,8,8,7,7,7,7,7,7,7,7,7,7,6,6,6,6,6,6,6,6,6,6,6,6,6,6,6,6,5,5,5,5,5,5,5,5,5,5,5,5,5,5,5,5,5,5,5,5,5,5,5,5,5,5,5,5,5,5,5,5],\"yaxis\":\"y\"}],                        {\"barmode\":\"relative\",\"legend\":{\"tracegroupgap\":0},\"margin\":{\"t\":60},\"template\":{\"data\":{\"bar\":[{\"error_x\":{\"color\":\"#2a3f5f\"},\"error_y\":{\"color\":\"#2a3f5f\"},\"marker\":{\"line\":{\"color\":\"#E5ECF6\",\"width\":0.5},\"pattern\":{\"fillmode\":\"overlay\",\"size\":10,\"solidity\":0.2}},\"type\":\"bar\"}],\"barpolar\":[{\"marker\":{\"line\":{\"color\":\"#E5ECF6\",\"width\":0.5},\"pattern\":{\"fillmode\":\"overlay\",\"size\":10,\"solidity\":0.2}},\"type\":\"barpolar\"}],\"carpet\":[{\"aaxis\":{\"endlinecolor\":\"#2a3f5f\",\"gridcolor\":\"white\",\"linecolor\":\"white\",\"minorgridcolor\":\"white\",\"startlinecolor\":\"#2a3f5f\"},\"baxis\":{\"endlinecolor\":\"#2a3f5f\",\"gridcolor\":\"white\",\"linecolor\":\"white\",\"minorgridcolor\":\"white\",\"startlinecolor\":\"#2a3f5f\"},\"type\":\"carpet\"}],\"choropleth\":[{\"colorbar\":{\"outlinewidth\":0,\"ticks\":\"\"},\"type\":\"choropleth\"}],\"contour\":[{\"colorbar\":{\"outlinewidth\":0,\"ticks\":\"\"},\"colorscale\":[[0.0,\"#0d0887\"],[0.1111111111111111,\"#46039f\"],[0.2222222222222222,\"#7201a8\"],[0.3333333333333333,\"#9c179e\"],[0.4444444444444444,\"#bd3786\"],[0.5555555555555556,\"#d8576b\"],[0.6666666666666666,\"#ed7953\"],[0.7777777777777778,\"#fb9f3a\"],[0.8888888888888888,\"#fdca26\"],[1.0,\"#f0f921\"]],\"type\":\"contour\"}],\"contourcarpet\":[{\"colorbar\":{\"outlinewidth\":0,\"ticks\":\"\"},\"type\":\"contourcarpet\"}],\"heatmap\":[{\"colorbar\":{\"outlinewidth\":0,\"ticks\":\"\"},\"colorscale\":[[0.0,\"#0d0887\"],[0.1111111111111111,\"#46039f\"],[0.2222222222222222,\"#7201a8\"],[0.3333333333333333,\"#9c179e\"],[0.4444444444444444,\"#bd3786\"],[0.5555555555555556,\"#d8576b\"],[0.6666666666666666,\"#ed7953\"],[0.7777777777777778,\"#fb9f3a\"],[0.8888888888888888,\"#fdca26\"],[1.0,\"#f0f921\"]],\"type\":\"heatmap\"}],\"heatmapgl\":[{\"colorbar\":{\"outlinewidth\":0,\"ticks\":\"\"},\"colorscale\":[[0.0,\"#0d0887\"],[0.1111111111111111,\"#46039f\"],[0.2222222222222222,\"#7201a8\"],[0.3333333333333333,\"#9c179e\"],[0.4444444444444444,\"#bd3786\"],[0.5555555555555556,\"#d8576b\"],[0.6666666666666666,\"#ed7953\"],[0.7777777777777778,\"#fb9f3a\"],[0.8888888888888888,\"#fdca26\"],[1.0,\"#f0f921\"]],\"type\":\"heatmapgl\"}],\"histogram\":[{\"marker\":{\"pattern\":{\"fillmode\":\"overlay\",\"size\":10,\"solidity\":0.2}},\"type\":\"histogram\"}],\"histogram2d\":[{\"colorbar\":{\"outlinewidth\":0,\"ticks\":\"\"},\"colorscale\":[[0.0,\"#0d0887\"],[0.1111111111111111,\"#46039f\"],[0.2222222222222222,\"#7201a8\"],[0.3333333333333333,\"#9c179e\"],[0.4444444444444444,\"#bd3786\"],[0.5555555555555556,\"#d8576b\"],[0.6666666666666666,\"#ed7953\"],[0.7777777777777778,\"#fb9f3a\"],[0.8888888888888888,\"#fdca26\"],[1.0,\"#f0f921\"]],\"type\":\"histogram2d\"}],\"histogram2dcontour\":[{\"colorbar\":{\"outlinewidth\":0,\"ticks\":\"\"},\"colorscale\":[[0.0,\"#0d0887\"],[0.1111111111111111,\"#46039f\"],[0.2222222222222222,\"#7201a8\"],[0.3333333333333333,\"#9c179e\"],[0.4444444444444444,\"#bd3786\"],[0.5555555555555556,\"#d8576b\"],[0.6666666666666666,\"#ed7953\"],[0.7777777777777778,\"#fb9f3a\"],[0.8888888888888888,\"#fdca26\"],[1.0,\"#f0f921\"]],\"type\":\"histogram2dcontour\"}],\"mesh3d\":[{\"colorbar\":{\"outlinewidth\":0,\"ticks\":\"\"},\"type\":\"mesh3d\"}],\"parcoords\":[{\"line\":{\"colorbar\":{\"outlinewidth\":0,\"ticks\":\"\"}},\"type\":\"parcoords\"}],\"pie\":[{\"automargin\":true,\"type\":\"pie\"}],\"scatter\":[{\"marker\":{\"colorbar\":{\"outlinewidth\":0,\"ticks\":\"\"}},\"type\":\"scatter\"}],\"scatter3d\":[{\"line\":{\"colorbar\":{\"outlinewidth\":0,\"ticks\":\"\"}},\"marker\":{\"colorbar\":{\"outlinewidth\":0,\"ticks\":\"\"}},\"type\":\"scatter3d\"}],\"scattercarpet\":[{\"marker\":{\"colorbar\":{\"outlinewidth\":0,\"ticks\":\"\"}},\"type\":\"scattercarpet\"}],\"scattergeo\":[{\"marker\":{\"colorbar\":{\"outlinewidth\":0,\"ticks\":\"\"}},\"type\":\"scattergeo\"}],\"scattergl\":[{\"marker\":{\"colorbar\":{\"outlinewidth\":0,\"ticks\":\"\"}},\"type\":\"scattergl\"}],\"scattermapbox\":[{\"marker\":{\"colorbar\":{\"outlinewidth\":0,\"ticks\":\"\"}},\"type\":\"scattermapbox\"}],\"scatterpolar\":[{\"marker\":{\"colorbar\":{\"outlinewidth\":0,\"ticks\":\"\"}},\"type\":\"scatterpolar\"}],\"scatterpolargl\":[{\"marker\":{\"colorbar\":{\"outlinewidth\":0,\"ticks\":\"\"}},\"type\":\"scatterpolargl\"}],\"scatterternary\":[{\"marker\":{\"colorbar\":{\"outlinewidth\":0,\"ticks\":\"\"}},\"type\":\"scatterternary\"}],\"surface\":[{\"colorbar\":{\"outlinewidth\":0,\"ticks\":\"\"},\"colorscale\":[[0.0,\"#0d0887\"],[0.1111111111111111,\"#46039f\"],[0.2222222222222222,\"#7201a8\"],[0.3333333333333333,\"#9c179e\"],[0.4444444444444444,\"#bd3786\"],[0.5555555555555556,\"#d8576b\"],[0.6666666666666666,\"#ed7953\"],[0.7777777777777778,\"#fb9f3a\"],[0.8888888888888888,\"#fdca26\"],[1.0,\"#f0f921\"]],\"type\":\"surface\"}],\"table\":[{\"cells\":{\"fill\":{\"color\":\"#EBF0F8\"},\"line\":{\"color\":\"white\"}},\"header\":{\"fill\":{\"color\":\"#C8D4E3\"},\"line\":{\"color\":\"white\"}},\"type\":\"table\"}]},\"layout\":{\"annotationdefaults\":{\"arrowcolor\":\"#2a3f5f\",\"arrowhead\":0,\"arrowwidth\":1},\"autotypenumbers\":\"strict\",\"coloraxis\":{\"colorbar\":{\"outlinewidth\":0,\"ticks\":\"\"}},\"colorscale\":{\"diverging\":[[0,\"#8e0152\"],[0.1,\"#c51b7d\"],[0.2,\"#de77ae\"],[0.3,\"#f1b6da\"],[0.4,\"#fde0ef\"],[0.5,\"#f7f7f7\"],[0.6,\"#e6f5d0\"],[0.7,\"#b8e186\"],[0.8,\"#7fbc41\"],[0.9,\"#4d9221\"],[1,\"#276419\"]],\"sequential\":[[0.0,\"#0d0887\"],[0.1111111111111111,\"#46039f\"],[0.2222222222222222,\"#7201a8\"],[0.3333333333333333,\"#9c179e\"],[0.4444444444444444,\"#bd3786\"],[0.5555555555555556,\"#d8576b\"],[0.6666666666666666,\"#ed7953\"],[0.7777777777777778,\"#fb9f3a\"],[0.8888888888888888,\"#fdca26\"],[1.0,\"#f0f921\"]],\"sequentialminus\":[[0.0,\"#0d0887\"],[0.1111111111111111,\"#46039f\"],[0.2222222222222222,\"#7201a8\"],[0.3333333333333333,\"#9c179e\"],[0.4444444444444444,\"#bd3786\"],[0.5555555555555556,\"#d8576b\"],[0.6666666666666666,\"#ed7953\"],[0.7777777777777778,\"#fb9f3a\"],[0.8888888888888888,\"#fdca26\"],[1.0,\"#f0f921\"]]},\"colorway\":[\"#636efa\",\"#EF553B\",\"#00cc96\",\"#ab63fa\",\"#FFA15A\",\"#19d3f3\",\"#FF6692\",\"#B6E880\",\"#FF97FF\",\"#FECB52\"],\"font\":{\"color\":\"#2a3f5f\"},\"geo\":{\"bgcolor\":\"white\",\"lakecolor\":\"white\",\"landcolor\":\"#E5ECF6\",\"showlakes\":true,\"showland\":true,\"subunitcolor\":\"white\"},\"hoverlabel\":{\"align\":\"left\"},\"hovermode\":\"closest\",\"mapbox\":{\"style\":\"light\"},\"paper_bgcolor\":\"white\",\"plot_bgcolor\":\"#E5ECF6\",\"polar\":{\"angularaxis\":{\"gridcolor\":\"white\",\"linecolor\":\"white\",\"ticks\":\"\"},\"bgcolor\":\"#E5ECF6\",\"radialaxis\":{\"gridcolor\":\"white\",\"linecolor\":\"white\",\"ticks\":\"\"}},\"scene\":{\"xaxis\":{\"backgroundcolor\":\"#E5ECF6\",\"gridcolor\":\"white\",\"gridwidth\":2,\"linecolor\":\"white\",\"showbackground\":true,\"ticks\":\"\",\"zerolinecolor\":\"white\"},\"yaxis\":{\"backgroundcolor\":\"#E5ECF6\",\"gridcolor\":\"white\",\"gridwidth\":2,\"linecolor\":\"white\",\"showbackground\":true,\"ticks\":\"\",\"zerolinecolor\":\"white\"},\"zaxis\":{\"backgroundcolor\":\"#E5ECF6\",\"gridcolor\":\"white\",\"gridwidth\":2,\"linecolor\":\"white\",\"showbackground\":true,\"ticks\":\"\",\"zerolinecolor\":\"white\"}},\"shapedefaults\":{\"line\":{\"color\":\"#2a3f5f\"}},\"ternary\":{\"aaxis\":{\"gridcolor\":\"white\",\"linecolor\":\"white\",\"ticks\":\"\"},\"baxis\":{\"gridcolor\":\"white\",\"linecolor\":\"white\",\"ticks\":\"\"},\"bgcolor\":\"#E5ECF6\",\"caxis\":{\"gridcolor\":\"white\",\"linecolor\":\"white\",\"ticks\":\"\"}},\"title\":{\"x\":0.05},\"xaxis\":{\"automargin\":true,\"gridcolor\":\"white\",\"linecolor\":\"white\",\"ticks\":\"\",\"title\":{\"standoff\":15},\"zerolinecolor\":\"white\",\"zerolinewidth\":2},\"yaxis\":{\"automargin\":true,\"gridcolor\":\"white\",\"linecolor\":\"white\",\"ticks\":\"\",\"title\":{\"standoff\":15},\"zerolinecolor\":\"white\",\"zerolinewidth\":2}}},\"xaxis\":{\"anchor\":\"y\",\"domain\":[0.0,1.0],\"title\":{\"text\":\"review_body\"}},\"yaxis\":{\"anchor\":\"x\",\"domain\":[0.0,1.0],\"title\":{\"text\":\"star_rating\"}}},                        {\"responsive\": true}                    )                };                            </script>        </div>\n",
       "</body>\n",
       "</html>"
      ]
     },
     "metadata": {
      "application/vnd.databricks.v1+output": {
       "addedWidgets": {},
       "arguments": {},
       "data": "<html>\n<head><meta charset=\"utf-8\" /></head>\n<body>\n    <div>            <script src=\"https://cdnjs.cloudflare.com/ajax/libs/mathjax/2.7.5/MathJax.js?config=TeX-AMS-MML_SVG\"></script><script type=\"text/javascript\">if (window.MathJax) {MathJax.Hub.Config({SVG: {font: \"STIX-Web\"}});}</script>                <script type=\"text/javascript\">window.PlotlyConfig = {MathJaxConfig: 'local'};</script>\n        <script src=\"https://cdn.plot.ly/plotly-2.4.1.min.js\"></script>                <div id=\"e6b24637-0189-42ca-b3be-f86c5f803562\" class=\"plotly-graph-div\" style=\"height:100%; width:100%;\"></div>            <script type=\"text/javascript\">                                    window.PLOTLYENV=window.PLOTLYENV || {};                                    if (document.getElementById(\"e6b24637-0189-42ca-b3be-f86c5f803562\")) {                    Plotly.newPlot(                        \"e6b24637-0189-42ca-b3be-f86c5f803562\",                        [{\"alignmentgroup\":\"True\",\"hovertemplate\":\"review_body=%{x}<br>star_rating=%{y}<extra></extra>\",\"legendgroup\":\"\",\"marker\":{\"color\":\"#636efa\",\"pattern\":{\"shape\":\"\"}},\"name\":\"\",\"offsetgroup\":\"\",\"orientation\":\"v\",\"showlegend\":false,\"textposition\":\"auto\",\"type\":\"bar\",\"x\":[\"good\",\"works great\",\"great\",\"excellent\",\"great product\",\"love it\",\"ok\",\"very good\",\"nice\",\"perfect\",\"good product\",\"thanks\",\"awesome\",\"excelente\",\"thank you\",\"works well\",\"excelent\",\"worked great\",\"excellent product\",\"i love it\",\"a\",\"junk\",\"very nice\",\"works\",\"works fine\",\"works perfectly\",\"works as advertised\",\"works good\",\"did not work\",\"as expected\",\"great item\",\"it works\",\"\",\"just what i needed\",\"does not work\",\"perfect fit\",\"so far so good\",\"as described\",\"loved it\",\"fine\",\"very good product\",\"as a buyer of wellover  baofeng radios and counting for the group i belong to not all of which were purchased through amazon but many were i am always amazed at the lengths some sellers go to to hype their products as being newer or better than other models or perhaps to give them the benefit of the doubt they just do not know any betterbr br first the baofeng uv5r series including the original and still extremely popular uv5r i will explain why in a minute is what is normally referred to by many as a sdr radio or software defined radio  while not a true sdr product you cannot use it with your computer to control the radios functions or scan a wide amount of vhfuhf frequencies with it none the less a large chip is programmed on the circuit board built inside each radio  that chip determines what capability the radio itself can performbr br every uv5r series radio has the ability to transmit from  mhz on vhf and from  mhz on uhf in both narrowband and wideband modes very useful for the occasional frs or murs use which requires narrowband mode to work correctlybr br every model does at least 4w on vhfuhf from the factory but occasionally you will get a batch that does 45w or even 5w out but the difference between 4w and 5w is minimal at best  a 4w radio with a better antenna will easily outperform a 5w radio with the standard crappy antenna that baofeng ships on all including the uv5ra 5rax and 5rax modelsbr br baofeng does not program those chips any differently for the uv5r vs any other uv5r series including the uv5ra  version  of the firmware which is the most current release i have in any of my radios works exactly the same way as previous older releases of firmware at least back to the  release over a year ago so any claim from a seller that this release provides additional features at least from a users perspective is simply bogus since the firmware inside both radios have the same features  in fact my uv5r radios with the  firmware release is exactly the same radio inside and within the firmware as my uv5ra radios with the  firmware releasebr br second you cannot in any way upgrade the firmware unless you count buying a different radio and it comes with a different firmware release so again the claim in the listing from some sellers that you can is simply bogusbr br third you can believe that two thinner pieces glued or screwed together on the faceplate of the uv5ra is somehow stronger than one thicker piece of plastic on the original uv5r series if you like and maybe it is but i have not seen that in realworld use from my own uv5ra units  the standard uv5r units that we use seem to hold up just as well when dropped in the desert dirt or rolling down a hill as any other baofeng radio we own and usebr br fourth and my biggest issue with all of the nonstandard uv5ra uv5rax and uv5rax units is that none of the baofeng battery accessories except the little  mah standard battery work without modification unless you use a dremel tool to grind or cut off part of your extended battery that works on the standard uv5r  but will not work on your uv5ra uv5rax or uv5raxbr br getting new uv5ra units that do not work with extended  mah batteries without modification does not make my group happy  that may not bother you but none of the sellers of the nonstandard uv5ra uv5rax and uv5rax units ever seem to mention that lack of hardware compatibility in their listings so buyer bewarebr br btw none of the aa or aaa battery shell packs work on the uv5ra uv5rax or uv5rax units either so that is 3 different battery accessories including the  mah extended battery that you cannot use on these radios without hacking them with a dremel tool but they all work without modification on the original uv5r unitsbr br so if you want a pretty radio as my wife calls it buy one of the various versions of the uv5ra or 5rax or 5rax with the shiny face plate and live with the fact that you will be modifying all of the battery accessories you buy later in order to get them to work  oh you should see how well that shiny faceplate lights up when a flashlight hits it in the dark just the thing you do not want for night usebr br virtually every guy in our group ends up carrying a standard uv5r and giving the uv5ra 5rax or 5rax to the wife or kids since the wife andor kids rarely care about the other accessories working and they the wife and kids tend to like the pretty radios but again there is no internal difference and no extra features in the uv5ra 5rax or 5rax units other than a different looking shiny faceplate vs the original and still wildly popular uv5r which i refer to as the m of radios as all the accessories you match it up with just plain workbr br now you know the real background on these radiosf you want a pretty radio as my wife calls it buy one of the various versions of the uv5ra or 5rax or 5rax with the shiny face plate and live with the fact that you will be modifying all of the battery accessories you buy later in order to get them to work  oh you should see how well that shiny faceplate lights up when a flashlight hits it in the dark just the thing you do not want for night usebr br virtually every guy in our group ends up carrying a standard uv5r and giving the uv5ra 5rax or 5rax to the wife or kids since the wife andor kids rarely care about the other accessories working and they the wife and kids tend to like the pretty radios but again there is no internal difference and no extra features in the uv5ra 5rax or 5rax units other than a different looking shiny faceplate vs the original and still wildly popular uv5r which i refer to as the m of radios as all the accessories you match it up with just plain workbr br now you know the real background on these radios\",\"works as expected\",\"i like it\",\"great sound\",\"not good\",\"good quality\",\"works perfect\",\"good deal\",\"exelente\",\"works ok\",\"awesome product\",\"good value\",\"good stuff\",\"it did not work\",\"\\u00f0\\u00ff\",\"cool\",\"my daughter loves it\",\"as advertised\",\"great case\",\"great price\",\"fit perfectly\",\"excelente producto\",\"it is ok\",\"like it\",\"work great\",\"super\",\"love them\",\"works like a charm\",\"love\",\"fits perfect\",\"bueno\",\"great quality\",\"gracias\",\"great deal\",\"good item\",\"nice product\",\"okay\",\"exelent\",\"does the job\",\"worked well\",\"nice case\",\"its ok\",\"excelent product\",\"works very well\",\"awsome\",\"love this\",\"not bad\",\"muy bueno\",\"very useful\",\"no good\",\"if you purchase memphis car audio products on the internet be advised  we will not honor any warranty claims on products purchased from internet sellers  we will not issue return authorization for products purchased online    we do this to protect our customers and our retailers we want you to enjoy the best performance possible from memphis car audio products purchasing memphis car audio products from an authorized retailer means you are guaranteed     genuine memphis car audio products not a knockoff imitation   the support of trained professional installers   superb warranty service should you ever need it   reliable technical information and support from memphis car audio  your retailer   smart product innovation and leading edge technology   excellent value for your money\",\"very satisfied\",\"great buy\",\"works as described\",\"amazing\",\"thank you very much\",\"does not work at all\",\"poor quality\",\"just what i was looking for\",\"they work great\",\"so cute\",\"cute\",\"great for the price\",\"sounds great\",\"exactly what i wanted\",\"good price\",\"all good\",\"it works great\",\"aaa\",\"fits perfectly\",\"i bought three new sandisk players in the last six yearsbr all went to hell after two yearsbr never again a sandisk player\",\"it is very good\",\"works as intended\",\"crap\",\"very nice product\",\"yes\",\"great value\",\"item delivered on time was as described\",\"garbage\",\"it was ok\",\"exactly what i needed\",\"pretty cool\",\"searched for an a laptop i get about  pages of this same speaker technical specs also list it as a laptop\",\"good buy\",\"they work\",\"good case\",\"good job\",\"bien\",\"great speakers\",\"great cover\",\"did not work at all\",\"easy to use\",\"i love this\",\"cheap\",\"wonderful\",\"bad\",\"worked fine\",\"not very loud\",\"not what i expected\",\"worked perfectly\",\"not working\",\"the best\",\"worked as advertised\"],\"xaxis\":\"x\",\"y\":[277,218,203,162,132,132,93,86,79,76,70,70,68,59,45,44,34,34,33,33,33,26,25,25,24,24,23,22,21,20,18,18,18,17,16,15,14,14,13,13,13,13,13,13,13,12,12,12,12,12,11,11,11,10,10,10,10,10,10,10,10,10,10,10,9,9,9,9,9,9,9,9,9,8,8,8,8,8,8,8,8,8,8,8,8,8,7,7,7,7,7,7,7,7,7,7,6,6,6,6,6,6,6,6,6,6,6,6,6,6,6,6,5,5,5,5,5,5,5,5,5,5,5,5,5,5,5,5,5,5,5,5,5,5,5,5,5,5,5,5,5,5,5,5],\"yaxis\":\"y\"}],                        {\"barmode\":\"relative\",\"legend\":{\"tracegroupgap\":0},\"margin\":{\"t\":60},\"template\":{\"data\":{\"bar\":[{\"error_x\":{\"color\":\"#2a3f5f\"},\"error_y\":{\"color\":\"#2a3f5f\"},\"marker\":{\"line\":{\"color\":\"#E5ECF6\",\"width\":0.5},\"pattern\":{\"fillmode\":\"overlay\",\"size\":10,\"solidity\":0.2}},\"type\":\"bar\"}],\"barpolar\":[{\"marker\":{\"line\":{\"color\":\"#E5ECF6\",\"width\":0.5},\"pattern\":{\"fillmode\":\"overlay\",\"size\":10,\"solidity\":0.2}},\"type\":\"barpolar\"}],\"carpet\":[{\"aaxis\":{\"endlinecolor\":\"#2a3f5f\",\"gridcolor\":\"white\",\"linecolor\":\"white\",\"minorgridcolor\":\"white\",\"startlinecolor\":\"#2a3f5f\"},\"baxis\":{\"endlinecolor\":\"#2a3f5f\",\"gridcolor\":\"white\",\"linecolor\":\"white\",\"minorgridcolor\":\"white\",\"startlinecolor\":\"#2a3f5f\"},\"type\":\"carpet\"}],\"choropleth\":[{\"colorbar\":{\"outlinewidth\":0,\"ticks\":\"\"},\"type\":\"choropleth\"}],\"contour\":[{\"colorbar\":{\"outlinewidth\":0,\"ticks\":\"\"},\"colorscale\":[[0.0,\"#0d0887\"],[0.1111111111111111,\"#46039f\"],[0.2222222222222222,\"#7201a8\"],[0.3333333333333333,\"#9c179e\"],[0.4444444444444444,\"#bd3786\"],[0.5555555555555556,\"#d8576b\"],[0.6666666666666666,\"#ed7953\"],[0.7777777777777778,\"#fb9f3a\"],[0.8888888888888888,\"#fdca26\"],[1.0,\"#f0f921\"]],\"type\":\"contour\"}],\"contourcarpet\":[{\"colorbar\":{\"outlinewidth\":0,\"ticks\":\"\"},\"type\":\"contourcarpet\"}],\"heatmap\":[{\"colorbar\":{\"outlinewidth\":0,\"ticks\":\"\"},\"colorscale\":[[0.0,\"#0d0887\"],[0.1111111111111111,\"#46039f\"],[0.2222222222222222,\"#7201a8\"],[0.3333333333333333,\"#9c179e\"],[0.4444444444444444,\"#bd3786\"],[0.5555555555555556,\"#d8576b\"],[0.6666666666666666,\"#ed7953\"],[0.7777777777777778,\"#fb9f3a\"],[0.8888888888888888,\"#fdca26\"],[1.0,\"#f0f921\"]],\"type\":\"heatmap\"}],\"heatmapgl\":[{\"colorbar\":{\"outlinewidth\":0,\"ticks\":\"\"},\"colorscale\":[[0.0,\"#0d0887\"],[0.1111111111111111,\"#46039f\"],[0.2222222222222222,\"#7201a8\"],[0.3333333333333333,\"#9c179e\"],[0.4444444444444444,\"#bd3786\"],[0.5555555555555556,\"#d8576b\"],[0.6666666666666666,\"#ed7953\"],[0.7777777777777778,\"#fb9f3a\"],[0.8888888888888888,\"#fdca26\"],[1.0,\"#f0f921\"]],\"type\":\"heatmapgl\"}],\"histogram\":[{\"marker\":{\"pattern\":{\"fillmode\":\"overlay\",\"size\":10,\"solidity\":0.2}},\"type\":\"histogram\"}],\"histogram2d\":[{\"colorbar\":{\"outlinewidth\":0,\"ticks\":\"\"},\"colorscale\":[[0.0,\"#0d0887\"],[0.1111111111111111,\"#46039f\"],[0.2222222222222222,\"#7201a8\"],[0.3333333333333333,\"#9c179e\"],[0.4444444444444444,\"#bd3786\"],[0.5555555555555556,\"#d8576b\"],[0.6666666666666666,\"#ed7953\"],[0.7777777777777778,\"#fb9f3a\"],[0.8888888888888888,\"#fdca26\"],[1.0,\"#f0f921\"]],\"type\":\"histogram2d\"}],\"histogram2dcontour\":[{\"colorbar\":{\"outlinewidth\":0,\"ticks\":\"\"},\"colorscale\":[[0.0,\"#0d0887\"],[0.1111111111111111,\"#46039f\"],[0.2222222222222222,\"#7201a8\"],[0.3333333333333333,\"#9c179e\"],[0.4444444444444444,\"#bd3786\"],[0.5555555555555556,\"#d8576b\"],[0.6666666666666666,\"#ed7953\"],[0.7777777777777778,\"#fb9f3a\"],[0.8888888888888888,\"#fdca26\"],[1.0,\"#f0f921\"]],\"type\":\"histogram2dcontour\"}],\"mesh3d\":[{\"colorbar\":{\"outlinewidth\":0,\"ticks\":\"\"},\"type\":\"mesh3d\"}],\"parcoords\":[{\"line\":{\"colorbar\":{\"outlinewidth\":0,\"ticks\":\"\"}},\"type\":\"parcoords\"}],\"pie\":[{\"automargin\":true,\"type\":\"pie\"}],\"scatter\":[{\"marker\":{\"colorbar\":{\"outlinewidth\":0,\"ticks\":\"\"}},\"type\":\"scatter\"}],\"scatter3d\":[{\"line\":{\"colorbar\":{\"outlinewidth\":0,\"ticks\":\"\"}},\"marker\":{\"colorbar\":{\"outlinewidth\":0,\"ticks\":\"\"}},\"type\":\"scatter3d\"}],\"scattercarpet\":[{\"marker\":{\"colorbar\":{\"outlinewidth\":0,\"ticks\":\"\"}},\"type\":\"scattercarpet\"}],\"scattergeo\":[{\"marker\":{\"colorbar\":{\"outlinewidth\":0,\"ticks\":\"\"}},\"type\":\"scattergeo\"}],\"scattergl\":[{\"marker\":{\"colorbar\":{\"outlinewidth\":0,\"ticks\":\"\"}},\"type\":\"scattergl\"}],\"scattermapbox\":[{\"marker\":{\"colorbar\":{\"outlinewidth\":0,\"ticks\":\"\"}},\"type\":\"scattermapbox\"}],\"scatterpolar\":[{\"marker\":{\"colorbar\":{\"outlinewidth\":0,\"ticks\":\"\"}},\"type\":\"scatterpolar\"}],\"scatterpolargl\":[{\"marker\":{\"colorbar\":{\"outlinewidth\":0,\"ticks\":\"\"}},\"type\":\"scatterpolargl\"}],\"scatterternary\":[{\"marker\":{\"colorbar\":{\"outlinewidth\":0,\"ticks\":\"\"}},\"type\":\"scatterternary\"}],\"surface\":[{\"colorbar\":{\"outlinewidth\":0,\"ticks\":\"\"},\"colorscale\":[[0.0,\"#0d0887\"],[0.1111111111111111,\"#46039f\"],[0.2222222222222222,\"#7201a8\"],[0.3333333333333333,\"#9c179e\"],[0.4444444444444444,\"#bd3786\"],[0.5555555555555556,\"#d8576b\"],[0.6666666666666666,\"#ed7953\"],[0.7777777777777778,\"#fb9f3a\"],[0.8888888888888888,\"#fdca26\"],[1.0,\"#f0f921\"]],\"type\":\"surface\"}],\"table\":[{\"cells\":{\"fill\":{\"color\":\"#EBF0F8\"},\"line\":{\"color\":\"white\"}},\"header\":{\"fill\":{\"color\":\"#C8D4E3\"},\"line\":{\"color\":\"white\"}},\"type\":\"table\"}]},\"layout\":{\"annotationdefaults\":{\"arrowcolor\":\"#2a3f5f\",\"arrowhead\":0,\"arrowwidth\":1},\"autotypenumbers\":\"strict\",\"coloraxis\":{\"colorbar\":{\"outlinewidth\":0,\"ticks\":\"\"}},\"colorscale\":{\"diverging\":[[0,\"#8e0152\"],[0.1,\"#c51b7d\"],[0.2,\"#de77ae\"],[0.3,\"#f1b6da\"],[0.4,\"#fde0ef\"],[0.5,\"#f7f7f7\"],[0.6,\"#e6f5d0\"],[0.7,\"#b8e186\"],[0.8,\"#7fbc41\"],[0.9,\"#4d9221\"],[1,\"#276419\"]],\"sequential\":[[0.0,\"#0d0887\"],[0.1111111111111111,\"#46039f\"],[0.2222222222222222,\"#7201a8\"],[0.3333333333333333,\"#9c179e\"],[0.4444444444444444,\"#bd3786\"],[0.5555555555555556,\"#d8576b\"],[0.6666666666666666,\"#ed7953\"],[0.7777777777777778,\"#fb9f3a\"],[0.8888888888888888,\"#fdca26\"],[1.0,\"#f0f921\"]],\"sequentialminus\":[[0.0,\"#0d0887\"],[0.1111111111111111,\"#46039f\"],[0.2222222222222222,\"#7201a8\"],[0.3333333333333333,\"#9c179e\"],[0.4444444444444444,\"#bd3786\"],[0.5555555555555556,\"#d8576b\"],[0.6666666666666666,\"#ed7953\"],[0.7777777777777778,\"#fb9f3a\"],[0.8888888888888888,\"#fdca26\"],[1.0,\"#f0f921\"]]},\"colorway\":[\"#636efa\",\"#EF553B\",\"#00cc96\",\"#ab63fa\",\"#FFA15A\",\"#19d3f3\",\"#FF6692\",\"#B6E880\",\"#FF97FF\",\"#FECB52\"],\"font\":{\"color\":\"#2a3f5f\"},\"geo\":{\"bgcolor\":\"white\",\"lakecolor\":\"white\",\"landcolor\":\"#E5ECF6\",\"showlakes\":true,\"showland\":true,\"subunitcolor\":\"white\"},\"hoverlabel\":{\"align\":\"left\"},\"hovermode\":\"closest\",\"mapbox\":{\"style\":\"light\"},\"paper_bgcolor\":\"white\",\"plot_bgcolor\":\"#E5ECF6\",\"polar\":{\"angularaxis\":{\"gridcolor\":\"white\",\"linecolor\":\"white\",\"ticks\":\"\"},\"bgcolor\":\"#E5ECF6\",\"radialaxis\":{\"gridcolor\":\"white\",\"linecolor\":\"white\",\"ticks\":\"\"}},\"scene\":{\"xaxis\":{\"backgroundcolor\":\"#E5ECF6\",\"gridcolor\":\"white\",\"gridwidth\":2,\"linecolor\":\"white\",\"showbackground\":true,\"ticks\":\"\",\"zerolinecolor\":\"white\"},\"yaxis\":{\"backgroundcolor\":\"#E5ECF6\",\"gridcolor\":\"white\",\"gridwidth\":2,\"linecolor\":\"white\",\"showbackground\":true,\"ticks\":\"\",\"zerolinecolor\":\"white\"},\"zaxis\":{\"backgroundcolor\":\"#E5ECF6\",\"gridcolor\":\"white\",\"gridwidth\":2,\"linecolor\":\"white\",\"showbackground\":true,\"ticks\":\"\",\"zerolinecolor\":\"white\"}},\"shapedefaults\":{\"line\":{\"color\":\"#2a3f5f\"}},\"ternary\":{\"aaxis\":{\"gridcolor\":\"white\",\"linecolor\":\"white\",\"ticks\":\"\"},\"baxis\":{\"gridcolor\":\"white\",\"linecolor\":\"white\",\"ticks\":\"\"},\"bgcolor\":\"#E5ECF6\",\"caxis\":{\"gridcolor\":\"white\",\"linecolor\":\"white\",\"ticks\":\"\"}},\"title\":{\"x\":0.05},\"xaxis\":{\"automargin\":true,\"gridcolor\":\"white\",\"linecolor\":\"white\",\"ticks\":\"\",\"title\":{\"standoff\":15},\"zerolinecolor\":\"white\",\"zerolinewidth\":2},\"yaxis\":{\"automargin\":true,\"gridcolor\":\"white\",\"linecolor\":\"white\",\"ticks\":\"\",\"title\":{\"standoff\":15},\"zerolinecolor\":\"white\",\"zerolinewidth\":2}}},\"xaxis\":{\"anchor\":\"y\",\"domain\":[0.0,1.0],\"title\":{\"text\":\"review_body\"}},\"yaxis\":{\"anchor\":\"x\",\"domain\":[0.0,1.0],\"title\":{\"text\":\"star_rating\"}}},                        {\"responsive\": true}                    )                };                            </script>        </div>\n</body>\n</html>",
       "datasetInfos": [],
       "metadata": {},
       "removedWidgets": [],
       "textData": null,
       "type": "htmlSandbox"
      }
     },
     "output_type": "display_data"
    }
   ],
   "source": [
    "px.bar(count_df[count_df['star_rating']>4],x='review_body',y='star_rating')"
   ]
  },
  {
   "cell_type": "code",
   "execution_count": 0,
   "metadata": {
    "application/vnd.databricks.v1+cell": {
     "inputWidgets": {},
     "nuid": "5ed14f07-2dc6-4fe8-b20a-33064fe58196",
     "showTitle": false,
     "title": ""
    }
   },
   "outputs": [
    {
     "data": {
      "text/html": [
       "<style scoped>\n",
       "  .ansiout {\n",
       "    display: block;\n",
       "    unicode-bidi: embed;\n",
       "    white-space: pre-wrap;\n",
       "    word-wrap: break-word;\n",
       "    word-break: break-all;\n",
       "    font-family: \"Source Code Pro\", \"Menlo\", monospace;;\n",
       "    font-size: 13px;\n",
       "    color: #555;\n",
       "    margin-left: 4px;\n",
       "    line-height: 19px;\n",
       "  }\n",
       "</style>\n",
       "<div class=\"ansiout\">Out[18]: (16009, 2, 342.49720025564955)</div>"
      ]
     },
     "metadata": {
      "application/vnd.databricks.v1+output": {
       "addedWidgets": {},
       "arguments": {},
       "data": "<div class=\"ansiout\">Out[18]: (16009, 2, 342.49720025564955)</div>",
       "datasetInfos": [],
       "metadata": {},
       "removedWidgets": [],
       "type": "html"
      }
     },
     "output_type": "display_data"
    }
   ],
   "source": [
    "df['len'].max(),df['len'].min(), df['len'].mean()"
   ]
  },
  {
   "cell_type": "code",
   "execution_count": 0,
   "metadata": {
    "application/vnd.databricks.v1+cell": {
     "inputWidgets": {},
     "nuid": "72755d0a-e3ff-4b2a-83d0-7f01ab6ff96a",
     "showTitle": false,
     "title": ""
    }
   },
   "outputs": [
    {
     "data": {
      "text/html": [
       "<style scoped>\n",
       "  .ansiout {\n",
       "    display: block;\n",
       "    unicode-bidi: embed;\n",
       "    white-space: pre-wrap;\n",
       "    word-wrap: break-word;\n",
       "    word-break: break-all;\n",
       "    font-family: \"Source Code Pro\", \"Menlo\", monospace;;\n",
       "    font-size: 13px;\n",
       "    color: #555;\n",
       "    margin-left: 4px;\n",
       "    line-height: 19px;\n",
       "  }\n",
       "</style>\n",
       "<div class=\"ansiout\">Out[19]: count    104831.000000\n",
       "mean        342.497200\n",
       "std         526.515147\n",
       "min           2.000000\n",
       "25%         115.000000\n",
       "50%         190.000000\n",
       "75%         381.500000\n",
       "max       16009.000000\n",
       "Name: len, dtype: float64</div>"
      ]
     },
     "metadata": {
      "application/vnd.databricks.v1+output": {
       "addedWidgets": {},
       "arguments": {},
       "data": "<div class=\"ansiout\">Out[19]: count    104831.000000\nmean        342.497200\nstd         526.515147\nmin           2.000000\n25%         115.000000\n50%         190.000000\n75%         381.500000\nmax       16009.000000\nName: len, dtype: float64</div>",
       "datasetInfos": [],
       "metadata": {},
       "removedWidgets": [],
       "type": "html"
      }
     },
     "output_type": "display_data"
    }
   ],
   "source": [
    "df['len'].describe()"
   ]
  },
  {
   "cell_type": "code",
   "execution_count": 0,
   "metadata": {
    "application/vnd.databricks.v1+cell": {
     "inputWidgets": {},
     "nuid": "f94bb1cc-5cfe-46a2-afb7-946eff903934",
     "showTitle": false,
     "title": ""
    }
   },
   "outputs": [
    {
     "data": {
      "text/html": [
       "<style scoped>\n",
       "  .ansiout {\n",
       "    display: block;\n",
       "    unicode-bidi: embed;\n",
       "    white-space: pre-wrap;\n",
       "    word-wrap: break-word;\n",
       "    word-break: break-all;\n",
       "    font-family: \"Source Code Pro\", \"Menlo\", monospace;;\n",
       "    font-size: 13px;\n",
       "    color: #555;\n",
       "    margin-left: 4px;\n",
       "    line-height: 19px;\n",
       "  }\n",
       "</style>\n",
       "<div class=\"ansiout\">Out[20]: </div>"
      ]
     },
     "metadata": {
      "application/vnd.databricks.v1+output": {
       "addedWidgets": {},
       "arguments": {},
       "data": "<div class=\"ansiout\">Out[20]: </div>",
       "datasetInfos": [],
       "metadata": {},
       "removedWidgets": [],
       "type": "html"
      }
     },
     "output_type": "display_data"
    },
    {
     "data": {
      "image/png": "[encoded data removed]"
     },
     "metadata": {
      "application/vnd.databricks.v1+output": {
       "addedWidgets": {},
       "arguments": {},
       "data": "data:image/png;base64,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",
       "datasetInfos": [],
       "metadata": {
        "imageDimensions": {
         "height": 248,
         "width": 414
        }
       },
       "removedWidgets": [],
       "type": "image"
      },
      "image/png": {
       "height": 248,
       "width": 414
      }
     },
     "output_type": "display_data"
    },
    {
     "data": {
      "text/html": [
       "<style scoped>\n",
       "  .ansiout {\n",
       "    display: block;\n",
       "    unicode-bidi: embed;\n",
       "    white-space: pre-wrap;\n",
       "    word-wrap: break-word;\n",
       "    word-break: break-all;\n",
       "    font-family: \"Source Code Pro\", \"Menlo\", monospace;;\n",
       "    font-size: 13px;\n",
       "    color: #555;\n",
       "    margin-left: 4px;\n",
       "    line-height: 19px;\n",
       "  }\n",
       "</style>\n",
       "<div class=\"ansiout\">&lt;AxesSubplot:ylabel=&#39;Density&#39;&gt;</div>"
      ]
     },
     "metadata": {
      "application/vnd.databricks.v1+output": {
       "addedWidgets": {},
       "arguments": {},
       "data": "<div class=\"ansiout\">&lt;AxesSubplot:ylabel=&#39;Density&#39;&gt;</div>",
       "datasetInfos": [],
       "metadata": {},
       "removedWidgets": [],
       "type": "html"
      }
     },
     "output_type": "display_data"
    }
   ],
   "source": [
    "df['len'].plot.kde()"
   ]
  },
  {
   "cell_type": "code",
   "execution_count": 0,
   "metadata": {
    "application/vnd.databricks.v1+cell": {
     "inputWidgets": {},
     "nuid": "fbbc3e64-ec98-49b8-a02a-cbe09b5e09f2",
     "showTitle": false,
     "title": ""
    }
   },
   "outputs": [
    {
     "data": {
      "text/html": [
       "<style scoped>\n",
       "  .ansiout {\n",
       "    display: block;\n",
       "    unicode-bidi: embed;\n",
       "    white-space: pre-wrap;\n",
       "    word-wrap: break-word;\n",
       "    word-break: break-all;\n",
       "    font-family: \"Source Code Pro\", \"Menlo\", monospace;;\n",
       "    font-size: 13px;\n",
       "    color: #555;\n",
       "    margin-left: 4px;\n",
       "    line-height: 19px;\n",
       "  }\n",
       "</style>\n",
       "<div class=\"ansiout\"></div>"
      ]
     },
     "metadata": {
      "application/vnd.databricks.v1+output": {
       "addedWidgets": {},
       "arguments": {},
       "data": "<div class=\"ansiout\"></div>",
       "datasetInfos": [],
       "metadata": {},
       "removedWidgets": [],
       "type": "html"
      }
     },
     "output_type": "display_data"
    }
   ],
   "source": [
    "df.drop(\"len\",inplace = True, axis=1)"
   ]
  },
  {
   "cell_type": "code",
   "execution_count": 0,
   "metadata": {
    "application/vnd.databricks.v1+cell": {
     "inputWidgets": {},
     "nuid": "bb1ecf18-91e5-4065-885c-89db2ca8a28e",
     "showTitle": false,
     "title": ""
    }
   },
   "outputs": [
    {
     "data": {
      "text/html": [
       "<style scoped>\n",
       "  .ansiout {\n",
       "    display: block;\n",
       "    unicode-bidi: embed;\n",
       "    white-space: pre-wrap;\n",
       "    word-wrap: break-word;\n",
       "    word-break: break-all;\n",
       "    font-family: \"Source Code Pro\", \"Menlo\", monospace;;\n",
       "    font-size: 13px;\n",
       "    color: #555;\n",
       "    margin-left: 4px;\n",
       "    line-height: 19px;\n",
       "  }\n",
       "</style>\n",
       "<div class=\"ansiout\">Out[22]: 5    52186\n",
       "4    18056\n",
       "1    17572\n",
       "3     9719\n",
       "2     7298\n",
       "Name: star_rating, dtype: int64</div>"
      ]
     },
     "metadata": {
      "application/vnd.databricks.v1+output": {
       "addedWidgets": {},
       "arguments": {},
       "data": "<div class=\"ansiout\">Out[22]: 5    52186\n4    18056\n1    17572\n3     9719\n2     7298\nName: star_rating, dtype: int64</div>",
       "datasetInfos": [],
       "metadata": {},
       "removedWidgets": [],
       "type": "html"
      }
     },
     "output_type": "display_data"
    }
   ],
   "source": [
    "df.star_rating.value_counts()"
   ]
  },
  {
   "cell_type": "code",
   "execution_count": 0,
   "metadata": {
    "application/vnd.databricks.v1+cell": {
     "inputWidgets": {},
     "nuid": "c47e1776-6f59-4c65-a2ce-ded133a84076",
     "showTitle": false,
     "title": ""
    }
   },
   "outputs": [
    {
     "data": {
      "text/html": [
       "<style scoped>\n",
       "  .ansiout {\n",
       "    display: block;\n",
       "    unicode-bidi: embed;\n",
       "    white-space: pre-wrap;\n",
       "    word-wrap: break-word;\n",
       "    word-break: break-all;\n",
       "    font-family: \"Source Code Pro\", \"Menlo\", monospace;;\n",
       "    font-size: 13px;\n",
       "    color: #555;\n",
       "    margin-left: 4px;\n",
       "    line-height: 19px;\n",
       "  }\n",
       "</style>\n",
       "<div class=\"ansiout\">Out[23]: 1    52186\n",
       "2    52186\n",
       "3    52186\n",
       "4    52186\n",
       "5    52186\n",
       "Name: star_rating, dtype: int64</div>"
      ]
     },
     "metadata": {
      "application/vnd.databricks.v1+output": {
       "addedWidgets": {},
       "arguments": {},
       "data": "<div class=\"ansiout\">Out[23]: 1    52186\n2    52186\n3    52186\n4    52186\n5    52186\nName: star_rating, dtype: int64</div>",
       "datasetInfos": [],
       "metadata": {},
       "removedWidgets": [],
       "type": "html"
      }
     },
     "output_type": "display_data"
    }
   ],
   "source": [
    "from sklearn.utils import resample\n",
    "\n",
    "# separate data by labels\n",
    "onestar = df[df.star_rating==1]\n",
    "twostar = df[df.star_rating==2]\n",
    "threestar = df[df.star_rating==3]\n",
    "fourstar = df[df.star_rating==4]\n",
    "fivestar = df[df.star_rating==5]\n",
    "\n",
    "# upsample minority labels\n",
    "onestar_upsampled = resample(onestar, replace=True, n_samples=len(fivestar), random_state=42)\n",
    "twostar_upsampled = resample(twostar, replace=True, n_samples=len(fivestar), random_state=42)\n",
    "threestar_upsampled = resample(threestar, replace=True, n_samples=len(fivestar), random_state=42)\n",
    "fourstar_upsampled = resample(fourstar, replace=True, n_samples=len(fivestar), random_state=42)\n",
    "\n",
    "# combine sets back together\n",
    "data_sampled = pd.concat([onestar_upsampled, twostar_upsampled, threestar_upsampled, fourstar_upsampled, fivestar])\n",
    "# check data is now balanced\n",
    "data_sampled.star_rating.value_counts()"
   ]
  },
  {
   "cell_type": "code",
   "execution_count": 0,
   "metadata": {
    "application/vnd.databricks.v1+cell": {
     "inputWidgets": {},
     "nuid": "c9c19aa4-cca9-45c4-9a4d-0bda266cd83e",
     "showTitle": false,
     "title": ""
    }
   },
   "outputs": [
    {
     "data": {
      "text/html": [
       "<style scoped>\n",
       "  .ansiout {\n",
       "    display: block;\n",
       "    unicode-bidi: embed;\n",
       "    white-space: pre-wrap;\n",
       "    word-wrap: break-word;\n",
       "    word-break: break-all;\n",
       "    font-family: \"Source Code Pro\", \"Menlo\", monospace;;\n",
       "    font-size: 13px;\n",
       "    color: #555;\n",
       "    margin-left: 4px;\n",
       "    line-height: 19px;\n",
       "  }\n",
       "</style>\n",
       "<div class=\"ansiout\"></div>"
      ]
     },
     "metadata": {
      "application/vnd.databricks.v1+output": {
       "addedWidgets": {},
       "arguments": {},
       "data": "<div class=\"ansiout\"></div>",
       "datasetInfos": [],
       "metadata": {},
       "removedWidgets": [],
       "type": "html"
      }
     },
     "output_type": "display_data"
    }
   ],
   "source": [
    "df = copy.deepcopy(data_sampled)"
   ]
  },
  {
   "cell_type": "code",
   "execution_count": 0,
   "metadata": {
    "application/vnd.databricks.v1+cell": {
     "inputWidgets": {},
     "nuid": "bbe71a0c-7809-441c-ae9d-5fbe10c515c9",
     "showTitle": false,
     "title": ""
    }
   },
   "outputs": [
    {
     "data": {
      "text/html": [
       "<style scoped>\n",
       "  .ansiout {\n",
       "    display: block;\n",
       "    unicode-bidi: embed;\n",
       "    white-space: pre-wrap;\n",
       "    word-wrap: break-word;\n",
       "    word-break: break-all;\n",
       "    font-family: \"Source Code Pro\", \"Menlo\", monospace;;\n",
       "    font-size: 13px;\n",
       "    color: #555;\n",
       "    margin-left: 4px;\n",
       "    line-height: 19px;\n",
       "  }\n",
       "</style>\n",
       "<div class=\"ansiout\"></div>"
      ]
     },
     "metadata": {
      "application/vnd.databricks.v1+output": {
       "addedWidgets": {},
       "arguments": {},
       "data": "<div class=\"ansiout\"></div>",
       "datasetInfos": [],
       "metadata": {},
       "removedWidgets": [],
       "type": "html"
      }
     },
     "output_type": "display_data"
    }
   ],
   "source": [
    "from sklearn.model_selection import train_test_split\n",
    "train_X, test_X, train_y, test_y = train_test_split(df['review_body'], df['star_rating'],\n",
    "                                                    stratify=df['star_rating'], \n",
    "                                                    test_size=0.25)"
   ]
  },
  {
   "cell_type": "code",
   "execution_count": 0,
   "metadata": {
    "application/vnd.databricks.v1+cell": {
     "inputWidgets": {},
     "nuid": "d2c0848e-0956-4f14-9c5c-1a4a5a342c0c",
     "showTitle": false,
     "title": ""
    }
   },
   "outputs": [
    {
     "data": {
      "text/html": [
       "<style scoped>\n",
       "  .ansiout {\n",
       "    display: block;\n",
       "    unicode-bidi: embed;\n",
       "    white-space: pre-wrap;\n",
       "    word-wrap: break-word;\n",
       "    word-break: break-all;\n",
       "    font-family: \"Source Code Pro\", \"Menlo\", monospace;;\n",
       "    font-size: 13px;\n",
       "    color: #555;\n",
       "    margin-left: 4px;\n",
       "    line-height: 19px;\n",
       "  }\n",
       "</style>\n",
       "<div class=\"ansiout\">Train shape :  (195697,)\n",
       "Test shape :  (65233,)\n",
       "</div>"
      ]
     },
     "metadata": {
      "application/vnd.databricks.v1+output": {
       "addedWidgets": {},
       "arguments": {},
       "data": "<div class=\"ansiout\">Train shape :  (195697,)\nTest shape :  (65233,)\n</div>",
       "datasetInfos": [],
       "metadata": {},
       "removedWidgets": [],
       "type": "html"
      }
     },
     "output_type": "display_data"
    }
   ],
   "source": [
    "print(\"Train shape : \",train_X.shape)\n",
    "print(\"Test shape : \",test_X.shape)"
   ]
  },
  {
   "cell_type": "code",
   "execution_count": 0,
   "metadata": {
    "application/vnd.databricks.v1+cell": {
     "inputWidgets": {},
     "nuid": "5f05e351-4509-4835-a6af-286068b59e2e",
     "showTitle": false,
     "title": ""
    }
   },
   "outputs": [
    {
     "data": {
      "text/html": [
       "<style scoped>\n",
       "  .ansiout {\n",
       "    display: block;\n",
       "    unicode-bidi: embed;\n",
       "    white-space: pre-wrap;\n",
       "    word-wrap: break-word;\n",
       "    word-break: break-all;\n",
       "    font-family: \"Source Code Pro\", \"Menlo\", monospace;;\n",
       "    font-size: 13px;\n",
       "    color: #555;\n",
       "    margin-left: 4px;\n",
       "    line-height: 19px;\n",
       "  }\n",
       "</style>\n",
       "<div class=\"ansiout\"></div>"
      ]
     },
     "metadata": {
      "application/vnd.databricks.v1+output": {
       "addedWidgets": {},
       "arguments": {},
       "data": "<div class=\"ansiout\"></div>",
       "datasetInfos": [],
       "metadata": {},
       "removedWidgets": [],
       "type": "html"
      }
     },
     "output_type": "display_data"
    }
   ],
   "source": [
    "## Tokenize the sentences\n",
    "tokenizer = Tokenizer(num_words=max_features)\n",
    "tokenizer.fit_on_texts(list(train_X))\n",
    "train_X = tokenizer.texts_to_sequences(train_X)\n",
    "test_X = tokenizer.texts_to_sequences(test_X)\n",
    "\n",
    "## Pad the sentences \n",
    "train_X = pad_sequences(train_X, maxlen=maxlen)\n",
    "test_X = pad_sequences(test_X, maxlen=maxlen)"
   ]
  },
  {
   "cell_type": "code",
   "execution_count": 0,
   "metadata": {
    "application/vnd.databricks.v1+cell": {
     "inputWidgets": {},
     "nuid": "2b2cb630-87dd-4869-a798-8b490b3985f1",
     "showTitle": false,
     "title": ""
    }
   },
   "outputs": [
    {
     "data": {
      "text/html": [
       "<style scoped>\n",
       "  .ansiout {\n",
       "    display: block;\n",
       "    unicode-bidi: embed;\n",
       "    white-space: pre-wrap;\n",
       "    word-wrap: break-word;\n",
       "    word-break: break-all;\n",
       "    font-family: \"Source Code Pro\", \"Menlo\", monospace;;\n",
       "    font-size: 13px;\n",
       "    color: #555;\n",
       "    margin-left: 4px;\n",
       "    line-height: 19px;\n",
       "  }\n",
       "</style>\n",
       "<div class=\"ansiout\"></div>"
      ]
     },
     "metadata": {
      "application/vnd.databricks.v1+output": {
       "addedWidgets": {},
       "arguments": {},
       "data": "<div class=\"ansiout\"></div>",
       "datasetInfos": [],
       "metadata": {},
       "removedWidgets": [],
       "type": "html"
      }
     },
     "output_type": "display_data"
    }
   ],
   "source": [
    "from sklearn.preprocessing import LabelEncoder\n",
    "le = LabelEncoder()\n",
    "train_y = le.fit_transform(train_y.values)\n",
    "test_y = le.transform(test_y.values)"
   ]
  },
  {
   "cell_type": "code",
   "execution_count": 0,
   "metadata": {
    "application/vnd.databricks.v1+cell": {
     "inputWidgets": {},
     "nuid": "b11614f4-0cbe-48d5-9bc9-4501dd5d6f95",
     "showTitle": false,
     "title": ""
    }
   },
   "outputs": [
    {
     "data": {
      "text/html": [
       "<style scoped>\n",
       "  .ansiout {\n",
       "    display: block;\n",
       "    unicode-bidi: embed;\n",
       "    white-space: pre-wrap;\n",
       "    word-wrap: break-word;\n",
       "    word-break: break-all;\n",
       "    font-family: \"Source Code Pro\", \"Menlo\", monospace;;\n",
       "    font-size: 13px;\n",
       "    color: #555;\n",
       "    margin-left: 4px;\n",
       "    line-height: 19px;\n",
       "  }\n",
       "</style>\n",
       "<div class=\"ansiout\">Out[29]: array([1, 2, 3, 4, 5])</div>"
      ]
     },
     "metadata": {
      "application/vnd.databricks.v1+output": {
       "addedWidgets": {},
       "arguments": {},
       "data": "<div class=\"ansiout\">Out[29]: array([1, 2, 3, 4, 5])</div>",
       "datasetInfos": [],
       "metadata": {},
       "removedWidgets": [],
       "type": "html"
      }
     },
     "output_type": "display_data"
    }
   ],
   "source": [
    "le.classes_"
   ]
  },
  {
   "cell_type": "code",
   "execution_count": 0,
   "metadata": {
    "application/vnd.databricks.v1+cell": {
     "inputWidgets": {},
     "nuid": "4f56b748-1a10-4fc7-898a-37d9bf4fe27b",
     "showTitle": false,
     "title": ""
    }
   },
   "outputs": [
    {
     "data": {
      "text/html": [
       "<style scoped>\n",
       "  .ansiout {\n",
       "    display: block;\n",
       "    unicode-bidi: embed;\n",
       "    white-space: pre-wrap;\n",
       "    word-wrap: break-word;\n",
       "    word-break: break-all;\n",
       "    font-family: \"Source Code Pro\", \"Menlo\", monospace;;\n",
       "    font-size: 13px;\n",
       "    color: #555;\n",
       "    margin-left: 4px;\n",
       "    line-height: 19px;\n",
       "  }\n",
       "</style>\n",
       "<div class=\"ansiout\">Out[30]: True</div>"
      ]
     },
     "metadata": {
      "application/vnd.databricks.v1+output": {
       "addedWidgets": {},
       "arguments": {},
       "data": "<div class=\"ansiout\">Out[30]: True</div>",
       "datasetInfos": [],
       "metadata": {},
       "removedWidgets": [],
       "type": "html"
      }
     },
     "output_type": "display_data"
    }
   ],
   "source": [
    "dbutils.fs.mkdirs(\"/tmp/glove\")"
   ]
  },
  {
   "cell_type": "code",
   "execution_count": 0,
   "metadata": {
    "application/vnd.databricks.v1+cell": {
     "inputWidgets": {},
     "nuid": "49a54dc4-04bc-47bd-80c8-1be307d05901",
     "showTitle": false,
     "title": ""
    }
   },
   "outputs": [
    {
     "data": {
      "text/html": [
       "<style scoped>\n",
       "  .ansiout {\n",
       "    display: block;\n",
       "    unicode-bidi: embed;\n",
       "    white-space: pre-wrap;\n",
       "    word-wrap: break-word;\n",
       "    word-break: break-all;\n",
       "    font-family: \"Source Code Pro\", \"Menlo\", monospace;;\n",
       "    font-size: 13px;\n",
       "    color: #555;\n",
       "    margin-left: 4px;\n",
       "    line-height: 19px;\n",
       "  }\n",
       "</style>\n",
       "<div class=\"ansiout\">--2022-04-09 17:18:46--  https://nlp.stanford.edu/data/glove.840B.300d.zip\n",
       "Resolving nlp.stanford.edu (nlp.stanford.edu)... 171.64.67.140\n",
       "Connecting to nlp.stanford.edu (nlp.stanford.edu)|171.64.67.140|:443... connected.\n",
       "HTTP request sent, awaiting response... 301 Moved Permanently\n",
       "Location: http://downloads.cs.stanford.edu/nlp/data/glove.840B.300d.zip [following]\n",
       "--2022-04-09 17:18:47--  http://downloads.cs.stanford.edu/nlp/data/glove.840B.300d.zip\n",
       "Resolving downloads.cs.stanford.edu (downloads.cs.stanford.edu)... 171.64.64.22\n",
       "Connecting to downloads.cs.stanford.edu (downloads.cs.stanford.edu)|171.64.64.22|:80... connected.\n",
       "HTTP request sent, awaiting response... 200 OK\n",
       "Length: 2176768927 (2.0G) [application/zip]\n",
       "Saving to: ‘/dbfs/tmp/glove/glove.840B.300d.zip.1’\n",
       "\n",
       "     0K .......... .......... .......... .......... ..........  0%  253K 2h19m\n",
       "    50K .......... .......... .......... .......... ..........  0%  353K 2h0m\n",
       "   100K .......... .......... .......... .......... ..........  0% 1.06M 90m57s\n",
       "   150K .......... .......... .......... .......... ..........  0%  453K 87m46s\n",
       "   200K .......... .......... .......... .......... ..........  0% 3.98M 71m57s\n",
       "   250K .......... .......... .......... .......... ..........  0%  411K 74m19s\n",
       "   300K .......... .......... .......... .......... ..........  0% 2.06M 66m6s\n",
       "   350K .......... .......... .......... .......... ..........  0% 6.20M 58m32s\n",
       "   400K .......... .......... .......... .......... ..........  0% 21.7M 52m12s\n",
       "   450K .......... .......... .......... .......... ..........  0% 6.18M 47m33s\n",
       "   500K .......... .......... .......... .......... ..........  0%  457K 50m16s\n",
       "   550K .......... .......... .......... .......... ..........  0% 3.27M 46m58s\n",
       "   600K .......... .......... .......... .......... ..........  0% 6.20M 43m47s\n",
       "   650K .......... .......... .......... .......... ..........  0% 13.6M 40m50s\n",
       "   700K .......... .......... .......... .......... ..........  0% 30.9M 38m11s\n",
       "   750K .......... .......... .......... .......... ..........  0% 33.5M 35m52s\n",
       "   800K .......... .......... .......... .......... ..........  0% 32.6M 33m49s\n",
       "   850K .......... .......... .......... .......... ..........  0% 15.8M 32m3s\n",
       "   900K .......... .......... .......... .......... ..........  0% 27.4M 30m26s\n",
       "   950K .......... .......... .......... .......... ..........  0%  509K 32m23s\n",
       "  1000K .......... .......... .......... .......... ..........  0% 6.48M 31m6s\n",
       "  1050K .......... .......... .......... .......... ..........  0% 6.68M 29m55s\n",
       "  1100K .......... .......... .......... .......... ..........  0% 6.31M 28m51s\n",
       "  1150K .......... .......... .......... .......... ..........  0% 7.83M 27m50s\n",
       "  1200K .......... .......... .......... .......... ..........  0% 15.3M 26m49s\n",
       "  1250K .......... .......... .......... .......... ..........  0% 30.3M 25m49s\n",
       "  1300K .......... .......... .......... .......... ..........  0% 26.8M 24m55s\n",
       "  1350K .......... .......... .......... .......... ..........  0% 32.1M 24m4s\n",
       "  1400K .......... .......... .......... .......... ..........  0% 30.7M 23m16s\n",
       "  1450K .......... .......... .......... .......... ..........  0% 29.7M 22m32s\n",
       "  1500K .......... .......... .......... .......... ..........  0% 25.9M 21m51s\n",
       "  1550K .......... .......... .......... .......... ..........  0% 27.4M 21m12s\n",
       "  1600K .......... .......... .......... .......... ..........  0% 30.5M 20m36s\n",
       "  1650K .......... .......... .......... .......... ..........  0% 26.4M 20m2s\n",
       "  1700K .......... .......... .......... .......... ..........  0% 26.5M 19m30s\n",
       "  1750K .......... .......... .......... .......... ..........  0% 32.8M 18m59s\n",
       "  1800K .......... .......... .......... .......... ..........  0% 32.9M 18m30s\n",
       "  1850K .......... .......... .......... .......... ..........  0%  564K 19m40s\n",
       "  1900K .......... .......... .......... .......... ..........  0% 10.5M 19m15s\n",
       "  1950K .......... .......... .......... .......... ..........  0% 12.8M 18m50s\n",
       "  2000K .......... .......... .......... .......... ..........  0% 12.8M 18m26s\n",
       "  2050K .......... .......... .......... .......... ..........  0% 14.1M 18m3s\n",
       "  2100K .......... .......... .......... .......... ..........  0% 20.2M 17m40s\n",
       "  2150K .......... .......... .......... .......... ..........  0% 14.6M 17m20s\n",
       "  2200K .......... .......... .......... .......... ..........  0% 16.2M 16m59s\n",
       "  2250K .......... .......... .......... .......... ..........  0% 11.7M 16m41s\n",
       "  2300K .......... .......... .......... .......... ..........  0% 16.8M 16m22s\n",
       "  2350K .......... .......... .......... .......... ..........  0% 32.4M 16m3s\n",
       "  2400K .......... .......... .......... .......... ..........  0% 31.2M 15m45s\n",
       "  2450K .......... .......... .......... .......... ..........  0% 30.4M 15m27s\n",
       "  2500K .......... .......... .......... .......... ..........  0% 25.7M 15m11s\n",
       "  2550K .......... .......... .......... .......... ..........  0% 30.8M 14m54s\n",
       "  2600K .......... .......... .......... .......... ..........  0% 30.4M 14m39s\n",
       "  2650K .......... .......... .......... .......... ..........  0% 30.8M 14m24s\n",
       "  2700K .......... .......... .......... .......... ..........  0% 25.9M 14m9s\n",
       "  2750K .......... .......... .......... .......... ..........  0% 30.6M 13m55s\n",
       "  2800K .......... .......... .......... .......... ..........  0% 30.6M 13m42s\n",
       "  2850K .......... .......... .......... .......... ..........  0% 33.7M 13m29s\n",
       "  2900K .......... .......... .......... .......... ..........  0% 27.2M 13m16s\n",
       "  2950K .......... .......... .......... .......... ..........  0% 32.0M 13m4s\n",
       "  3000K .......... .......... .......... .......... ..........  0% 32.4M 12m52s\n",
       "  3050K .......... .......... .......... .......... ..........  0% 31.9M 12m41s\n",
       "  3100K .......... .......... .......... .......... ..........  0% 27.7M 12m30s\n",
       "  3150K .......... .......... .......... .......... ..........  0% 31.8M 12m19s\n",
       "  3200K .......... .......... .......... .......... ..........  0% 34.4M 12m9s\n",
       "  3250K .......... .......... .......... .......... ..........  0% 35.1M 11m59s\n",
       "  3300K .......... .......... .......... .......... ..........  0% 29.9M 11m49s\n",
       "  3350K .......... .......... .......... .......... ..........  0% 33.2M 11m39s\n",
       "  3400K .......... .......... .......... .......... ..........  0%  626K 12m18s\n",
       "  3450K .......... .......... .......... .......... ..........  0% 11.0M 12m11s\n",
       "  3500K .......... .......... .......... .......... ..........  0% 18.4M 12m2s\n",
       "  3550K .......... .......... .......... .......... ..........  0% 16.4M 11m54s\n",
       "  3600K .......... .......... .......... .......... ..........  0% 14.8M 11m46s\n",
       "  3650K .......... .......... .......... .......... ..........  0% 13.2M 11m38s\n",
       "  3700K .......... .......... .......... .......... ..........  0% 23.0M 11m30s\n",
       "  3750K .......... .......... .......... .......... ..........  0% 16.7M 11m23s\n",
       "  3800K .......... .......... .......... .......... ..........  0% 10.7M 11m16s\n",
       "  3850K .......... .......... .......... .......... ..........  0% 17.6M 11m9s\n",
       "  3900K .......... .......... .......... .......... ..........  0% 30.7M 11m1s\n",
       "  3950K .......... .......... .......... .......... ..........  0% 32.8M 10m54s\n",
       "  4000K .......... .......... .......... .......... ..........  0% 27.6M 10m47s\n",
       "  4050K .......... .......... .......... .......... ..........  0% 29.2M 10m40s\n",
       "  4100K .......... .......... .......... .......... ..........  0% 29.3M 10m33s\n",
       "  4150K .......... .......... .......... .......... ..........  0% 33.2M 10m26s\n",
       "  4200K .......... .......... .......... .......... ..........  0% 30.0M 10m19s\n",
       "  4250K .......... .......... .......... .......... ..........  0% 26.8M 10m13s\n",
       "  4300K .......... .......... .......... .......... ..........  0% 23.9M 10m7s\n",
       "  4350K .......... .......... .......... .......... ..........  0% 32.0M 10m1s\n",
       "  4400K .......... .......... .......... .......... ..........  0% 24.2M 9m55s\n",
       "  4450K .......... .......... .......... .......... ..........  0% 34.1M 9m49s\n",
       "  4500K .......... .......... .......... .......... ..........  0% 33.4M 9m43s\n",
       "  4550K .......... .......... .......... .......... ..........  0% 37.7M 9m38s\n",
       "  4600K .......... .......... .......... .......... ..........  0% 29.8M 9m32s\n",
       "  4650K .......... .......... .......... .......... ..........  0% 32.2M 9m27s\n",
       "  4700K .......... .......... .......... .......... ..........  0% 31.0M 9m21s\n",
       "  4750K .......... .......... .......... .......... ..........  0% 30.0M 9m16s\n",
       "  4800K .......... .......... .......... .......... ..........  0% 26.8M 9m11s\n",
       "  4850K .......... .......... .......... .......... ..........  0% 29.4M 9m6s\n",
       "  4900K .......... .......... .......... .......... ..........  0% 29.2M 9m2s\n",
       "  4950K .......... .......... .......... .......... ..........  0%  632K 9m30s\n",
       "  5000K .......... .......... .......... .......... ..........  0% 8.98M 9m26s\n",
       "  5050K .......... .......... .......... .......... ..........  0% 19.6M 9m22s\n",
       "  5100K .......... .......... .......... .......... ..........  0% 1.98M 9m27s\n",
       "  5150K .......... .......... .......... .......... ..........  0% 29.9M 9m22s\n",
       "  5200K .......... .......... .......... .......... ..........  0% 30.0M 9m17s\n",
       "  5250K .......... .......... .......... .......... ..........  0% 31.0M 9m12s\n",
       "  5300K .......... .......... .......... .......... ..........  0% 27.3M 9m8s\n",
       "  5350K .......... .......... .......... .......... ..........  0% 29.0M 9m3s\n",
       "  5400K .......... .......... .......... .......... ..........  0% 32.1M 8m59s\n",
       "  5450K .......... .......... .......... .......... ..........  0% 31.3M 8m55s\n",
       "  5500K .......... .......... .......... .......... ..........  0% 26.9M 8m51s\n",
       "  5550K .......... .......... .......... .......... ..........  0% 31.7M 8m46s\n",
       "  5600K .......... .......... .......... .......... ..........  0% 31.5M 8m42s\n",
       "  5650K .......... .......... .......... .......... ..........  0% 31.8M 8m38s\n",
       "  5700K .......... .......... .......... .......... ..........  0% 27.0M 8m35s\n",
       "  5750K .......... .......... .......... .......... ..........  0% 31.6M 8m31s\n",
       "  5800K .......... .......... .......... .......... ..........  0% 31.8M 8m27s\n",
       "  5850K .......... .......... .......... .......... ..........  0% 30.9M 8m23s\n",
       "  5900K .......... .......... .......... .......... ..........  0% 27.1M 8m19s\n",
       "  5950K .......... .......... .......... .......... ..........  0% 32.8M 8m16s\n",
       "  6000K .......... .......... .......... .......... ..........  0% 34.1M 8m12s\n",
       "  6050K .......... .......... .......... .......... ..........  0% 34.6M 8m9s\n",
       "  6100K .......... .......... .......... .......... ..........  0% 26.8M 8m5s\n",
       "  6150K .......... .......... .......... .......... ..........  0% 32.2M 8m2s\n",
       "  6200K .......... .......... .......... .......... ..........  0% 32.1M 7m59s\n",
       "  6250K .......... .......... .......... .......... ..........  0% 32.3M 7m55s\n",
       "  6300K .......... .......... .......... .......... ..........  0% 24.1M 7m52s\n",
       "  6350K .......... .......... .......... .......... ..........  0% 25.7M 7m49s\n",
       "  6400K .......... .......... .......... .......... ..........  0% 28.3M 7m46s\n",
       "  6450K .......... .......... .......... .......... ..........  0% 2.85M 7m48s\n",
       "  6500K .......... .......... .......... .......... ..........  0%  966K 8m1s\n",
       "  6550K .......... .......... .......... .......... ..........  0% 7.85M 8m0s\n",
       "  6600K .......... .......... .......... .......... ..........  0% 16.9M 7m57s\n",
       "  6650K .......... .......... .......... .......... ..........  0% 16.3M 7m54s\n",
       "  6700K .......... .......... .......... .......... ..........  0% 9.99M 7m52s\n",
       "  6750K .......... .......... .......... .......... ..........  0% 28.8M 7m49s\n",
       "  6800K .......... .......... .......... .......... ..........  0% 33.7M 7m46s\n",
       "  6850K .......... .......... .......... .......... ..........  0% 10.4M 7m44s\n",
       "  6900K .......... .......... .......... .......... ..........  0% 25.9M 7m42s\n",
       "  6950K .......... .......... .......... .......... ..........  0% 15.3M 7m39s\n",
       "  7000K .......... .......... .......... .......... ..........  0% 28.5M 7m36s\n",
       "  7050K .......... .......... .......... .......... ..........  0% 33.1M 7m34s\n",
       "  7100K .......... .......... .......... .......... ..........  0% 34.0M 7m31s\n",
       "  7150K .......... .......... .......... .......... ..........  0% 32.2M 7m28s\n",
       "  7200K .......... .......... .......... .......... ..........  0% 28.6M 7m26s\n",
       "  7250K .......... .......... .......... .......... ..........  0% 34.0M 7m23s\n",
       "  7300K .......... .......... .......... .......... ..........  0% 33.4M 7m20s\n",
       "  7350K .......... .......... .......... .......... ..........  0% 35.2M 7m18s\n",
       "  7400K .......... .......... .......... .......... ..........  0% 30.8M 7m15s\n",
       "  7450K .......... .......... .......... .......... ..........  0% 31.8M 7m13s\n",
       "  7500K .......... .......... .......... .......... ..........  0% 35.1M 7m10s\n",
       "  7550K .......... .......... .......... .......... ..........  0% 34.7M 7m8s\n",
       "  7600K .......... .......... .......... .......... ..........  0% 30.5M 7m5s\n",
       "  7650K .......... .......... .......... .......... ..........  0% 35.6M 7m3s\n",
       "  7700K .......... .......... .......... .......... ..........  0% 35.4M 7m1s\n",
       "  7750K .......... .......... .......... .......... ..........  0% 39.8M 6m58s\n",
       "  7800K .......... .......... .......... .......... ..........  0% 32.7M 6m56s\n",
       "  7850K .......... .......... .......... .......... ..........  0% 38.5M 6m54s\n",
       "  7900K .......... .......... .......... .......... ..........  0% 39.0M 6m52s\n",
       "  7950K .......... .......... .......... .......... ..........  0% 35.5M 6m49s\n",
       "  8000K .......... .......... .......... .......... ..........  0%  702K 7m5s\n",
       "  8050K .......... .......... .......... .......... ..........  0% 3.21M 7m7s\n",
       "  8100K .......... .......... .......... .......... ..........  0% 9.80M 7m5s\n",
       "  8150K .......... .......... .......... .......... ..........  0% 23.4M 7m3s\n",
       "  8200K .......... .......... .......... .......... ..........  0% 12.8M 7m2s\n",
       "  8250K .......... .......... .......... .......... ..........  0% 10.9M 7m0s\n",
       "  8300K .......... .......... .......... .......... ..........  0% 27.9M 6m58s\n",
       "  8350K .......... .......... .......... .......... ..........  0% 12.6M 6m57s\n",
       "  8400K .......... .......... .......... .......... ..........  0% 22.9M 6m55s\n",
       "  8450K .......... .......... .......... .......... ..........  0% 21.9M 6m53s\n",
       "  8500K .......... .......... .......... .......... ..........  0% 18.8M 6m51s\n",
       "  8550K .......... .......... .......... .......... ..........  0% 27.9M 6m49s\n",
       "  8600K .......... .......... .......... .......... ..........  0% 26.1M 6m47s\n",
       "  8650K .......... .......... .......... .......... ..........  0% 20.5M 6m46s\n",
       "  8700K .......... .......... .......... .......... ..........  0% 25.7M 6m44s\n",
       "  8750K .......... .......... .......... .......... ..........  0% 24.7M 6m42s\n",
       "  8800K .......... .......... .......... .......... ..........  0% 28.8M 6m40s\n",
       "  8850K .......... .......... .......... .......... ..........  0% 23.0M 6m38s\n",
       "  8900K .......... .......... .......... .......... ..........  0% 29.2M 6m36s\n",
       "  8950K .......... .......... .......... .......... ..........  0% 33.5M 6m35s\n",
       "  9000K .......... .......... .......... .......... ..........  0% 33.8M 6m33s\n",
       "  9050K .......... .......... .......... .......... ..........  0% 28.1M 6m31s\n",
       "  9100K .......... .......... .......... .......... ..........  0% 33.2M 6m29s\n",
       "  9150K .......... .......... .......... .......... ..........  0% 31.1M 6m27s\n",
       "  9200K .......... .......... .......... .......... ..........  0% 33.9M 6m26s\n",
       "  9250K .......... .......... .......... .......... ..........  0% 28.6M 6m24s\n",
       "  9300K .......... .......... .......... .......... ..........  0% 34.9M 6m22s\n",
       "  9350K .......... .......... .......... .......... ..........  0% 35.7M 6m20s\n",
       "  9400K .......... .......... .......... .......... ..........  0% 33.0M 6m19s\n",
       "  9450K .......... .......... .......... .......... ..........  0% 30.0M 6m17s\n",
       "  9500K .......... .......... .......... .......... ..........  0% 1.60M 6m22s\n",
       "  9550K .......... .......... .......... .......... ..........  0% 1.29M 6m28s\n",
       "  9600K .......... .......... .......... .......... ..........  0% 3.09M 6m30s\n",
       "  9650K .......... .......... .......... .......... ..........  0% 11.4M 6m29s\n",
       "  9700K .......... .......... .......... .......... ..........  0% 12.0M 6m27s\n",
       "  9750K .......... .......... .......... .......... ..........  0% 10.4M 6m26s\n",
       "  9800K .......... .......... .......... .......... ..........  0% 28.9M 6m25s\n",
       "  9850K .......... .......... .......... .......... ..........  0% 32.0M 6m23s\n",
       "  9900K .......... .......... .......... .......... ..........  0% 9.54M 6m22s\n",
       "  9950K .......... .......... .......... .......... ..........  0% 26.9M 6m21s\n",
       " 10000K .......... .......... .......... .......... ..........  0% 33.5M 6m19s\n",
       " 10050K .......... .......... .......... .......... ..........  0% 16.1M 6m18s\n",
       " 10100K .......... .......... .......... .......... ..........  0% 30.6M 6m16s\n",
       " 10150K .......... .......... .......... .......... ..........  0% 31.2M 6m15s\n",
       " 10200K .......... .......... .......... .......... ..........  0% 18.9M 6m14s\n",
       " 10250K .......... .......... .......... .......... ..........  0% 33.5M 6m12s\n",
       " 10300K .......... .......... .......... .......... ..........  0% 32.1M 6m11s\n",
       " 10350K .......... .......... .......... .......... ..........  0% 32.9M 6m9s\n",
       " 10400K .......... .......... .......... .......... ..........  0% 29.1M 6m8s\n",
       " 10450K .......... .......... .......... .......... ..........  0% 33.5M 6m6s\n",
       " 10500K .......... .......... .......... .......... ..........  0% 33.3M 6m5s\n",
       " 10550K .......... .......... .......... .......... ..........  0% 34.3M 6m3s\n",
       " 10600K .......... .......... .......... .......... ..........  0% 29.6M 6m2s\n",
       " 10650K .......... .......... .......... .......... ..........  0% 34.4M 6m1s\n",
       " 10700K .......... .......... .......... .......... ..........  0% 34.9M 5m59s\n",
       " 10750K .......... .......... .......... .......... ..........  0% 33.5M 5m58s\n",
       " 10800K .......... .......... .......... .......... ..........  0% 27.8M 5m56s\n",
       " 10850K .......... .......... .......... .......... ..........  0% 33.0M 5m55s\n",
       " 10900K .......... .......... .......... .......... ..........  0% 33.4M 5m54s\n",
       " 10950K .......... .......... .......... .......... ..........  0% 32.3M 5m52s\n",
       " 11000K .......... .......... .......... .......... ..........  0% 27.8M 5m51s\n",
       " 11050K .......... .......... .......... .......... ..........  0%  738K 6m2s\n",
       " 11100K .......... .......... .......... .......... ..........  0% 4.46M 6m3s\n",
       " 11150K .......... .......... .......... .......... ..........  0% 5.45M 6m3s\n",
       " 11200K .......... .......... .......... .......... ..........  0% 24.0M 6m2s\n",
       " 11250K .......... .......... .......... .......... ..........  0% 11.7M 6m1s\n",
       " 11300K .......... .......... .......... .......... ..........  0% 10.2M 6m0s\n",
       " 11350K .......... .......... .......... .......... ..........  0% 31.7M 5m59s\n",
       " 11400K .......... .......... .......... .......... ..........  0% 27.4M 5m58s\n",
       " 11450K .......... .......... .......... .......... ..........  0% 11.1M 5m57s\n",
       " 11500K .......... .......... .......... .......... ..........  0% 29.3M 5m56s\n",
       " 11550K .......... .......... .......... .......... ..........  0% 14.3M 5m55s\n",
       " 11600K .......... .......... .......... .......... ..........  0% 30.7M 5m53s\n",
       " 11650K .......... .......... .......... .......... ..........  0% 31.7M 5m52s\n",
       " 11700K .......... .......... .......... .......... ..........  0% 26.6M 5m51s\n",
       " 11750K .......... .......... .......... .......... ..........  0% 31.3M 5m50s\n",
       " 11800K .......... .......... .......... .......... ..........  0% 31.4M 5m49s\n",
       " 11850K .......... .......... .......... .......... ..........  0% 27.6M 5m47s\n",
       " 11900K .......... .......... .......... .......... ..........  0% 25.4M 5m46s\n",
       " 11950K .......... .......... .......... .......... ..........  0% 31.7M 5m45s\n",
       " 12000K .......... .......... .......... .......... ..........  0% 31.2M 5m44s\n",
       " 12050K .......... .......... .......... .......... ..........  0% 33.4M 5m43s\n",
       " 12100K .......... .......... .......... .......... ..........  0% 27.5M 5m42s\n",
       " 12150K .......... .......... .......... .......... ..........  0% 32.5M 5m41s\n",
       " 12200K .......... .......... .......... .......... ..........  0% 30.0M 5m39s\n",
       " 12250K .......... .......... .......... .......... ..........  0% 32.2M 5m38s\n",
       " 12300K .......... .......... .......... .......... ..........  0% 27.1M 5m37s\n",
       " 12350K .......... .......... .......... .......... ..........  0% 30.1M 5m36s\n",
       " 12400K .......... .......... .......... .......... ..........  0% 31.5M 5m35s\n",
       " 12450K .......... .......... .......... .......... ..........  0% 31.3M 5m34s\n",
       " 12500K .......... .......... .......... .......... ..........  0% 26.7M 5m33s\n",
       " 12550K .......... .......... .......... .......... ..........  0% 30.9M 5m32s\n",
       " 12600K .......... .......... .......... .......... ..........  0%  756K 5m42s\n",
       " 12650K .......... .......... .......... .......... ..........  0% 3.08M 5m43s\n",
       " 12700K .......... .......... .......... .......... ..........  0% 11.6M 5m42s\n",
       " 12750K .......... .......... .......... .......... ..........  0% 8.52M 5m42s\n",
       " 12800K .......... .......... .......... .......... ..........  0% 31.5M 5m41s\n",
       " 12850K .......... .......... .......... .......... ..........  0% 10.6M 5m40s\n",
       " 12900K .......... .......... .......... .......... ..........  0% 20.7M 5m39s\n",
       " 12950K .......... .......... .......... .......... ..........  0% 10.5M 5m39s\n",
       " 13000K .......... .......... .......... .......... ..........  0% 23.3M 5m38s\n",
       " 13050K .......... .......... .......... .......... ..........  0% 31.1M 5m37s\n",
       " 13100K .......... .......... .......... .......... ..........  0% 17.9M 5m36s\n",
       " 13150K .......... .......... .......... .......... ..........  0% 26.2M 5m35s\n",
       " 13200K .......... .......... .......... .......... ..........  0% 28.5M 5m34s\n",
       " 13250K .......... .......... .......... .......... ..........  0% 24.3M 5m33s\n",
       " 13300K .......... .......... .......... .......... ..........  0% 24.4M 5m32s\n",
       " 13350K .......... .......... .......... .......... ..........  0% 32.2M 5m31s\n",
       " 13400K .......... .......... .......... .......... ..........  0% 25.9M 5m30s\n",
       " 13450K .......... .......... .......... .......... ..........  0% 32.6M 5m29s\n",
       " 13500K .......... .......... .......... .......... ..........  0% 28.2M 5m28s\n",
       " 13550K .......... .......... .......... .......... ..........  0% 21.5M 5m27s\n",
       " 13600K .......... .......... .......... .......... ..........  0% 31.5M 5m26s\n",
       " 13650K .......... .......... .......... .......... ..........  0% 27.6M 5m25s\n",
       " 13700K .......... .......... .......... .......... ..........  0% 27.0M 5m24s\n",
       " 13750K .......... .......... .......... .......... ..........  0% 23.6M 5m24s\n",
       " 13800K .......... .......... .......... .......... ..........  0% 33.2M 5m23s\n",
       " 13850K .......... .......... .......... .......... ..........  0% 30.6M 5m22s\n",
       " 13900K .......... .......... .......... .......... ..........  0% 24.4M 5m21s\n",
       " 13950K .......... .......... .......... .......... ..........  0% 27.6M 5m20s\n",
       " 14000K .......... .......... .......... .......... ..........  0% 32.6M 5m19s\n",
       " 14050K .......... .......... .......... .......... ..........  0% 32.3M 5m18s\n",
       " 14100K .......... .......... .......... .......... ..........  0% 32.7M 5m17s\n",
       " 14150K .......... .......... .......... .......... ..........  0%  691K 5m27s\n",
       " 14200K .......... .......... .......... .......... ..........  0% 7.86M 5m27s\n",
       " 14250K .......... .......... .......... .......... ..........  0% 9.34M 5m26s\n",
       " 14300K .......... .......... .......... .......... ..........  0% 10.7M 5m26s\n",
       " 14350K .......... .......... .......... .......... ..........  0% 8.69M 5m25s\n",
       " 14400K .......... .......... .......... .......... ..........  0% 14.0M 5m25s\n",
       " 14450K .......... .......... .......... .......... ..........  0% 19.3M 5m24s\n",
       " 14500K .......... .......... .......... .......... ..........  0% 11.7M 5m24s\n",
       " 14550K .......... .......... .......... .......... ..........  0% 28.3M 5m23s\n",
       " 14600K .......... .......... .......... .......... ..........  0% 16.7M 5m22s\n",
       " 14650K .......... .......... .......... .......... ..........  0% 16.8M 5m21s\n",
       " 14700K .......... .......... .......... .......... ..........  0% 29.0M 5m20s\n",
       " 14750K .......... .......... .......... .......... ..........  0% 27.1M 5m20s\n",
       " 14800K .......... .......... .......... .......... ..........  0% 28.5M 5m19s\n",
       " 14850K .......... .......... .......... .......... ..........  0% 18.1M 5m18s\n",
       " 14900K .......... .......... .......... .......... ..........  0% 15.6M 5m17s\n",
       " 14950K .......... .......... .......... .......... ..........  0% 14.3M 5m17s\n",
       " 15000K .......... .......... .......... .......... ..........  0% 27.7M 5m16s\n",
       " 15050K .......... .......... .......... .......... ..........  0% 17.7M 5m15s\n",
       " 15100K .......... .......... .......... .......... ..........  0% 32.7M 5m15s\n",
       " 15150K .......... .......... .......... .......... ..........  0% 27.9M 5m14s\n",
       " 15200K .......... .......... .......... .......... ..........  0% 32.1M 5m13s\n",
       " 15250K .......... .......... .......... .......... ..........  0% 32.8M 5m12s\n",
       " 15300K .......... .......... .......... .......... ..........  0% 32.4M 5m11s\n",
       "\n",
       "*** WARNING: skipped 3306093 bytes of output ***\n",
       "\n",
       "2109650K .......... .......... .......... .......... .......... 99% 28.2M 3s\n",
       "2109700K .......... .......... .......... .......... .......... 99%  556K 3s\n",
       "2109750K .......... .......... .......... .......... .......... 99% 22.2M 3s\n",
       "2109800K .......... .......... .......... .......... .......... 99% 28.8M 3s\n",
       "2109850K .......... .......... .......... .......... .......... 99% 26.8M 3s\n",
       "2109900K .......... .......... .......... .......... .......... 99% 25.0M 3s\n",
       "2109950K .......... .......... .......... .......... .......... 99% 23.7M 3s\n",
       "2110000K .......... .......... .......... .......... .......... 99% 31.3M 3s\n",
       "2110050K .......... .......... .......... .......... .......... 99% 34.9M 3s\n",
       "2110100K .......... .......... .......... .......... .......... 99% 34.7M 3s\n",
       "2110150K .......... .......... .......... .......... .......... 99% 28.2M 3s\n",
       "2110200K .......... .......... .......... .......... .......... 99% 33.3M 3s\n",
       "2110250K .......... .......... .......... .......... .......... 99% 34.0M 3s\n",
       "2110300K .......... .......... .......... .......... .......... 99% 31.2M 3s\n",
       "2110350K .......... .......... .......... .......... .......... 99% 26.9M 3s\n",
       "2110400K .......... .......... .......... .......... .......... 99% 31.3M 3s\n",
       "2110450K .......... .......... .......... .......... .......... 99% 31.5M 3s\n",
       "2110500K .......... .......... .......... .......... .......... 99% 31.3M 3s\n",
       "2110550K .......... .......... .......... .......... .......... 99% 27.6M 3s\n",
       "2110600K .......... .......... .......... .......... .......... 99% 32.6M 3s\n",
       "2110650K .......... .......... .......... .......... .......... 99% 31.1M 3s\n",
       "2110700K .......... .......... .......... .......... .......... 99% 32.7M 3s\n",
       "2110750K .......... .......... .......... .......... .......... 99% 28.0M 3s\n",
       "2110800K .......... .......... .......... .......... .......... 99% 32.7M 3s\n",
       "2110850K .......... .......... .......... .......... .......... 99% 32.3M 3s\n",
       "2110900K .......... .......... .......... .......... .......... 99% 31.6M 3s\n",
       "2110950K .......... .......... .......... .......... .......... 99% 26.1M 3s\n",
       "2111000K .......... .......... .......... .......... .......... 99% 30.4M 3s\n",
       "2111050K .......... .......... .......... .......... .......... 99% 30.6M 3s\n",
       "2111100K .......... .......... .......... .......... .......... 99% 30.7M 3s\n",
       "2111150K .......... .......... .......... .......... .......... 99%  522K 3s\n",
       "2111200K .......... .......... .......... .......... .......... 99% 29.8M 3s\n",
       "2111250K .......... .......... .......... .......... .......... 99% 30.1M 3s\n",
       "2111300K .......... .......... .......... .......... .......... 99% 25.7M 3s\n",
       "2111350K .......... .......... .......... .......... .......... 99% 30.2M 3s\n",
       "2111400K .......... .......... .......... .......... .......... 99% 30.0M 3s\n",
       "2111450K .......... .......... .......... .......... .......... 99% 30.0M 3s\n",
       "2111500K .......... .......... .......... .......... .......... 99% 25.9M 3s\n",
       "2111550K .......... .......... .......... .......... .......... 99% 30.4M 3s\n",
       "2111600K .......... .......... .......... .......... .......... 99% 30.5M 3s\n",
       "2111650K .......... .......... .......... .......... .......... 99% 30.1M 3s\n",
       "2111700K .......... .......... .......... .......... .......... 99% 26.4M 3s\n",
       "2111750K .......... .......... .......... .......... .......... 99% 29.3M 3s\n",
       "2111800K .......... .......... .......... .......... .......... 99% 29.6M 3s\n",
       "2111850K .......... .......... .......... .......... .......... 99% 31.7M 3s\n",
       "2111900K .......... .......... .......... .......... .......... 99% 26.4M 3s\n",
       "2111950K .......... .......... .......... .......... .......... 99% 32.3M 3s\n",
       "2112000K .......... .......... .......... .......... .......... 99% 33.4M 3s\n",
       "2112050K .......... .......... .......... .......... .......... 99% 30.7M 3s\n",
       "2112100K .......... .......... .......... .......... .......... 99% 26.0M 3s\n",
       "2112150K .......... .......... .......... .......... .......... 99% 30.7M 3s\n",
       "2112200K .......... .......... .......... .......... .......... 99%  105K 3s\n",
       "2112250K .......... .......... .......... .......... .......... 99% 29.6M 3s\n",
       "2112300K .......... .......... .......... .......... .......... 99% 30.1M 3s\n",
       "2112350K .......... .......... .......... .......... .......... 99% 22.9M 3s\n",
       "2112400K .......... .......... .......... .......... .......... 99% 20.1M 3s\n",
       "2112450K .......... .......... .......... .......... .......... 99% 27.5M 3s\n",
       "2112500K .......... .......... .......... .......... .......... 99% 25.5M 3s\n",
       "2112550K .......... .......... .......... .......... .......... 99% 24.9M 3s\n",
       "2112600K .......... .......... .......... .......... .......... 99% 23.8M 3s\n",
       "2112650K .......... .......... .......... .......... .......... 99% 24.7M 3s\n",
       "2112700K .......... .......... .......... .......... .......... 99% 27.4M 3s\n",
       "2112750K .......... .......... .......... .......... .......... 99% 30.5M 3s\n",
       "2112800K .......... .......... .......... .......... .......... 99% 27.0M 3s\n",
       "2112850K .......... .......... .......... .......... .......... 99% 33.3M 3s\n",
       "2112900K .......... .......... .......... .......... .......... 99% 33.6M 2s\n",
       "2112950K .......... .......... .......... .......... .......... 99% 32.4M 2s\n",
       "2113000K .......... .......... .......... .......... .......... 99% 23.1M 2s\n",
       "2113050K .......... .......... .......... .......... .......... 99% 35.3M 2s\n",
       "2113100K .......... .......... .......... .......... .......... 99% 35.5M 2s\n",
       "2113150K .......... .......... .......... .......... .......... 99% 35.5M 2s\n",
       "2113200K .......... .......... .......... .......... .......... 99% 30.7M 2s\n",
       "2113250K .......... .......... .......... .......... .......... 99% 34.4M 2s\n",
       "2113300K .......... .......... .......... .......... .......... 99% 35.2M 2s\n",
       "2113350K .......... .......... .......... .......... .......... 99% 35.0M 2s\n",
       "2113400K .......... .......... .......... .......... .......... 99% 28.2M 2s\n",
       "2113450K .......... .......... .......... .......... .......... 99% 32.7M 2s\n",
       "2113500K .......... .......... .......... .......... .......... 99% 29.6M 2s\n",
       "2113550K .......... .......... .......... .......... .......... 99% 30.9M 2s\n",
       "2113600K .......... .......... .......... .......... .......... 99% 26.7M 2s\n",
       "2113650K .......... .......... .......... .......... .......... 99% 29.6M 2s\n",
       "2113700K .......... .......... .......... .......... .......... 99% 31.5M 2s\n",
       "2113750K .......... .......... .......... .......... .......... 99%  548K 2s\n",
       "2113800K .......... .......... .......... .......... .......... 99% 30.5M 2s\n",
       "2113850K .......... .......... .......... .......... .......... 99% 30.8M 2s\n",
       "2113900K .......... .......... .......... .......... .......... 99% 27.3M 2s\n",
       "2113950K .......... .......... .......... .......... .......... 99% 32.6M 2s\n",
       "2114000K .......... .......... .......... .......... .......... 99% 32.5M 2s\n",
       "2114050K .......... .......... .......... .......... .......... 99% 30.0M 2s\n",
       "2114100K .......... .......... .......... .......... .......... 99% 27.1M 2s\n",
       "2114150K .......... .......... .......... .......... .......... 99% 30.0M 2s\n",
       "2114200K .......... .......... .......... .......... .......... 99% 30.9M 2s\n",
       "2114250K .......... .......... .......... .......... .......... 99% 29.4M 2s\n",
       "2114300K .......... .......... .......... .......... .......... 99% 25.0M 2s\n",
       "2114350K .......... .......... .......... .......... .......... 99% 30.2M 2s\n",
       "2114400K .......... .......... .......... .......... .......... 99% 30.8M 2s\n",
       "2114450K .......... .......... .......... .......... .......... 99% 31.6M 2s\n",
       "2114500K .......... .......... .......... .......... .......... 99% 26.8M 2s\n",
       "2114550K .......... .......... .......... .......... .......... 99% 31.7M 2s\n",
       "2114600K .......... .......... .......... .......... .......... 99% 33.7M 2s\n",
       "2114650K .......... .......... .......... .......... .......... 99% 33.1M 2s\n",
       "2114700K .......... .......... .......... .......... .......... 99% 27.6M 2s\n",
       "2114750K .......... .......... .......... .......... .......... 99% 32.7M 2s\n",
       "2114800K .......... .......... .......... .......... .......... 99% 31.7M 2s\n",
       "2114850K .......... .......... .......... .......... .......... 99% 32.1M 2s\n",
       "2114900K .......... .......... .......... .......... .......... 99% 28.2M 2s\n",
       "2114950K .......... .......... .......... .......... .......... 99% 32.9M 2s\n",
       "2115000K .......... .......... .......... .......... .......... 99% 34.9M 2s\n",
       "2115050K .......... .......... .......... .......... .......... 99% 34.7M 2s\n",
       "2115100K .......... .......... .......... .......... .......... 99% 29.1M 2s\n",
       "2115150K .......... .......... .......... .......... .......... 99% 33.2M 2s\n",
       "2115200K .......... .......... .......... .......... .......... 99% 33.4M 2s\n",
       "2115250K .......... .......... .......... .......... .......... 99% 3.71M 2s\n",
       "2115300K .......... .......... .......... .......... .......... 99%  603K 2s\n",
       "2115350K .......... .......... .......... .......... .......... 99% 30.6M 2s\n",
       "2115400K .......... .......... .......... .......... .......... 99% 25.9M 2s\n",
       "2115450K .......... .......... .......... .......... .......... 99% 30.1M 2s\n",
       "2115500K .......... .......... .......... .......... .......... 99% 31.3M 2s\n",
       "2115550K .......... .......... .......... .......... .......... 99% 30.8M 2s\n",
       "2115600K .......... .......... .......... .......... .......... 99% 26.2M 2s\n",
       "2115650K .......... .......... .......... .......... .......... 99% 31.1M 2s\n",
       "2115700K .......... .......... .......... .......... .......... 99% 31.2M 2s\n",
       "2115750K .......... .......... .......... .......... .......... 99% 33.2M 2s\n",
       "2115800K .......... .......... .......... .......... .......... 99% 28.2M 2s\n",
       "2115850K .......... .......... .......... .......... .......... 99% 33.1M 2s\n",
       "2115900K .......... .......... .......... .......... .......... 99% 32.9M 2s\n",
       "2115950K .......... .......... .......... .......... .......... 99% 33.3M 2s\n",
       "2116000K .......... .......... .......... .......... .......... 99% 28.6M 2s\n",
       "2116050K .......... .......... .......... .......... .......... 99% 32.0M 2s\n",
       "2116100K .......... .......... .......... .......... .......... 99% 33.6M 2s\n",
       "2116150K .......... .......... .......... .......... .......... 99% 33.5M 2s\n",
       "2116200K .......... .......... .......... .......... .......... 99% 29.7M 2s\n",
       "2116250K .......... .......... .......... .......... .......... 99% 34.9M 2s\n",
       "2116300K .......... .......... .......... .......... .......... 99%  104K 2s\n",
       "2116350K .......... .......... .......... .......... .......... 99% 31.8M 2s\n",
       "2116400K .......... .......... .......... .......... .......... 99% 32.1M 2s\n",
       "2116450K .......... .......... .......... .......... .......... 99% 31.6M 2s\n",
       "2116500K .......... .......... .......... .......... .......... 99% 28.0M 2s\n",
       "2116550K .......... .......... .......... .......... .......... 99% 32.8M 2s\n",
       "2116600K .......... .......... .......... .......... .......... 99% 32.1M 2s\n",
       "2116650K .......... .......... .......... .......... .......... 99% 31.5M 2s\n",
       "2116700K .......... .......... .......... .......... .......... 99% 26.6M 2s\n",
       "2116750K .......... .......... .......... .......... .......... 99% 31.7M 2s\n",
       "2116800K .......... .......... .......... .......... .......... 99% 31.8M 2s\n",
       "2116850K .......... .......... .......... .......... .......... 99% 32.1M 2s\n",
       "2116900K .......... .......... .......... .......... .......... 99% 27.2M 2s\n",
       "2116950K .......... .......... .......... .......... .......... 99% 33.1M 2s\n",
       "2117000K .......... .......... .......... .......... .......... 99% 32.9M 2s\n",
       "2117050K .......... .......... .......... .......... .......... 99% 32.9M 2s\n",
       "2117100K .......... .......... .......... .......... .......... 99% 27.2M 2s\n",
       "2117150K .......... .......... .......... .......... .......... 99% 31.6M 2s\n",
       "2117200K .......... .......... .......... .......... .......... 99% 32.2M 2s\n",
       "2117250K .......... .......... .......... .......... .......... 99% 31.8M 2s\n",
       "2117300K .......... .......... .......... .......... .......... 99% 27.0M 2s\n",
       "2117350K .......... .......... .......... .......... .......... 99% 32.0M 2s\n",
       "2117400K .......... .......... .......... .......... .......... 99% 31.8M 2s\n",
       "2117450K .......... .......... .......... .......... .......... 99% 32.9M 2s\n",
       "2117500K .......... .......... .......... .......... .......... 99% 29.3M 2s\n",
       "2117550K .......... .......... .......... .......... .......... 99% 33.5M 2s\n",
       "2117600K .......... .......... .......... .......... .......... 99% 32.7M 2s\n",
       "2117650K .......... .......... .......... .......... .......... 99% 32.8M 2s\n",
       "2117700K .......... .......... .......... .......... .......... 99% 27.7M 2s\n",
       "2117750K .......... .......... .......... .......... .......... 99% 32.7M 2s\n",
       "2117800K .......... .......... .......... .......... .......... 99% 32.5M 2s\n",
       "2117850K .......... .......... .......... .......... .......... 99%  525K 2s\n",
       "2117900K .......... .......... .......... .......... .......... 99% 30.3M 2s\n",
       "2117950K .......... .......... .......... .......... .......... 99% 29.4M 2s\n",
       "2118000K .......... .......... .......... .......... .......... 99% 33.7M 1s\n",
       "2118050K .......... .......... .......... .......... .......... 99% 34.2M 1s\n",
       "2118100K .......... .......... .......... .......... .......... 99% 28.3M 1s\n",
       "2118150K .......... .......... .......... .......... .......... 99% 33.7M 1s\n",
       "2118200K .......... .......... .......... .......... .......... 99% 33.5M 1s\n",
       "2118250K .......... .......... .......... .......... .......... 99% 33.7M 1s\n",
       "2118300K .......... .......... .......... .......... .......... 99% 29.0M 1s\n",
       "2118350K .......... .......... .......... .......... .......... 99% 33.8M 1s\n",
       "2118400K .......... .......... .......... .......... .......... 99% 32.2M 1s\n",
       "2118450K .......... .......... .......... .......... .......... 99% 33.9M 1s\n",
       "2118500K .......... .......... .......... .......... .......... 99% 28.8M 1s\n",
       "2118550K .......... .......... .......... .......... .......... 99% 33.7M 1s\n",
       "2118600K .......... .......... .......... .......... .......... 99% 33.9M 1s\n",
       "2118650K .......... .......... .......... .......... .......... 99% 32.6M 1s\n",
       "2118700K .......... .......... .......... .......... .......... 99% 29.0M 1s\n",
       "2118750K .......... .......... .......... .......... .......... 99% 35.0M 1s\n",
       "2118800K .......... .......... .......... .......... .......... 99% 33.9M 1s\n",
       "2118850K .......... .......... .......... .......... .......... 99% 34.9M 1s\n",
       "2118900K .......... .......... .......... .......... .......... 99% 28.8M 1s\n",
       "2118950K .......... .......... .......... .......... .......... 99% 33.5M 1s\n",
       "2119000K .......... .......... .......... .......... .......... 99% 32.1M 1s\n",
       "2119050K .......... .......... .......... .......... .......... 99% 32.5M 1s\n",
       "2119100K .......... .......... .......... .......... .......... 99% 29.4M 1s\n",
       "2119150K .......... .......... .......... .......... .......... 99% 34.6M 1s\n",
       "2119200K .......... .......... .......... .......... .......... 99% 34.9M 1s\n",
       "2119250K .......... .......... .......... .......... .......... 99% 39.1M 1s\n",
       "2119300K .......... .......... .......... .......... .......... 99% 33.0M 1s\n",
       "2119350K .......... .......... .......... .......... .......... 99% 34.8M 1s\n",
       "2119400K .......... .......... .......... .......... .......... 99%  510K 1s\n",
       "2119450K .......... .......... .......... .......... .......... 99% 35.7M 1s\n",
       "2119500K .......... .......... .......... .......... .......... 99% 28.9M 1s\n",
       "2119550K .......... .......... .......... .......... .......... 99% 33.3M 1s\n",
       "2119600K .......... .......... .......... .......... .......... 99% 33.7M 1s\n",
       "2119650K .......... .......... .......... .......... .......... 99% 33.5M 1s\n",
       "2119700K .......... .......... .......... .......... .......... 99% 19.0M 1s\n",
       "2119750K .......... .......... .......... .......... .......... 99% 27.3M 1s\n",
       "2119800K .......... .......... .......... .......... .......... 99% 33.3M 1s\n",
       "2119850K .......... .......... .......... .......... .......... 99% 32.5M 1s\n",
       "2119900K .......... .......... .......... .......... .......... 99% 28.4M 1s\n",
       "2119950K .......... .......... .......... .......... .......... 99% 33.0M 1s\n",
       "2120000K .......... .......... .......... .......... .......... 99% 33.3M 1s\n",
       "2120050K .......... .......... .......... .......... .......... 99% 33.0M 1s\n",
       "2120100K .......... .......... .......... .......... .......... 99% 30.3M 1s\n",
       "2120150K .......... .......... .......... .......... .......... 99% 33.4M 1s\n",
       "2120200K .......... .......... .......... .......... .......... 99% 32.3M 1s\n",
       "2120250K .......... .......... .......... .......... .......... 99% 32.2M 1s\n",
       "2120300K .......... .......... .......... .......... .......... 99%  106K 1s\n",
       "2120350K .......... .......... .......... .......... .......... 99% 31.4M 1s\n",
       "2120400K .......... .......... .......... .......... .......... 99% 32.6M 1s\n",
       "2120450K .......... .......... .......... .......... .......... 99% 28.2M 1s\n",
       "2120500K .......... .......... .......... .......... .......... 99% 32.8M 1s\n",
       "2120550K .......... .......... .......... .......... .......... 99% 32.7M 1s\n",
       "2120600K .......... .......... .......... .......... .......... 99% 33.0M 1s\n",
       "2120650K .......... .......... .......... .......... .......... 99% 28.0M 1s\n",
       "2120700K .......... .......... .......... .......... .......... 99% 33.0M 1s\n",
       "2120750K .......... .......... .......... .......... .......... 99% 33.4M 1s\n",
       "2120800K .......... .......... .......... .......... .......... 99% 32.0M 1s\n",
       "2120850K .......... .......... .......... .......... .......... 99% 27.4M 1s\n",
       "2120900K .......... .......... .......... .......... .......... 99% 32.6M 1s\n",
       "2120950K .......... .......... .......... .......... .......... 99% 33.1M 1s\n",
       "2121000K .......... .......... .......... .......... .......... 99% 33.5M 1s\n",
       "2121050K .......... .......... .......... .......... .......... 99% 28.9M 1s\n",
       "2121100K .......... .......... .......... .......... .......... 99% 33.1M 1s\n",
       "2121150K .......... .......... .......... .......... .......... 99% 32.2M 1s\n",
       "2121200K .......... .......... .......... .......... .......... 99% 31.9M 1s\n",
       "2121250K .......... .......... .......... .......... .......... 99% 27.8M 1s\n",
       "2121300K .......... .......... .......... .......... .......... 99% 32.4M 1s\n",
       "2121350K .......... .......... .......... .......... .......... 99% 33.0M 1s\n",
       "2121400K .......... .......... .......... .......... .......... 99% 32.5M 1s\n",
       "2121450K .......... .......... .......... .......... .......... 99% 27.5M 1s\n",
       "2121500K .......... .......... .......... .......... .......... 99% 32.2M 1s\n",
       "2121550K .......... .......... .......... .......... .......... 99% 32.4M 1s\n",
       "2121600K .......... .......... .......... .......... .......... 99% 32.7M 1s\n",
       "2121650K .......... .......... .......... .......... .......... 99% 28.0M 1s\n",
       "2121700K .......... .......... .......... .......... .......... 99% 32.6M 1s\n",
       "2121750K .......... .......... .......... .......... .......... 99% 32.6M 1s\n",
       "2121800K .......... .......... .......... .......... .......... 99% 32.9M 1s\n",
       "2121850K .......... .......... .......... .......... .......... 99%  521K 1s\n",
       "2121900K .......... .......... .......... .......... .......... 99% 31.3M 1s\n",
       "2121950K .......... .......... .......... .......... .......... 99% 30.4M 1s\n",
       "2122000K .......... .......... .......... .......... .......... 99% 26.7M 1s\n",
       "2122050K .......... .......... .......... .......... .......... 99% 32.9M 1s\n",
       "2122100K .......... .......... .......... .......... .......... 99% 32.6M 1s\n",
       "2122150K .......... .......... .......... .......... .......... 99% 31.3M 1s\n",
       "2122200K .......... .......... .......... .......... .......... 99% 27.7M 1s\n",
       "2122250K .......... .......... .......... .......... .......... 99% 21.2M 1s\n",
       "2122300K .......... .......... .......... .......... .......... 99% 24.2M 1s\n",
       "2122350K .......... .......... .......... .......... .......... 99% 32.5M 1s\n",
       "2122400K .......... .......... .......... .......... .......... 99% 28.8M 1s\n",
       "2122450K .......... .......... .......... .......... .......... 99% 31.5M 1s\n",
       "2122500K .......... .......... .......... .......... .......... 99% 32.9M 1s\n",
       "2122550K .......... .......... .......... .......... .......... 99% 33.5M 1s\n",
       "2122600K .......... .......... .......... .......... .......... 99% 28.0M 1s\n",
       "2122650K .......... .......... .......... .......... .......... 99% 33.3M 1s\n",
       "2122700K .......... .......... .......... .......... .......... 99% 33.6M 1s\n",
       "2122750K .......... .......... .......... .......... .......... 99% 34.0M 1s\n",
       "2122800K .......... .......... .......... .......... .......... 99% 28.4M 1s\n",
       "2122850K .......... .......... .......... .......... .......... 99% 32.6M 1s\n",
       "2122900K .......... .......... .......... .......... .......... 99% 32.5M 1s\n",
       "2122950K .......... .......... .......... .......... .......... 99% 32.7M 1s\n",
       "2123000K .......... .......... .......... .......... .......... 99% 22.8M 1s\n",
       "2123050K .......... .......... .......... .......... .......... 99% 32.6M 1s\n",
       "2123100K .......... .......... .......... .......... .......... 99% 32.1M 1s\n",
       "2123150K .......... .......... .......... .......... .......... 99% 32.4M 0s\n",
       "2123200K .......... .......... .......... .......... .......... 99% 27.7M 0s\n",
       "2123250K .......... .......... .......... .......... .......... 99% 33.9M 0s\n",
       "2123300K .......... .......... .......... .......... .......... 99% 34.7M 0s\n",
       "2123350K .......... .......... .......... .......... .......... 99% 33.2M 0s\n",
       "2123400K .......... .......... .......... .......... .......... 99%  534K 0s\n",
       "2123450K .......... .......... .......... .......... .......... 99% 26.4M 0s\n",
       "2123500K .......... .......... .......... .......... .......... 99% 30.5M 0s\n",
       "2123550K .......... .......... .......... .......... .......... 99% 31.2M 0s\n",
       "2123600K .......... .......... .......... .......... .......... 99% 26.9M 0s\n",
       "2123650K .......... .......... .......... .......... .......... 99% 33.4M 0s\n",
       "2123700K .......... .......... .......... .......... .......... 99% 32.5M 0s\n",
       "2123750K .......... .......... .......... .......... .......... 99% 31.4M 0s\n",
       "2123800K .......... .......... .......... .......... .......... 99% 27.4M 0s\n",
       "2123850K .......... .......... .......... .......... .......... 99% 31.9M 0s\n",
       "2123900K .......... .......... .......... .......... .......... 99% 32.8M 0s\n",
       "2123950K .......... .......... .......... .......... .......... 99% 30.8M 0s\n",
       "2124000K .......... .......... .......... .......... .......... 99% 26.9M 0s\n",
       "2124050K .......... .......... .......... .......... .......... 99% 32.3M 0s\n",
       "2124100K .......... .......... .......... .......... .......... 99% 32.4M 0s\n",
       "2124150K .......... .......... .......... .......... .......... 99% 33.9M 0s\n",
       "2124200K .......... .......... .......... .......... .......... 99% 27.0M 0s\n",
       "2124250K .......... .......... .......... .......... .......... 99% 32.5M 0s\n",
       "2124300K .......... .......... .......... .......... .......... 99% 32.8M 0s\n",
       "2124350K .......... .......... .......... .......... .......... 99% 31.0M 0s\n",
       "2124400K .......... .......... .......... .......... .......... 99%  104K 0s\n",
       "2124450K .......... .......... .......... .......... .......... 99% 25.7M 0s\n",
       "2124500K .......... .......... .......... .......... .......... 99% 30.8M 0s\n",
       "2124550K .......... .......... .......... .......... .......... 99% 32.2M 0s\n",
       "2124600K .......... .......... .......... .......... .......... 99% 31.5M 0s\n",
       "2124650K .......... .......... .......... .......... .......... 99% 26.4M 0s\n",
       "2124700K .......... .......... .......... .......... .......... 99% 31.3M 0s\n",
       "2124750K .......... .......... .......... .......... .......... 99% 30.7M 0s\n",
       "2124800K .......... .......... .......... .......... .......... 99% 33.4M 0s\n",
       "2124850K .......... .......... .......... .......... .......... 99% 26.3M 0s\n",
       "2124900K .......... .......... .......... .......... .......... 99% 30.6M 0s\n",
       "2124950K .......... .......... .......... .......... .......... 99% 31.7M 0s\n",
       "2125000K .......... .......... .......... .......... .......... 99% 30.0M 0s\n",
       "2125050K .......... .......... .......... .......... .......... 99% 27.0M 0s\n",
       "2125100K .......... .......... .......... .......... .......... 99% 31.5M 0s\n",
       "2125150K .......... .......... .......... .......... .......... 99% 32.1M 0s\n",
       "2125200K .......... .......... .......... .......... .......... 99% 32.9M 0s\n",
       "2125250K .......... .......... .......... .......... .......... 99% 27.0M 0s\n",
       "2125300K .......... .......... .......... .......... .......... 99% 30.4M 0s\n",
       "2125350K .......... .......... .......... .......... .......... 99% 30.7M 0s\n",
       "2125400K .......... .......... .......... .......... .......... 99% 30.9M 0s\n",
       "2125450K .......... .......... .......... .......... .......... 99% 26.5M 0s\n",
       "2125500K .......... .......... .......... .......... .......... 99% 29.2M 0s\n",
       "2125550K .......... .......... .......... .......... .......... 99% 32.7M 0s\n",
       "2125600K .......... .......... .......... .......... .......... 99% 30.6M 0s\n",
       "2125650K .......... .......... .......... .......... .......... 99% 26.6M 0s\n",
       "2125700K .......... .......... .......... .......... .......... 99% 30.5M 0s\n",
       "2125750K                                                       100% 1727G=6m54s\n",
       "\n",
       "2022-04-09 17:25:41 (5.02 MB/s) - ‘/dbfs/tmp/glove/glove.840B.300d.zip.1’ saved [2176768927/2176768927]\n",
       "\n",
       "</div>"
      ]
     },
     "metadata": {
      "application/vnd.databricks.v1+output": {
       "addedWidgets": {},
       "arguments": {},
       "data": "<div class=\"ansiout\">--2022-04-09 17:18:46--  https://nlp.stanford.edu/data/glove.840B.300d.zip\nResolving nlp.stanford.edu (nlp.stanford.edu)... 171.64.67.140\nConnecting to nlp.stanford.edu (nlp.stanford.edu)|171.64.67.140|:443... connected.\nHTTP request sent, awaiting response... 301 Moved Permanently\nLocation: http://downloads.cs.stanford.edu/nlp/data/glove.840B.300d.zip [following]\n--2022-04-09 17:18:47--  http://downloads.cs.stanford.edu/nlp/data/glove.840B.300d.zip\nResolving downloads.cs.stanford.edu (downloads.cs.stanford.edu)... 171.64.64.22\nConnecting to downloads.cs.stanford.edu (downloads.cs.stanford.edu)|171.64.64.22|:80... connected.\nHTTP request sent, awaiting response... 200 OK\nLength: 2176768927 (2.0G) [application/zip]\nSaving to: ‘/dbfs/tmp/glove/glove.840B.300d.zip.1’\n\n     0K .......... .......... .......... .......... ..........  0%  253K 2h19m\n    50K .......... .......... .......... .......... ..........  0%  353K 2h0m\n   100K .......... .......... .......... .......... ..........  0% 1.06M 90m57s\n   150K .......... .......... .......... .......... ..........  0%  453K 87m46s\n   200K .......... .......... .......... .......... ..........  0% 3.98M 71m57s\n   250K .......... .......... .......... .......... ..........  0%  411K 74m19s\n   300K .......... .......... .......... .......... ..........  0% 2.06M 66m6s\n   350K .......... .......... .......... .......... ..........  0% 6.20M 58m32s\n   400K .......... .......... .......... .......... ..........  0% 21.7M 52m12s\n   450K .......... .......... .......... .......... ..........  0% 6.18M 47m33s\n   500K .......... .......... .......... .......... ..........  0%  457K 50m16s\n   550K .......... .......... .......... .......... ..........  0% 3.27M 46m58s\n   600K .......... .......... .......... .......... ..........  0% 6.20M 43m47s\n   650K .......... .......... .......... .......... ..........  0% 13.6M 40m50s\n   700K .......... .......... .......... .......... ..........  0% 30.9M 38m11s\n   750K .......... .......... .......... .......... ..........  0% 33.5M 35m52s\n   800K .......... .......... .......... .......... ..........  0% 32.6M 33m49s\n   850K .......... .......... .......... .......... ..........  0% 15.8M 32m3s\n   900K .......... .......... .......... .......... ..........  0% 27.4M 30m26s\n   950K .......... .......... .......... .......... ..........  0%  509K 32m23s\n  1000K .......... .......... .......... .......... ..........  0% 6.48M 31m6s\n  1050K .......... .......... .......... .......... ..........  0% 6.68M 29m55s\n  1100K .......... .......... .......... .......... ..........  0% 6.31M 28m51s\n  1150K .......... .......... .......... .......... ..........  0% 7.83M 27m50s\n  1200K .......... .......... .......... .......... ..........  0% 15.3M 26m49s\n  1250K .......... .......... .......... .......... ..........  0% 30.3M 25m49s\n  1300K .......... .......... .......... .......... ..........  0% 26.8M 24m55s\n  1350K .......... .......... .......... .......... ..........  0% 32.1M 24m4s\n  1400K .......... .......... .......... .......... ..........  0% 30.7M 23m16s\n  1450K .......... .......... .......... .......... ..........  0% 29.7M 22m32s\n  1500K .......... .......... .......... .......... ..........  0% 25.9M 21m51s\n  1550K .......... .......... .......... .......... ..........  0% 27.4M 21m12s\n  1600K .......... .......... .......... .......... ..........  0% 30.5M 20m36s\n  1650K .......... .......... .......... .......... ..........  0% 26.4M 20m2s\n  1700K .......... .......... .......... .......... ..........  0% 26.5M 19m30s\n  1750K .......... .......... .......... .......... ..........  0% 32.8M 18m59s\n  1800K .......... .......... .......... .......... ..........  0% 32.9M 18m30s\n  1850K .......... .......... .......... .......... ..........  0%  564K 19m40s\n  1900K .......... .......... .......... .......... ..........  0% 10.5M 19m15s\n  1950K .......... .......... .......... .......... ..........  0% 12.8M 18m50s\n  2000K .......... .......... .......... .......... ..........  0% 12.8M 18m26s\n  2050K .......... .......... .......... .......... ..........  0% 14.1M 18m3s\n  2100K .......... .......... .......... .......... ..........  0% 20.2M 17m40s\n  2150K .......... .......... .......... .......... ..........  0% 14.6M 17m20s\n  2200K .......... .......... .......... .......... ..........  0% 16.2M 16m59s\n  2250K .......... .......... .......... .......... ..........  0% 11.7M 16m41s\n  2300K .......... .......... .......... .......... ..........  0% 16.8M 16m22s\n  2350K .......... .......... .......... .......... ..........  0% 32.4M 16m3s\n  2400K .......... .......... .......... .......... ..........  0% 31.2M 15m45s\n  2450K .......... .......... .......... .......... ..........  0% 30.4M 15m27s\n  2500K .......... .......... .......... .......... ..........  0% 25.7M 15m11s\n  2550K .......... .......... .......... .......... ..........  0% 30.8M 14m54s\n  2600K .......... .......... .......... .......... ..........  0% 30.4M 14m39s\n  2650K .......... .......... .......... .......... ..........  0% 30.8M 14m24s\n  2700K .......... .......... .......... .......... ..........  0% 25.9M 14m9s\n  2750K .......... .......... .......... .......... ..........  0% 30.6M 13m55s\n  2800K .......... .......... .......... .......... ..........  0% 30.6M 13m42s\n  2850K .......... .......... .......... .......... ..........  0% 33.7M 13m29s\n  2900K .......... .......... .......... .......... ..........  0% 27.2M 13m16s\n  2950K .......... .......... .......... .......... ..........  0% 32.0M 13m4s\n  3000K .......... .......... .......... .......... ..........  0% 32.4M 12m52s\n  3050K .......... .......... .......... .......... ..........  0% 31.9M 12m41s\n  3100K .......... .......... .......... .......... ..........  0% 27.7M 12m30s\n  3150K .......... .......... .......... .......... ..........  0% 31.8M 12m19s\n  3200K .......... .......... .......... .......... ..........  0% 34.4M 12m9s\n  3250K .......... .......... .......... .......... ..........  0% 35.1M 11m59s\n  3300K .......... .......... .......... .......... ..........  0% 29.9M 11m49s\n  3350K .......... .......... .......... .......... ..........  0% 33.2M 11m39s\n  3400K .......... .......... .......... .......... ..........  0%  626K 12m18s\n  3450K .......... .......... .......... .......... ..........  0% 11.0M 12m11s\n  3500K .......... .......... .......... .......... ..........  0% 18.4M 12m2s\n  3550K .......... .......... .......... .......... ..........  0% 16.4M 11m54s\n  3600K .......... .......... .......... .......... ..........  0% 14.8M 11m46s\n  3650K .......... .......... .......... .......... ..........  0% 13.2M 11m38s\n  3700K .......... .......... .......... .......... ..........  0% 23.0M 11m30s\n  3750K .......... .......... .......... .......... ..........  0% 16.7M 11m23s\n  3800K .......... .......... .......... .......... ..........  0% 10.7M 11m16s\n  3850K .......... .......... .......... .......... ..........  0% 17.6M 11m9s\n  3900K .......... .......... .......... .......... ..........  0% 30.7M 11m1s\n  3950K .......... .......... .......... .......... ..........  0% 32.8M 10m54s\n  4000K .......... .......... .......... .......... ..........  0% 27.6M 10m47s\n  4050K .......... .......... .......... .......... ..........  0% 29.2M 10m40s\n  4100K .......... .......... .......... .......... ..........  0% 29.3M 10m33s\n  4150K .......... .......... .......... .......... ..........  0% 33.2M 10m26s\n  4200K .......... .......... .......... .......... ..........  0% 30.0M 10m19s\n  4250K .......... .......... .......... .......... ..........  0% 26.8M 10m13s\n  4300K .......... .......... .......... .......... ..........  0% 23.9M 10m7s\n  4350K .......... .......... .......... .......... ..........  0% 32.0M 10m1s\n  4400K .......... .......... .......... .......... ..........  0% 24.2M 9m55s\n  4450K .......... .......... .......... .......... ..........  0% 34.1M 9m49s\n  4500K .......... .......... .......... .......... ..........  0% 33.4M 9m43s\n  4550K .......... .......... .......... .......... ..........  0% 37.7M 9m38s\n  4600K .......... .......... .......... .......... ..........  0% 29.8M 9m32s\n  4650K .......... .......... .......... .......... ..........  0% 32.2M 9m27s\n  4700K .......... .......... .......... .......... ..........  0% 31.0M 9m21s\n  4750K .......... .......... .......... .......... ..........  0% 30.0M 9m16s\n  4800K .......... .......... .......... .......... ..........  0% 26.8M 9m11s\n  4850K .......... .......... .......... .......... ..........  0% 29.4M 9m6s\n  4900K .......... .......... .......... .......... ..........  0% 29.2M 9m2s\n  4950K .......... .......... .......... .......... ..........  0%  632K 9m30s\n  5000K .......... .......... .......... .......... ..........  0% 8.98M 9m26s\n  5050K .......... .......... .......... .......... ..........  0% 19.6M 9m22s\n  5100K .......... .......... .......... .......... ..........  0% 1.98M 9m27s\n  5150K .......... .......... .......... .......... ..........  0% 29.9M 9m22s\n  5200K .......... .......... .......... .......... ..........  0% 30.0M 9m17s\n  5250K .......... .......... .......... .......... ..........  0% 31.0M 9m12s\n  5300K .......... .......... .......... .......... ..........  0% 27.3M 9m8s\n  5350K .......... .......... .......... .......... ..........  0% 29.0M 9m3s\n  5400K .......... .......... .......... .......... ..........  0% 32.1M 8m59s\n  5450K .......... .......... .......... .......... ..........  0% 31.3M 8m55s\n  5500K .......... .......... .......... .......... ..........  0% 26.9M 8m51s\n  5550K .......... .......... .......... .......... ..........  0% 31.7M 8m46s\n  5600K .......... .......... .......... .......... ..........  0% 31.5M 8m42s\n  5650K .......... .......... .......... .......... ..........  0% 31.8M 8m38s\n  5700K .......... .......... .......... .......... ..........  0% 27.0M 8m35s\n  5750K .......... .......... .......... .......... ..........  0% 31.6M 8m31s\n  5800K .......... .......... .......... .......... ..........  0% 31.8M 8m27s\n  5850K .......... .......... .......... .......... ..........  0% 30.9M 8m23s\n  5900K .......... .......... .......... .......... ..........  0% 27.1M 8m19s\n  5950K .......... .......... .......... .......... ..........  0% 32.8M 8m16s\n  6000K .......... .......... .......... .......... ..........  0% 34.1M 8m12s\n  6050K .......... .......... .......... .......... ..........  0% 34.6M 8m9s\n  6100K .......... .......... .......... .......... ..........  0% 26.8M 8m5s\n  6150K .......... .......... .......... .......... ..........  0% 32.2M 8m2s\n  6200K .......... .......... .......... .......... ..........  0% 32.1M 7m59s\n  6250K .......... .......... .......... .......... ..........  0% 32.3M 7m55s\n  6300K .......... .......... .......... .......... ..........  0% 24.1M 7m52s\n  6350K .......... .......... .......... .......... ..........  0% 25.7M 7m49s\n  6400K .......... .......... .......... .......... ..........  0% 28.3M 7m46s\n  6450K .......... .......... .......... .......... ..........  0% 2.85M 7m48s\n  6500K .......... .......... .......... .......... ..........  0%  966K 8m1s\n  6550K .......... .......... .......... .......... ..........  0% 7.85M 8m0s\n  6600K .......... .......... .......... .......... ..........  0% 16.9M 7m57s\n  6650K .......... .......... .......... .......... ..........  0% 16.3M 7m54s\n  6700K .......... .......... .......... .......... ..........  0% 9.99M 7m52s\n  6750K .......... .......... .......... .......... ..........  0% 28.8M 7m49s\n  6800K .......... .......... .......... .......... ..........  0% 33.7M 7m46s\n  6850K .......... .......... .......... .......... ..........  0% 10.4M 7m44s\n  6900K .......... .......... .......... .......... ..........  0% 25.9M 7m42s\n  6950K .......... .......... .......... .......... ..........  0% 15.3M 7m39s\n  7000K .......... .......... .......... .......... ..........  0% 28.5M 7m36s\n  7050K .......... .......... .......... .......... ..........  0% 33.1M 7m34s\n  7100K .......... .......... .......... .......... ..........  0% 34.0M 7m31s\n  7150K .......... .......... .......... .......... ..........  0% 32.2M 7m28s\n  7200K .......... .......... .......... .......... ..........  0% 28.6M 7m26s\n  7250K .......... .......... .......... .......... ..........  0% 34.0M 7m23s\n  7300K .......... .......... .......... .......... ..........  0% 33.4M 7m20s\n  7350K .......... .......... .......... .......... ..........  0% 35.2M 7m18s\n  7400K .......... .......... .......... .......... ..........  0% 30.8M 7m15s\n  7450K .......... .......... .......... .......... ..........  0% 31.8M 7m13s\n  7500K .......... .......... .......... .......... ..........  0% 35.1M 7m10s\n  7550K .......... .......... .......... .......... ..........  0% 34.7M 7m8s\n  7600K .......... .......... .......... .......... ..........  0% 30.5M 7m5s\n  7650K .......... .......... .......... .......... ..........  0% 35.6M 7m3s\n  7700K .......... .......... .......... .......... ..........  0% 35.4M 7m1s\n  7750K .......... .......... .......... .......... ..........  0% 39.8M 6m58s\n  7800K .......... .......... .......... .......... ..........  0% 32.7M 6m56s\n  7850K .......... .......... .......... .......... ..........  0% 38.5M 6m54s\n  7900K .......... .......... .......... .......... ..........  0% 39.0M 6m52s\n  7950K .......... .......... .......... .......... ..........  0% 35.5M 6m49s\n  8000K .......... .......... .......... .......... ..........  0%  702K 7m5s\n  8050K .......... .......... .......... .......... ..........  0% 3.21M 7m7s\n  8100K .......... .......... .......... .......... ..........  0% 9.80M 7m5s\n  8150K .......... .......... .......... .......... ..........  0% 23.4M 7m3s\n  8200K .......... .......... .......... .......... ..........  0% 12.8M 7m2s\n  8250K .......... .......... .......... .......... ..........  0% 10.9M 7m0s\n  8300K .......... .......... .......... .......... ..........  0% 27.9M 6m58s\n  8350K .......... .......... .......... .......... ..........  0% 12.6M 6m57s\n  8400K .......... .......... .......... .......... ..........  0% 22.9M 6m55s\n  8450K .......... .......... .......... .......... ..........  0% 21.9M 6m53s\n  8500K .......... .......... .......... .......... ..........  0% 18.8M 6m51s\n  8550K .......... .......... .......... .......... ..........  0% 27.9M 6m49s\n  8600K .......... .......... .......... .......... ..........  0% 26.1M 6m47s\n  8650K .......... .......... .......... .......... ..........  0% 20.5M 6m46s\n  8700K .......... .......... .......... .......... ..........  0% 25.7M 6m44s\n  8750K .......... .......... .......... .......... ..........  0% 24.7M 6m42s\n  8800K .......... .......... .......... .......... ..........  0% 28.8M 6m40s\n  8850K .......... .......... .......... .......... ..........  0% 23.0M 6m38s\n  8900K .......... .......... .......... .......... ..........  0% 29.2M 6m36s\n  8950K .......... .......... .......... .......... ..........  0% 33.5M 6m35s\n  9000K .......... .......... .......... .......... ..........  0% 33.8M 6m33s\n  9050K .......... .......... .......... .......... ..........  0% 28.1M 6m31s\n  9100K .......... .......... .......... .......... ..........  0% 33.2M 6m29s\n  9150K .......... .......... .......... .......... ..........  0% 31.1M 6m27s\n  9200K .......... .......... .......... .......... ..........  0% 33.9M 6m26s\n  9250K .......... .......... .......... .......... ..........  0% 28.6M 6m24s\n  9300K .......... .......... .......... .......... ..........  0% 34.9M 6m22s\n  9350K .......... .......... .......... .......... ..........  0% 35.7M 6m20s\n  9400K .......... .......... .......... .......... ..........  0% 33.0M 6m19s\n  9450K .......... .......... .......... .......... ..........  0% 30.0M 6m17s\n  9500K .......... .......... .......... .......... ..........  0% 1.60M 6m22s\n  9550K .......... .......... .......... .......... ..........  0% 1.29M 6m28s\n  9600K .......... .......... .......... .......... ..........  0% 3.09M 6m30s\n  9650K .......... .......... .......... .......... ..........  0% 11.4M 6m29s\n  9700K .......... .......... .......... .......... ..........  0% 12.0M 6m27s\n  9750K .......... .......... .......... .......... ..........  0% 10.4M 6m26s\n  9800K .......... .......... .......... .......... ..........  0% 28.9M 6m25s\n  9850K .......... .......... .......... .......... ..........  0% 32.0M 6m23s\n  9900K .......... .......... .......... .......... ..........  0% 9.54M 6m22s\n  9950K .......... .......... .......... .......... ..........  0% 26.9M 6m21s\n 10000K .......... .......... .......... .......... ..........  0% 33.5M 6m19s\n 10050K .......... .......... .......... .......... ..........  0% 16.1M 6m18s\n 10100K .......... .......... .......... .......... ..........  0% 30.6M 6m16s\n 10150K .......... .......... .......... .......... ..........  0% 31.2M 6m15s\n 10200K .......... .......... .......... .......... ..........  0% 18.9M 6m14s\n 10250K .......... .......... .......... .......... ..........  0% 33.5M 6m12s\n 10300K .......... .......... .......... .......... ..........  0% 32.1M 6m11s\n 10350K .......... .......... .......... .......... ..........  0% 32.9M 6m9s\n 10400K .......... .......... .......... .......... ..........  0% 29.1M 6m8s\n 10450K .......... .......... .......... .......... ..........  0% 33.5M 6m6s\n 10500K .......... .......... .......... .......... ..........  0% 33.3M 6m5s\n 10550K .......... .......... .......... .......... ..........  0% 34.3M 6m3s\n 10600K .......... .......... .......... .......... ..........  0% 29.6M 6m2s\n 10650K .......... .......... .......... .......... ..........  0% 34.4M 6m1s\n 10700K .......... .......... .......... .......... ..........  0% 34.9M 5m59s\n 10750K .......... .......... .......... .......... ..........  0% 33.5M 5m58s\n 10800K .......... .......... .......... .......... ..........  0% 27.8M 5m56s\n 10850K .......... .......... .......... .......... ..........  0% 33.0M 5m55s\n 10900K .......... .......... .......... .......... ..........  0% 33.4M 5m54s\n 10950K .......... .......... .......... .......... ..........  0% 32.3M 5m52s\n 11000K .......... .......... .......... .......... ..........  0% 27.8M 5m51s\n 11050K .......... .......... .......... .......... ..........  0%  738K 6m2s\n 11100K .......... .......... .......... .......... ..........  0% 4.46M 6m3s\n 11150K .......... .......... .......... .......... ..........  0% 5.45M 6m3s\n 11200K .......... .......... .......... .......... ..........  0% 24.0M 6m2s\n 11250K .......... .......... .......... .......... ..........  0% 11.7M 6m1s\n 11300K .......... .......... .......... .......... ..........  0% 10.2M 6m0s\n 11350K .......... .......... .......... .......... ..........  0% 31.7M 5m59s\n 11400K .......... .......... .......... .......... ..........  0% 27.4M 5m58s\n 11450K .......... .......... .......... .......... ..........  0% 11.1M 5m57s\n 11500K .......... .......... .......... .......... ..........  0% 29.3M 5m56s\n 11550K .......... .......... .......... .......... ..........  0% 14.3M 5m55s\n 11600K .......... .......... .......... .......... ..........  0% 30.7M 5m53s\n 11650K .......... .......... .......... .......... ..........  0% 31.7M 5m52s\n 11700K .......... .......... .......... .......... ..........  0% 26.6M 5m51s\n 11750K .......... .......... .......... .......... ..........  0% 31.3M 5m50s\n 11800K .......... .......... .......... .......... ..........  0% 31.4M 5m49s\n 11850K .......... .......... .......... .......... ..........  0% 27.6M 5m47s\n 11900K .......... .......... .......... .......... ..........  0% 25.4M 5m46s\n 11950K .......... .......... .......... .......... ..........  0% 31.7M 5m45s\n 12000K .......... .......... .......... .......... ..........  0% 31.2M 5m44s\n 12050K .......... .......... .......... .......... ..........  0% 33.4M 5m43s\n 12100K .......... .......... .......... .......... ..........  0% 27.5M 5m42s\n 12150K .......... .......... .......... .......... ..........  0% 32.5M 5m41s\n 12200K .......... .......... .......... .......... ..........  0% 30.0M 5m39s\n 12250K .......... .......... .......... .......... ..........  0% 32.2M 5m38s\n 12300K .......... .......... .......... .......... ..........  0% 27.1M 5m37s\n 12350K .......... .......... .......... .......... ..........  0% 30.1M 5m36s\n 12400K .......... .......... .......... .......... ..........  0% 31.5M 5m35s\n 12450K .......... .......... .......... .......... ..........  0% 31.3M 5m34s\n 12500K .......... .......... .......... .......... ..........  0% 26.7M 5m33s\n 12550K .......... .......... .......... .......... ..........  0% 30.9M 5m32s\n 12600K .......... .......... .......... .......... ..........  0%  756K 5m42s\n 12650K .......... .......... .......... .......... ..........  0% 3.08M 5m43s\n 12700K .......... .......... .......... .......... ..........  0% 11.6M 5m42s\n 12750K .......... .......... .......... .......... ..........  0% 8.52M 5m42s\n 12800K .......... .......... .......... .......... ..........  0% 31.5M 5m41s\n 12850K .......... .......... .......... .......... ..........  0% 10.6M 5m40s\n 12900K .......... .......... .......... .......... ..........  0% 20.7M 5m39s\n 12950K .......... .......... .......... .......... ..........  0% 10.5M 5m39s\n 13000K .......... .......... .......... .......... ..........  0% 23.3M 5m38s\n 13050K .......... .......... .......... .......... ..........  0% 31.1M 5m37s\n 13100K .......... .......... .......... .......... ..........  0% 17.9M 5m36s\n 13150K .......... .......... .......... .......... ..........  0% 26.2M 5m35s\n 13200K .......... .......... .......... .......... ..........  0% 28.5M 5m34s\n 13250K .......... .......... .......... .......... ..........  0% 24.3M 5m33s\n 13300K .......... .......... .......... .......... ..........  0% 24.4M 5m32s\n 13350K .......... .......... .......... .......... ..........  0% 32.2M 5m31s\n 13400K .......... .......... .......... .......... ..........  0% 25.9M 5m30s\n 13450K .......... .......... .......... .......... ..........  0% 32.6M 5m29s\n 13500K .......... .......... .......... .......... ..........  0% 28.2M 5m28s\n 13550K .......... .......... .......... .......... ..........  0% 21.5M 5m27s\n 13600K .......... .......... .......... .......... ..........  0% 31.5M 5m26s\n 13650K .......... .......... .......... .......... ..........  0% 27.6M 5m25s\n 13700K .......... .......... .......... .......... ..........  0% 27.0M 5m24s\n 13750K .......... .......... .......... .......... ..........  0% 23.6M 5m24s\n 13800K .......... .......... .......... .......... ..........  0% 33.2M 5m23s\n 13850K .......... .......... .......... .......... ..........  0% 30.6M 5m22s\n 13900K .......... .......... .......... .......... ..........  0% 24.4M 5m21s\n 13950K .......... .......... .......... .......... ..........  0% 27.6M 5m20s\n 14000K .......... .......... .......... .......... ..........  0% 32.6M 5m19s\n 14050K .......... .......... .......... .......... ..........  0% 32.3M 5m18s\n 14100K .......... .......... .......... .......... ..........  0% 32.7M 5m17s\n 14150K .......... .......... .......... .......... ..........  0%  691K 5m27s\n 14200K .......... .......... .......... .......... ..........  0% 7.86M 5m27s\n 14250K .......... .......... .......... .......... ..........  0% 9.34M 5m26s\n 14300K .......... .......... .......... .......... ..........  0% 10.7M 5m26s\n 14350K .......... .......... .......... .......... ..........  0% 8.69M 5m25s\n 14400K .......... .......... .......... .......... ..........  0% 14.0M 5m25s\n 14450K .......... .......... .......... .......... ..........  0% 19.3M 5m24s\n 14500K .......... .......... .......... .......... ..........  0% 11.7M 5m24s\n 14550K .......... .......... .......... .......... ..........  0% 28.3M 5m23s\n 14600K .......... .......... .......... .......... ..........  0% 16.7M 5m22s\n 14650K .......... .......... .......... .......... ..........  0% 16.8M 5m21s\n 14700K .......... .......... .......... .......... ..........  0% 29.0M 5m20s\n 14750K .......... .......... .......... .......... ..........  0% 27.1M 5m20s\n 14800K .......... .......... .......... .......... ..........  0% 28.5M 5m19s\n 14850K .......... .......... .......... .......... ..........  0% 18.1M 5m18s\n 14900K .......... .......... .......... .......... ..........  0% 15.6M 5m17s\n 14950K .......... .......... .......... .......... ..........  0% 14.3M 5m17s\n 15000K .......... .......... .......... .......... ..........  0% 27.7M 5m16s\n 15050K .......... .......... .......... .......... ..........  0% 17.7M 5m15s\n 15100K .......... .......... .......... .......... ..........  0% 32.7M 5m15s\n 15150K .......... .......... .......... .......... ..........  0% 27.9M 5m14s\n 15200K .......... .......... .......... .......... ..........  0% 32.1M 5m13s\n 15250K .......... .......... .......... .......... ..........  0% 32.8M 5m12s\n 15300K .......... .......... .......... .......... ..........  0% 32.4M 5m11s\n\n*** WARNING: skipped 3306093 bytes of output ***\n\n2109650K .......... .......... .......... .......... .......... 99% 28.2M 3s\n2109700K .......... .......... .......... .......... .......... 99%  556K 3s\n2109750K .......... .......... .......... .......... .......... 99% 22.2M 3s\n2109800K .......... .......... .......... .......... .......... 99% 28.8M 3s\n2109850K .......... .......... .......... .......... .......... 99% 26.8M 3s\n2109900K .......... .......... .......... .......... .......... 99% 25.0M 3s\n2109950K .......... .......... .......... .......... .......... 99% 23.7M 3s\n2110000K .......... .......... .......... .......... .......... 99% 31.3M 3s\n2110050K .......... .......... .......... .......... .......... 99% 34.9M 3s\n2110100K .......... .......... .......... .......... .......... 99% 34.7M 3s\n2110150K .......... .......... .......... .......... .......... 99% 28.2M 3s\n2110200K .......... .......... .......... .......... .......... 99% 33.3M 3s\n2110250K .......... .......... .......... .......... .......... 99% 34.0M 3s\n2110300K .......... .......... .......... .......... .......... 99% 31.2M 3s\n2110350K .......... .......... .......... .......... .......... 99% 26.9M 3s\n2110400K .......... .......... .......... .......... .......... 99% 31.3M 3s\n2110450K .......... .......... .......... .......... .......... 99% 31.5M 3s\n2110500K .......... .......... .......... .......... .......... 99% 31.3M 3s\n2110550K .......... .......... .......... .......... .......... 99% 27.6M 3s\n2110600K .......... .......... .......... .......... .......... 99% 32.6M 3s\n2110650K .......... .......... .......... .......... .......... 99% 31.1M 3s\n2110700K .......... .......... .......... .......... .......... 99% 32.7M 3s\n2110750K .......... .......... .......... .......... .......... 99% 28.0M 3s\n2110800K .......... .......... .......... .......... .......... 99% 32.7M 3s\n2110850K .......... .......... .......... .......... .......... 99% 32.3M 3s\n2110900K .......... .......... .......... .......... .......... 99% 31.6M 3s\n2110950K .......... .......... .......... .......... .......... 99% 26.1M 3s\n2111000K .......... .......... .......... .......... .......... 99% 30.4M 3s\n2111050K .......... .......... .......... .......... .......... 99% 30.6M 3s\n2111100K .......... .......... .......... .......... .......... 99% 30.7M 3s\n2111150K .......... .......... .......... .......... .......... 99%  522K 3s\n2111200K .......... .......... .......... .......... .......... 99% 29.8M 3s\n2111250K .......... .......... .......... .......... .......... 99% 30.1M 3s\n2111300K .......... .......... .......... .......... .......... 99% 25.7M 3s\n2111350K .......... .......... .......... .......... .......... 99% 30.2M 3s\n2111400K .......... .......... .......... .......... .......... 99% 30.0M 3s\n2111450K .......... .......... .......... .......... .......... 99% 30.0M 3s\n2111500K .......... .......... .......... .......... .......... 99% 25.9M 3s\n2111550K .......... .......... .......... .......... .......... 99% 30.4M 3s\n2111600K .......... .......... .......... .......... .......... 99% 30.5M 3s\n2111650K .......... .......... .......... .......... .......... 99% 30.1M 3s\n2111700K .......... .......... .......... .......... .......... 99% 26.4M 3s\n2111750K .......... .......... .......... .......... .......... 99% 29.3M 3s\n2111800K .......... .......... .......... .......... .......... 99% 29.6M 3s\n2111850K .......... .......... .......... .......... .......... 99% 31.7M 3s\n2111900K .......... .......... .......... .......... .......... 99% 26.4M 3s\n2111950K .......... .......... .......... .......... .......... 99% 32.3M 3s\n2112000K .......... .......... .......... .......... .......... 99% 33.4M 3s\n2112050K .......... .......... .......... .......... .......... 99% 30.7M 3s\n2112100K .......... .......... .......... .......... .......... 99% 26.0M 3s\n2112150K .......... .......... .......... .......... .......... 99% 30.7M 3s\n2112200K .......... .......... .......... .......... .......... 99%  105K 3s\n2112250K .......... .......... .......... .......... .......... 99% 29.6M 3s\n2112300K .......... .......... .......... .......... .......... 99% 30.1M 3s\n2112350K .......... .......... .......... .......... .......... 99% 22.9M 3s\n2112400K .......... .......... .......... .......... .......... 99% 20.1M 3s\n2112450K .......... .......... .......... .......... .......... 99% 27.5M 3s\n2112500K .......... .......... .......... .......... .......... 99% 25.5M 3s\n2112550K .......... .......... .......... .......... .......... 99% 24.9M 3s\n2112600K .......... .......... .......... .......... .......... 99% 23.8M 3s\n2112650K .......... .......... .......... .......... .......... 99% 24.7M 3s\n2112700K .......... .......... .......... .......... .......... 99% 27.4M 3s\n2112750K .......... .......... .......... .......... .......... 99% 30.5M 3s\n2112800K .......... .......... .......... .......... .......... 99% 27.0M 3s\n2112850K .......... .......... .......... .......... .......... 99% 33.3M 3s\n2112900K .......... .......... .......... .......... .......... 99% 33.6M 2s\n2112950K .......... .......... .......... .......... .......... 99% 32.4M 2s\n2113000K .......... .......... .......... .......... .......... 99% 23.1M 2s\n2113050K .......... .......... .......... .......... .......... 99% 35.3M 2s\n2113100K .......... .......... .......... .......... .......... 99% 35.5M 2s\n2113150K .......... .......... .......... .......... .......... 99% 35.5M 2s\n2113200K .......... .......... .......... .......... .......... 99% 30.7M 2s\n2113250K .......... .......... .......... .......... .......... 99% 34.4M 2s\n2113300K .......... .......... .......... .......... .......... 99% 35.2M 2s\n2113350K .......... .......... .......... .......... .......... 99% 35.0M 2s\n2113400K .......... .......... .......... .......... .......... 99% 28.2M 2s\n2113450K .......... .......... .......... .......... .......... 99% 32.7M 2s\n2113500K .......... .......... .......... .......... .......... 99% 29.6M 2s\n2113550K .......... .......... .......... .......... .......... 99% 30.9M 2s\n2113600K .......... .......... .......... .......... .......... 99% 26.7M 2s\n2113650K .......... .......... .......... .......... .......... 99% 29.6M 2s\n2113700K .......... .......... .......... .......... .......... 99% 31.5M 2s\n2113750K .......... .......... .......... .......... .......... 99%  548K 2s\n2113800K .......... .......... .......... .......... .......... 99% 30.5M 2s\n2113850K .......... .......... .......... .......... .......... 99% 30.8M 2s\n2113900K .......... .......... .......... .......... .......... 99% 27.3M 2s\n2113950K .......... .......... .......... .......... .......... 99% 32.6M 2s\n2114000K .......... .......... .......... .......... .......... 99% 32.5M 2s\n2114050K .......... .......... .......... .......... .......... 99% 30.0M 2s\n2114100K .......... .......... .......... .......... .......... 99% 27.1M 2s\n2114150K .......... .......... .......... .......... .......... 99% 30.0M 2s\n2114200K .......... .......... .......... .......... .......... 99% 30.9M 2s\n2114250K .......... .......... .......... .......... .......... 99% 29.4M 2s\n2114300K .......... .......... .......... .......... .......... 99% 25.0M 2s\n2114350K .......... .......... .......... .......... .......... 99% 30.2M 2s\n2114400K .......... .......... .......... .......... .......... 99% 30.8M 2s\n2114450K .......... .......... .......... .......... .......... 99% 31.6M 2s\n2114500K .......... .......... .......... .......... .......... 99% 26.8M 2s\n2114550K .......... .......... .......... .......... .......... 99% 31.7M 2s\n2114600K .......... .......... .......... .......... .......... 99% 33.7M 2s\n2114650K .......... .......... .......... .......... .......... 99% 33.1M 2s\n2114700K .......... .......... .......... .......... .......... 99% 27.6M 2s\n2114750K .......... .......... .......... .......... .......... 99% 32.7M 2s\n2114800K .......... .......... .......... .......... .......... 99% 31.7M 2s\n2114850K .......... .......... .......... .......... .......... 99% 32.1M 2s\n2114900K .......... .......... .......... .......... .......... 99% 28.2M 2s\n2114950K .......... .......... .......... .......... .......... 99% 32.9M 2s\n2115000K .......... .......... .......... .......... .......... 99% 34.9M 2s\n2115050K .......... .......... .......... .......... .......... 99% 34.7M 2s\n2115100K .......... .......... .......... .......... .......... 99% 29.1M 2s\n2115150K .......... .......... .......... .......... .......... 99% 33.2M 2s\n2115200K .......... .......... .......... .......... .......... 99% 33.4M 2s\n2115250K .......... .......... .......... .......... .......... 99% 3.71M 2s\n2115300K .......... .......... .......... .......... .......... 99%  603K 2s\n2115350K .......... .......... .......... .......... .......... 99% 30.6M 2s\n2115400K .......... .......... .......... .......... .......... 99% 25.9M 2s\n2115450K .......... .......... .......... .......... .......... 99% 30.1M 2s\n2115500K .......... .......... .......... .......... .......... 99% 31.3M 2s\n2115550K .......... .......... .......... .......... .......... 99% 30.8M 2s\n2115600K .......... .......... .......... .......... .......... 99% 26.2M 2s\n2115650K .......... .......... .......... .......... .......... 99% 31.1M 2s\n2115700K .......... .......... .......... .......... .......... 99% 31.2M 2s\n2115750K .......... .......... .......... .......... .......... 99% 33.2M 2s\n2115800K .......... .......... .......... .......... .......... 99% 28.2M 2s\n2115850K .......... .......... .......... .......... .......... 99% 33.1M 2s\n2115900K .......... .......... .......... .......... .......... 99% 32.9M 2s\n2115950K .......... .......... .......... .......... .......... 99% 33.3M 2s\n2116000K .......... .......... .......... .......... .......... 99% 28.6M 2s\n2116050K .......... .......... .......... .......... .......... 99% 32.0M 2s\n2116100K .......... .......... .......... .......... .......... 99% 33.6M 2s\n2116150K .......... .......... .......... .......... .......... 99% 33.5M 2s\n2116200K .......... .......... .......... .......... .......... 99% 29.7M 2s\n2116250K .......... .......... .......... .......... .......... 99% 34.9M 2s\n2116300K .......... .......... .......... .......... .......... 99%  104K 2s\n2116350K .......... .......... .......... .......... .......... 99% 31.8M 2s\n2116400K .......... .......... .......... .......... .......... 99% 32.1M 2s\n2116450K .......... .......... .......... .......... .......... 99% 31.6M 2s\n2116500K .......... .......... .......... .......... .......... 99% 28.0M 2s\n2116550K .......... .......... .......... .......... .......... 99% 32.8M 2s\n2116600K .......... .......... .......... .......... .......... 99% 32.1M 2s\n2116650K .......... .......... .......... .......... .......... 99% 31.5M 2s\n2116700K .......... .......... .......... .......... .......... 99% 26.6M 2s\n2116750K .......... .......... .......... .......... .......... 99% 31.7M 2s\n2116800K .......... .......... .......... .......... .......... 99% 31.8M 2s\n2116850K .......... .......... .......... .......... .......... 99% 32.1M 2s\n2116900K .......... .......... .......... .......... .......... 99% 27.2M 2s\n2116950K .......... .......... .......... .......... .......... 99% 33.1M 2s\n2117000K .......... .......... .......... .......... .......... 99% 32.9M 2s\n2117050K .......... .......... .......... .......... .......... 99% 32.9M 2s\n2117100K .......... .......... .......... .......... .......... 99% 27.2M 2s\n2117150K .......... .......... .......... .......... .......... 99% 31.6M 2s\n2117200K .......... .......... .......... .......... .......... 99% 32.2M 2s\n2117250K .......... .......... .......... .......... .......... 99% 31.8M 2s\n2117300K .......... .......... .......... .......... .......... 99% 27.0M 2s\n2117350K .......... .......... .......... .......... .......... 99% 32.0M 2s\n2117400K .......... .......... .......... .......... .......... 99% 31.8M 2s\n2117450K .......... .......... .......... .......... .......... 99% 32.9M 2s\n2117500K .......... .......... .......... .......... .......... 99% 29.3M 2s\n2117550K .......... .......... .......... .......... .......... 99% 33.5M 2s\n2117600K .......... .......... .......... .......... .......... 99% 32.7M 2s\n2117650K .......... .......... .......... .......... .......... 99% 32.8M 2s\n2117700K .......... .......... .......... .......... .......... 99% 27.7M 2s\n2117750K .......... .......... .......... .......... .......... 99% 32.7M 2s\n2117800K .......... .......... .......... .......... .......... 99% 32.5M 2s\n2117850K .......... .......... .......... .......... .......... 99%  525K 2s\n2117900K .......... .......... .......... .......... .......... 99% 30.3M 2s\n2117950K .......... .......... .......... .......... .......... 99% 29.4M 2s\n2118000K .......... .......... .......... .......... .......... 99% 33.7M 1s\n2118050K .......... .......... .......... .......... .......... 99% 34.2M 1s\n2118100K .......... .......... .......... .......... .......... 99% 28.3M 1s\n2118150K .......... .......... .......... .......... .......... 99% 33.7M 1s\n2118200K .......... .......... .......... .......... .......... 99% 33.5M 1s\n2118250K .......... .......... .......... .......... .......... 99% 33.7M 1s\n2118300K .......... .......... .......... .......... .......... 99% 29.0M 1s\n2118350K .......... .......... .......... .......... .......... 99% 33.8M 1s\n2118400K .......... .......... .......... .......... .......... 99% 32.2M 1s\n2118450K .......... .......... .......... .......... .......... 99% 33.9M 1s\n2118500K .......... .......... .......... .......... .......... 99% 28.8M 1s\n2118550K .......... .......... .......... .......... .......... 99% 33.7M 1s\n2118600K .......... .......... .......... .......... .......... 99% 33.9M 1s\n2118650K .......... .......... .......... .......... .......... 99% 32.6M 1s\n2118700K .......... .......... .......... .......... .......... 99% 29.0M 1s\n2118750K .......... .......... .......... .......... .......... 99% 35.0M 1s\n2118800K .......... .......... .......... .......... .......... 99% 33.9M 1s\n2118850K .......... .......... .......... .......... .......... 99% 34.9M 1s\n2118900K .......... .......... .......... .......... .......... 99% 28.8M 1s\n2118950K .......... .......... .......... .......... .......... 99% 33.5M 1s\n2119000K .......... .......... .......... .......... .......... 99% 32.1M 1s\n2119050K .......... .......... .......... .......... .......... 99% 32.5M 1s\n2119100K .......... .......... .......... .......... .......... 99% 29.4M 1s\n2119150K .......... .......... .......... .......... .......... 99% 34.6M 1s\n2119200K .......... .......... .......... .......... .......... 99% 34.9M 1s\n2119250K .......... .......... .......... .......... .......... 99% 39.1M 1s\n2119300K .......... .......... .......... .......... .......... 99% 33.0M 1s\n2119350K .......... .......... .......... .......... .......... 99% 34.8M 1s\n2119400K .......... .......... .......... .......... .......... 99%  510K 1s\n2119450K .......... .......... .......... .......... .......... 99% 35.7M 1s\n2119500K .......... .......... .......... .......... .......... 99% 28.9M 1s\n2119550K .......... .......... .......... .......... .......... 99% 33.3M 1s\n2119600K .......... .......... .......... .......... .......... 99% 33.7M 1s\n2119650K .......... .......... .......... .......... .......... 99% 33.5M 1s\n2119700K .......... .......... .......... .......... .......... 99% 19.0M 1s\n2119750K .......... .......... .......... .......... .......... 99% 27.3M 1s\n2119800K .......... .......... .......... .......... .......... 99% 33.3M 1s\n2119850K .......... .......... .......... .......... .......... 99% 32.5M 1s\n2119900K .......... .......... .......... .......... .......... 99% 28.4M 1s\n2119950K .......... .......... .......... .......... .......... 99% 33.0M 1s\n2120000K .......... .......... .......... .......... .......... 99% 33.3M 1s\n2120050K .......... .......... .......... .......... .......... 99% 33.0M 1s\n2120100K .......... .......... .......... .......... .......... 99% 30.3M 1s\n2120150K .......... .......... .......... .......... .......... 99% 33.4M 1s\n2120200K .......... .......... .......... .......... .......... 99% 32.3M 1s\n2120250K .......... .......... .......... .......... .......... 99% 32.2M 1s\n2120300K .......... .......... .......... .......... .......... 99%  106K 1s\n2120350K .......... .......... .......... .......... .......... 99% 31.4M 1s\n2120400K .......... .......... .......... .......... .......... 99% 32.6M 1s\n2120450K .......... .......... .......... .......... .......... 99% 28.2M 1s\n2120500K .......... .......... .......... .......... .......... 99% 32.8M 1s\n2120550K .......... .......... .......... .......... .......... 99% 32.7M 1s\n2120600K .......... .......... .......... .......... .......... 99% 33.0M 1s\n2120650K .......... .......... .......... .......... .......... 99% 28.0M 1s\n2120700K .......... .......... .......... .......... .......... 99% 33.0M 1s\n2120750K .......... .......... .......... .......... .......... 99% 33.4M 1s\n2120800K .......... .......... .......... .......... .......... 99% 32.0M 1s\n2120850K .......... .......... .......... .......... .......... 99% 27.4M 1s\n2120900K .......... .......... .......... .......... .......... 99% 32.6M 1s\n2120950K .......... .......... .......... .......... .......... 99% 33.1M 1s\n2121000K .......... .......... .......... .......... .......... 99% 33.5M 1s\n2121050K .......... .......... .......... .......... .......... 99% 28.9M 1s\n2121100K .......... .......... .......... .......... .......... 99% 33.1M 1s\n2121150K .......... .......... .......... .......... .......... 99% 32.2M 1s\n2121200K .......... .......... .......... .......... .......... 99% 31.9M 1s\n2121250K .......... .......... .......... .......... .......... 99% 27.8M 1s\n2121300K .......... .......... .......... .......... .......... 99% 32.4M 1s\n2121350K .......... .......... .......... .......... .......... 99% 33.0M 1s\n2121400K .......... .......... .......... .......... .......... 99% 32.5M 1s\n2121450K .......... .......... .......... .......... .......... 99% 27.5M 1s\n2121500K .......... .......... .......... .......... .......... 99% 32.2M 1s\n2121550K .......... .......... .......... .......... .......... 99% 32.4M 1s\n2121600K .......... .......... .......... .......... .......... 99% 32.7M 1s\n2121650K .......... .......... .......... .......... .......... 99% 28.0M 1s\n2121700K .......... .......... .......... .......... .......... 99% 32.6M 1s\n2121750K .......... .......... .......... .......... .......... 99% 32.6M 1s\n2121800K .......... .......... .......... .......... .......... 99% 32.9M 1s\n2121850K .......... .......... .......... .......... .......... 99%  521K 1s\n2121900K .......... .......... .......... .......... .......... 99% 31.3M 1s\n2121950K .......... .......... .......... .......... .......... 99% 30.4M 1s\n2122000K .......... .......... .......... .......... .......... 99% 26.7M 1s\n2122050K .......... .......... .......... .......... .......... 99% 32.9M 1s\n2122100K .......... .......... .......... .......... .......... 99% 32.6M 1s\n2122150K .......... .......... .......... .......... .......... 99% 31.3M 1s\n2122200K .......... .......... .......... .......... .......... 99% 27.7M 1s\n2122250K .......... .......... .......... .......... .......... 99% 21.2M 1s\n2122300K .......... .......... .......... .......... .......... 99% 24.2M 1s\n2122350K .......... .......... .......... .......... .......... 99% 32.5M 1s\n2122400K .......... .......... .......... .......... .......... 99% 28.8M 1s\n2122450K .......... .......... .......... .......... .......... 99% 31.5M 1s\n2122500K .......... .......... .......... .......... .......... 99% 32.9M 1s\n2122550K .......... .......... .......... .......... .......... 99% 33.5M 1s\n2122600K .......... .......... .......... .......... .......... 99% 28.0M 1s\n2122650K .......... .......... .......... .......... .......... 99% 33.3M 1s\n2122700K .......... .......... .......... .......... .......... 99% 33.6M 1s\n2122750K .......... .......... .......... .......... .......... 99% 34.0M 1s\n2122800K .......... .......... .......... .......... .......... 99% 28.4M 1s\n2122850K .......... .......... .......... .......... .......... 99% 32.6M 1s\n2122900K .......... .......... .......... .......... .......... 99% 32.5M 1s\n2122950K .......... .......... .......... .......... .......... 99% 32.7M 1s\n2123000K .......... .......... .......... .......... .......... 99% 22.8M 1s\n2123050K .......... .......... .......... .......... .......... 99% 32.6M 1s\n2123100K .......... .......... .......... .......... .......... 99% 32.1M 1s\n2123150K .......... .......... .......... .......... .......... 99% 32.4M 0s\n2123200K .......... .......... .......... .......... .......... 99% 27.7M 0s\n2123250K .......... .......... .......... .......... .......... 99% 33.9M 0s\n2123300K .......... .......... .......... .......... .......... 99% 34.7M 0s\n2123350K .......... .......... .......... .......... .......... 99% 33.2M 0s\n2123400K .......... .......... .......... .......... .......... 99%  534K 0s\n2123450K .......... .......... .......... .......... .......... 99% 26.4M 0s\n2123500K .......... .......... .......... .......... .......... 99% 30.5M 0s\n2123550K .......... .......... .......... .......... .......... 99% 31.2M 0s\n2123600K .......... .......... .......... .......... .......... 99% 26.9M 0s\n2123650K .......... .......... .......... .......... .......... 99% 33.4M 0s\n2123700K .......... .......... .......... .......... .......... 99% 32.5M 0s\n2123750K .......... .......... .......... .......... .......... 99% 31.4M 0s\n2123800K .......... .......... .......... .......... .......... 99% 27.4M 0s\n2123850K .......... .......... .......... .......... .......... 99% 31.9M 0s\n2123900K .......... .......... .......... .......... .......... 99% 32.8M 0s\n2123950K .......... .......... .......... .......... .......... 99% 30.8M 0s\n2124000K .......... .......... .......... .......... .......... 99% 26.9M 0s\n2124050K .......... .......... .......... .......... .......... 99% 32.3M 0s\n2124100K .......... .......... .......... .......... .......... 99% 32.4M 0s\n2124150K .......... .......... .......... .......... .......... 99% 33.9M 0s\n2124200K .......... .......... .......... .......... .......... 99% 27.0M 0s\n2124250K .......... .......... .......... .......... .......... 99% 32.5M 0s\n2124300K .......... .......... .......... .......... .......... 99% 32.8M 0s\n2124350K .......... .......... .......... .......... .......... 99% 31.0M 0s\n2124400K .......... .......... .......... .......... .......... 99%  104K 0s\n2124450K .......... .......... .......... .......... .......... 99% 25.7M 0s\n2124500K .......... .......... .......... .......... .......... 99% 30.8M 0s\n2124550K .......... .......... .......... .......... .......... 99% 32.2M 0s\n2124600K .......... .......... .......... .......... .......... 99% 31.5M 0s\n2124650K .......... .......... .......... .......... .......... 99% 26.4M 0s\n2124700K .......... .......... .......... .......... .......... 99% 31.3M 0s\n2124750K .......... .......... .......... .......... .......... 99% 30.7M 0s\n2124800K .......... .......... .......... .......... .......... 99% 33.4M 0s\n2124850K .......... .......... .......... .......... .......... 99% 26.3M 0s\n2124900K .......... .......... .......... .......... .......... 99% 30.6M 0s\n2124950K .......... .......... .......... .......... .......... 99% 31.7M 0s\n2125000K .......... .......... .......... .......... .......... 99% 30.0M 0s\n2125050K .......... .......... .......... .......... .......... 99% 27.0M 0s\n2125100K .......... .......... .......... .......... .......... 99% 31.5M 0s\n2125150K .......... .......... .......... .......... .......... 99% 32.1M 0s\n2125200K .......... .......... .......... .......... .......... 99% 32.9M 0s\n2125250K .......... .......... .......... .......... .......... 99% 27.0M 0s\n2125300K .......... .......... .......... .......... .......... 99% 30.4M 0s\n2125350K .......... .......... .......... .......... .......... 99% 30.7M 0s\n2125400K .......... .......... .......... .......... .......... 99% 30.9M 0s\n2125450K .......... .......... .......... .......... .......... 99% 26.5M 0s\n2125500K .......... .......... .......... .......... .......... 99% 29.2M 0s\n2125550K .......... .......... .......... .......... .......... 99% 32.7M 0s\n2125600K .......... .......... .......... .......... .......... 99% 30.6M 0s\n2125650K .......... .......... .......... .......... .......... 99% 26.6M 0s\n2125700K .......... .......... .......... .......... .......... 99% 30.5M 0s\n2125750K                                                       100% 1727G=6m54s\n\n2022-04-09 17:25:41 (5.02 MB/s) - ‘/dbfs/tmp/glove/glove.840B.300d.zip.1’ saved [2176768927/2176768927]\n\n</div>",
       "datasetInfos": [],
       "metadata": {},
       "removedWidgets": [],
       "type": "html"
      }
     },
     "output_type": "display_data"
    }
   ],
   "source": [
    "%sh\n",
    "wget https://nlp.stanford.edu/data/glove.840B.300d.zip -P /dbfs/tmp/glove"
   ]
  },
  {
   "cell_type": "code",
   "execution_count": 0,
   "metadata": {
    "application/vnd.databricks.v1+cell": {
     "inputWidgets": {},
     "nuid": "3fd3390b-be3d-4bb6-ba8b-72d101fba23f",
     "showTitle": false,
     "title": ""
    }
   },
   "outputs": [
    {
     "data": {
      "text/html": [
       "<style scoped>\n",
       "  .ansiout {\n",
       "    display: block;\n",
       "    unicode-bidi: embed;\n",
       "    white-space: pre-wrap;\n",
       "    word-wrap: break-word;\n",
       "    word-break: break-all;\n",
       "    font-family: \"Source Code Pro\", \"Menlo\", monospace;;\n",
       "    font-size: 13px;\n",
       "    color: #555;\n",
       "    margin-left: 4px;\n",
       "    line-height: 19px;\n",
       "  }\n",
       "</style>\n",
       "<div class=\"ansiout\">Out[32]: [FileInfo(path=&#39;dbfs:/tmp/glove/download&#39;, name=&#39;download&#39;, size=6587),\n",
       " FileInfo(path=&#39;dbfs:/tmp/glove/glove.840B.300d.txt&#39;, name=&#39;glove.840B.300d.txt&#39;, size=5646236541),\n",
       " FileInfo(path=&#39;dbfs:/tmp/glove/glove.840B.300d.zip&#39;, name=&#39;glove.840B.300d.zip&#39;, size=2176768927),\n",
       " FileInfo(path=&#39;dbfs:/tmp/glove/glove.840B.300d.zip.1&#39;, name=&#39;glove.840B.300d.zip.1&#39;, size=2176768927),\n",
       " FileInfo(path=&#39;dbfs:/tmp/glove/models/&#39;, name=&#39;models/&#39;, size=0)]</div>"
      ]
     },
     "metadata": {
      "application/vnd.databricks.v1+output": {
       "addedWidgets": {},
       "arguments": {},
       "data": "<div class=\"ansiout\">Out[32]: [FileInfo(path=&#39;dbfs:/tmp/glove/download&#39;, name=&#39;download&#39;, size=6587),\n FileInfo(path=&#39;dbfs:/tmp/glove/glove.840B.300d.txt&#39;, name=&#39;glove.840B.300d.txt&#39;, size=5646236541),\n FileInfo(path=&#39;dbfs:/tmp/glove/glove.840B.300d.zip&#39;, name=&#39;glove.840B.300d.zip&#39;, size=2176768927),\n FileInfo(path=&#39;dbfs:/tmp/glove/glove.840B.300d.zip.1&#39;, name=&#39;glove.840B.300d.zip.1&#39;, size=2176768927),\n FileInfo(path=&#39;dbfs:/tmp/glove/models/&#39;, name=&#39;models/&#39;, size=0)]</div>",
       "datasetInfos": [],
       "metadata": {},
       "removedWidgets": [],
       "type": "html"
      }
     },
     "output_type": "display_data"
    }
   ],
   "source": [
    "dbutils.fs.ls(\"/tmp/glove\")"
   ]
  },
  {
   "cell_type": "code",
   "execution_count": 0,
   "metadata": {
    "application/vnd.databricks.v1+cell": {
     "inputWidgets": {},
     "nuid": "6ae02376-ea2c-44ff-bdcf-966b44113cbe",
     "showTitle": false,
     "title": ""
    }
   },
   "outputs": [
    {
     "data": {
      "text/html": [
       "<style scoped>\n",
       "  .ansiout {\n",
       "    display: block;\n",
       "    unicode-bidi: embed;\n",
       "    white-space: pre-wrap;\n",
       "    word-wrap: break-word;\n",
       "    word-break: break-all;\n",
       "    font-family: \"Source Code Pro\", \"Menlo\", monospace;;\n",
       "    font-size: 13px;\n",
       "    color: #555;\n",
       "    margin-left: 4px;\n",
       "    line-height: 19px;\n",
       "  }\n",
       "</style>\n",
       "<div class=\"ansiout\"></div>"
      ]
     },
     "metadata": {
      "application/vnd.databricks.v1+output": {
       "addedWidgets": {},
       "arguments": {},
       "data": "<div class=\"ansiout\"></div>",
       "datasetInfos": [],
       "metadata": {},
       "removedWidgets": [],
       "type": "html"
      }
     },
     "output_type": "display_data"
    }
   ],
   "source": [
    "import zipfile\n",
    "# EXTRACT if Necessary\n",
    "# Unzip and extract in file. Maybe, could be better to unzip in memory with StringIO.\n",
    "with zipfile.ZipFile('/dbfs/tmp/glove/glove.840B.300d.zip', 'r') as zip_ref:\n",
    "    zip_ref.extractall('/dbfs/tmp/glove/')"
   ]
  },
  {
   "cell_type": "code",
   "execution_count": 0,
   "metadata": {
    "application/vnd.databricks.v1+cell": {
     "inputWidgets": {},
     "nuid": "91bf9569-c3d5-4958-bdf2-37ac4739fede",
     "showTitle": false,
     "title": ""
    }
   },
   "outputs": [
    {
     "data": {
      "text/html": [
       "<style scoped>\n",
       "  .ansiout {\n",
       "    display: block;\n",
       "    unicode-bidi: embed;\n",
       "    white-space: pre-wrap;\n",
       "    word-wrap: break-word;\n",
       "    word-break: break-all;\n",
       "    font-family: \"Source Code Pro\", \"Menlo\", monospace;;\n",
       "    font-size: 13px;\n",
       "    color: #555;\n",
       "    margin-left: 4px;\n",
       "    line-height: 19px;\n",
       "  }\n",
       "</style>\n",
       "<div class=\"ansiout\">Out[34]: [FileInfo(path=&#39;dbfs:/tmp/glove/download&#39;, name=&#39;download&#39;, size=6587),\n",
       " FileInfo(path=&#39;dbfs:/tmp/glove/glove.840B.300d.txt&#39;, name=&#39;glove.840B.300d.txt&#39;, size=5646236541),\n",
       " FileInfo(path=&#39;dbfs:/tmp/glove/glove.840B.300d.zip&#39;, name=&#39;glove.840B.300d.zip&#39;, size=2176768927),\n",
       " FileInfo(path=&#39;dbfs:/tmp/glove/glove.840B.300d.zip.1&#39;, name=&#39;glove.840B.300d.zip.1&#39;, size=2176768927),\n",
       " FileInfo(path=&#39;dbfs:/tmp/glove/models/&#39;, name=&#39;models/&#39;, size=0)]</div>"
      ]
     },
     "metadata": {
      "application/vnd.databricks.v1+output": {
       "addedWidgets": {},
       "arguments": {},
       "data": "<div class=\"ansiout\">Out[34]: [FileInfo(path=&#39;dbfs:/tmp/glove/download&#39;, name=&#39;download&#39;, size=6587),\n FileInfo(path=&#39;dbfs:/tmp/glove/glove.840B.300d.txt&#39;, name=&#39;glove.840B.300d.txt&#39;, size=5646236541),\n FileInfo(path=&#39;dbfs:/tmp/glove/glove.840B.300d.zip&#39;, name=&#39;glove.840B.300d.zip&#39;, size=2176768927),\n FileInfo(path=&#39;dbfs:/tmp/glove/glove.840B.300d.zip.1&#39;, name=&#39;glove.840B.300d.zip.1&#39;, size=2176768927),\n FileInfo(path=&#39;dbfs:/tmp/glove/models/&#39;, name=&#39;models/&#39;, size=0)]</div>",
       "datasetInfos": [],
       "metadata": {},
       "removedWidgets": [],
       "type": "html"
      }
     },
     "output_type": "display_data"
    }
   ],
   "source": [
    "dbutils.fs.ls(\"/tmp/glove\")"
   ]
  },
  {
   "cell_type": "code",
   "execution_count": 0,
   "metadata": {
    "application/vnd.databricks.v1+cell": {
     "inputWidgets": {},
     "nuid": "d5783d54-9d02-4eda-85aa-3017e1f88484",
     "showTitle": false,
     "title": ""
    }
   },
   "outputs": [
    {
     "data": {
      "text/html": [
       "<style scoped>\n",
       "  .ansiout {\n",
       "    display: block;\n",
       "    unicode-bidi: embed;\n",
       "    white-space: pre-wrap;\n",
       "    word-wrap: break-word;\n",
       "    word-break: break-all;\n",
       "    font-family: \"Source Code Pro\", \"Menlo\", monospace;;\n",
       "    font-size: 13px;\n",
       "    color: #555;\n",
       "    margin-left: 4px;\n",
       "    line-height: 19px;\n",
       "  }\n",
       "</style>\n",
       "<div class=\"ansiout\"></div>"
      ]
     },
     "metadata": {
      "application/vnd.databricks.v1+output": {
       "addedWidgets": {},
       "arguments": {},
       "data": "<div class=\"ansiout\"></div>",
       "datasetInfos": [],
       "metadata": {},
       "removedWidgets": [],
       "type": "html"
      }
     },
     "output_type": "display_data"
    }
   ],
   "source": [
    "## FUNCTIONS TAKEN FROM https://www.kaggle.com/gmhost/gru-capsule\n",
    "\n",
    "def load_glove(word_index):\n",
    "    EMBEDDING_FILE = '/dbfs/tmp/glove/glove.840B.300d.txt'\n",
    "    def get_coefs(word,*arr): return word, np.asarray(arr, dtype='float32')[:300]\n",
    "    embeddings_index = dict(get_coefs(*o.split(\" \")) for o in open(EMBEDDING_FILE))\n",
    "    \n",
    "    all_embs = np.stack(embeddings_index.values())\n",
    "    emb_mean,emb_std = -0.005838499,0.48782197\n",
    "    embed_size = all_embs.shape[1]\n",
    "\n",
    "    nb_words = min(max_features, len(word_index)+1)\n",
    "    embedding_matrix = np.random.normal(emb_mean, emb_std, (nb_words, embed_size))\n",
    "    for word, i in word_index.items():\n",
    "        if i >= max_features: continue\n",
    "        embedding_vector = embeddings_index.get(word)\n",
    "        if embedding_vector is not None: \n",
    "            embedding_matrix[i] = embedding_vector\n",
    "        else:\n",
    "            embedding_vector = embeddings_index.get(word.capitalize())\n",
    "            if embedding_vector is not None: \n",
    "                embedding_matrix[i] = embedding_vector\n",
    "    return embedding_matrix\n"
   ]
  },
  {
   "cell_type": "code",
   "execution_count": 0,
   "metadata": {
    "application/vnd.databricks.v1+cell": {
     "inputWidgets": {},
     "nuid": "c2203fdf-5f39-446c-a59b-e30dee135724",
     "showTitle": false,
     "title": ""
    }
   },
   "outputs": [
    {
     "data": {
      "text/html": [
       "<style scoped>\n",
       "  .ansiout {\n",
       "    display: block;\n",
       "    unicode-bidi: embed;\n",
       "    white-space: pre-wrap;\n",
       "    word-wrap: break-word;\n",
       "    word-break: break-all;\n",
       "    font-family: \"Source Code Pro\", \"Menlo\", monospace;;\n",
       "    font-size: 13px;\n",
       "    color: #555;\n",
       "    margin-left: 4px;\n",
       "    line-height: 19px;\n",
       "  }\n",
       "</style>\n",
       "<div class=\"ansiout\">/databricks/python/lib/python3.8/site-packages/IPython/core/interactiveshell.py:3437: FutureWarning:\n",
       "\n",
       "arrays to stack must be passed as a &#34;sequence&#34; type such as list or tuple. Support for non-sequence iterables such as generators is deprecated as of NumPy 1.16 and will raise an error in the future.\n",
       "\n",
       "</div>"
      ]
     },
     "metadata": {
      "application/vnd.databricks.v1+output": {
       "addedWidgets": {},
       "arguments": {},
       "data": "<div class=\"ansiout\">/databricks/python/lib/python3.8/site-packages/IPython/core/interactiveshell.py:3437: FutureWarning:\n\narrays to stack must be passed as a &#34;sequence&#34; type such as list or tuple. Support for non-sequence iterables such as generators is deprecated as of NumPy 1.16 and will raise an error in the future.\n\n</div>",
       "datasetInfos": [],
       "metadata": {},
       "removedWidgets": [],
       "type": "html"
      }
     },
     "output_type": "display_data"
    }
   ],
   "source": [
    "# missing entries in the embedding are set using np.random.normal so we have to seed here too\n",
    "\n",
    "if debug:\n",
    "    embedding_matrix = np.random.randn(120000,300)\n",
    "else:\n",
    "    embedding_matrix = load_glove(tokenizer.word_index)"
   ]
  },
  {
   "cell_type": "code",
   "execution_count": 0,
   "metadata": {
    "application/vnd.databricks.v1+cell": {
     "inputWidgets": {},
     "nuid": "e8de8bd7-beeb-4b32-bf93-5223d2f96f10",
     "showTitle": false,
     "title": ""
    }
   },
   "outputs": [
    {
     "data": {
      "text/html": [
       "<style scoped>\n",
       "  .ansiout {\n",
       "    display: block;\n",
       "    unicode-bidi: embed;\n",
       "    white-space: pre-wrap;\n",
       "    word-wrap: break-word;\n",
       "    word-break: break-all;\n",
       "    font-family: \"Source Code Pro\", \"Menlo\", monospace;;\n",
       "    font-size: 13px;\n",
       "    color: #555;\n",
       "    margin-left: 4px;\n",
       "    line-height: 19px;\n",
       "  }\n",
       "</style>\n",
       "<div class=\"ansiout\"></div>"
      ]
     },
     "metadata": {
      "application/vnd.databricks.v1+output": {
       "addedWidgets": {},
       "arguments": {},
       "data": "<div class=\"ansiout\"></div>",
       "datasetInfos": [],
       "metadata": {},
       "removedWidgets": [],
       "type": "html"
      }
     },
     "output_type": "display_data"
    }
   ],
   "source": [
    "class CNN_Text(nn.Module):\n",
    "    \n",
    "    def __init__(self):\n",
    "        super(CNN_Text, self).__init__()\n",
    "        filter_sizes = [1,2,3,5]\n",
    "        num_filters = 36\n",
    "        n_classes = len(le.classes_)\n",
    "        self.embedding = nn.Embedding(max_features, embed_size)\n",
    "        self.embedding.weight = nn.Parameter(torch.tensor(embedding_matrix, dtype=torch.float32))\n",
    "        self.embedding.weight.requires_grad = False\n",
    "        self.convs1 = nn.ModuleList([nn.Conv2d(1, num_filters, (K, embed_size)) for K in filter_sizes])\n",
    "        self.dropout = nn.Dropout(0.1)\n",
    "        self.fc1 = nn.Linear(len(filter_sizes)*num_filters, n_classes)\n",
    "\n",
    "\n",
    "    def forward(self, x):\n",
    "        x = self.embedding(x)  \n",
    "        x = x.unsqueeze(1)  \n",
    "        x = [F.relu(conv(x)).squeeze(3) for conv in self.convs1] \n",
    "        x = [F.max_pool1d(i, i.size(2)).squeeze(2) for i in x]  \n",
    "        x = torch.cat(x, 1)\n",
    "        x = self.dropout(x)  \n",
    "        logit = self.fc1(x) \n",
    "        return logit"
   ]
  },
  {
   "cell_type": "code",
   "execution_count": 0,
   "metadata": {
    "application/vnd.databricks.v1+cell": {
     "inputWidgets": {},
     "nuid": "8288346f-6c0c-4006-adec-e0e814818daa",
     "showTitle": false,
     "title": ""
    }
   },
   "outputs": [
    {
     "data": {
      "text/html": [
       "<style scoped>\n",
       "  .ansiout {\n",
       "    display: block;\n",
       "    unicode-bidi: embed;\n",
       "    white-space: pre-wrap;\n",
       "    word-wrap: break-word;\n",
       "    word-break: break-all;\n",
       "    font-family: \"Source Code Pro\", \"Menlo\", monospace;;\n",
       "    font-size: 13px;\n",
       "    color: #555;\n",
       "    margin-left: 4px;\n",
       "    line-height: 19px;\n",
       "  }\n",
       "</style>\n",
       "<div class=\"ansiout\">&lt;command-241534&gt;:48: UserWarning:\n",
       "\n",
       "Implicit dimension choice for softmax has been deprecated. Change the call to include dim=X as an argument.\n",
       "\n",
       "Epoch 1/20 \t loss=596.4397 \t val_loss=515.7928  \t val_acc=0.5755  \t time=152.24s\n",
       "Epoch 2/20 \t loss=490.7367 \t val_loss=461.0382  \t val_acc=0.6359  \t time=161.65s\n",
       "Epoch 3/20 \t loss=430.1489 \t val_loss=406.6558  \t val_acc=0.6908  \t time=161.83s\n",
       "Epoch 4/20 \t loss=383.4416 \t val_loss=369.8621  \t val_acc=0.7264  \t time=162.79s\n",
       "Epoch 5/20 \t loss=348.4224 \t val_loss=336.7896  \t val_acc=0.7530  \t time=161.43s\n",
       "Epoch 6/20 \t loss=320.3503 \t val_loss=315.4732  \t val_acc=0.7734  \t time=160.95s\n",
       "Epoch 7/20 \t loss=299.1353 \t val_loss=295.2615  \t val_acc=0.7904  \t time=161.01s\n",
       "Epoch 8/20 \t loss=280.7748 \t val_loss=285.9260  \t val_acc=0.7952  \t time=160.66s\n",
       "Epoch 9/20 \t loss=267.2628 \t val_loss=270.9959  \t val_acc=0.8085  \t time=160.88s\n",
       "Epoch 10/20 \t loss=254.4529 \t val_loss=261.1858  \t val_acc=0.8143  \t time=161.21s\n",
       "Epoch 11/20 \t loss=243.8827 \t val_loss=253.4044  \t val_acc=0.8200  \t time=162.39s\n",
       "Epoch 12/20 \t loss=235.7342 \t val_loss=249.3268  \t val_acc=0.8243  \t time=161.22s\n",
       "Epoch 13/20 \t loss=226.7463 \t val_loss=237.5348  \t val_acc=0.8338  \t time=162.39s\n",
       "Epoch 14/20 \t loss=221.1302 \t val_loss=234.2655  \t val_acc=0.8358  \t time=162.21s\n",
       "Epoch 15/20 \t loss=213.7214 \t val_loss=231.3820  \t val_acc=0.8399  \t time=161.46s\n",
       "Epoch 16/20 \t loss=208.8605 \t val_loss=230.0421  \t val_acc=0.8389  \t time=162.95s\n",
       "Epoch 17/20 \t loss=203.6600 \t val_loss=221.1926  \t val_acc=0.8463  \t time=163.98s\n",
       "Epoch 18/20 \t loss=199.2544 \t val_loss=223.4778  \t val_acc=0.8469  \t time=163.78s\n",
       "Epoch 19/20 \t loss=194.3148 \t val_loss=215.6584  \t val_acc=0.8546  \t time=163.53s\n",
       "Epoch 20/20 \t loss=190.0668 \t val_loss=219.4935  \t val_acc=0.8519  \t time=162.99s\n",
       "</div>"
      ]
     },
     "metadata": {
      "application/vnd.databricks.v1+output": {
       "addedWidgets": {},
       "arguments": {},
       "data": "<div class=\"ansiout\">&lt;command-241534&gt;:48: UserWarning:\n\nImplicit dimension choice for softmax has been deprecated. Change the call to include dim=X as an argument.\n\nEpoch 1/20 \t loss=596.4397 \t val_loss=515.7928  \t val_acc=0.5755  \t time=152.24s\nEpoch 2/20 \t loss=490.7367 \t val_loss=461.0382  \t val_acc=0.6359  \t time=161.65s\nEpoch 3/20 \t loss=430.1489 \t val_loss=406.6558  \t val_acc=0.6908  \t time=161.83s\nEpoch 4/20 \t loss=383.4416 \t val_loss=369.8621  \t val_acc=0.7264  \t time=162.79s\nEpoch 5/20 \t loss=348.4224 \t val_loss=336.7896  \t val_acc=0.7530  \t time=161.43s\nEpoch 6/20 \t loss=320.3503 \t val_loss=315.4732  \t val_acc=0.7734  \t time=160.95s\nEpoch 7/20 \t loss=299.1353 \t val_loss=295.2615  \t val_acc=0.7904  \t time=161.01s\nEpoch 8/20 \t loss=280.7748 \t val_loss=285.9260  \t val_acc=0.7952  \t time=160.66s\nEpoch 9/20 \t loss=267.2628 \t val_loss=270.9959  \t val_acc=0.8085  \t time=160.88s\nEpoch 10/20 \t loss=254.4529 \t val_loss=261.1858  \t val_acc=0.8143  \t time=161.21s\nEpoch 11/20 \t loss=243.8827 \t val_loss=253.4044  \t val_acc=0.8200  \t time=162.39s\nEpoch 12/20 \t loss=235.7342 \t val_loss=249.3268  \t val_acc=0.8243  \t time=161.22s\nEpoch 13/20 \t loss=226.7463 \t val_loss=237.5348  \t val_acc=0.8338  \t time=162.39s\nEpoch 14/20 \t loss=221.1302 \t val_loss=234.2655  \t val_acc=0.8358  \t time=162.21s\nEpoch 15/20 \t loss=213.7214 \t val_loss=231.3820  \t val_acc=0.8399  \t time=161.46s\nEpoch 16/20 \t loss=208.8605 \t val_loss=230.0421  \t val_acc=0.8389  \t time=162.95s\nEpoch 17/20 \t loss=203.6600 \t val_loss=221.1926  \t val_acc=0.8463  \t time=163.98s\nEpoch 18/20 \t loss=199.2544 \t val_loss=223.4778  \t val_acc=0.8469  \t time=163.78s\nEpoch 19/20 \t loss=194.3148 \t val_loss=215.6584  \t val_acc=0.8546  \t time=163.53s\nEpoch 20/20 \t loss=190.0668 \t val_loss=219.4935  \t val_acc=0.8519  \t time=162.99s\n</div>",
       "datasetInfos": [],
       "metadata": {},
       "removedWidgets": [],
       "type": "html"
      }
     },
     "output_type": "display_data"
    }
   ],
   "source": [
    "n_epochs = 20\n",
    "model = CNN_Text()\n",
    "loss_fn = nn.CrossEntropyLoss(reduction='sum')\n",
    "optimizer = torch.optim.Adam(filter(lambda p: p.requires_grad, model.parameters()), lr=0.001)\n",
    "model.cuda()\n",
    "\n",
    "# Load train and test in CUDA Memory\n",
    "x_train = torch.tensor(train_X, dtype=torch.long).cuda()\n",
    "y_train = torch.tensor(train_y, dtype=torch.long).cuda()\n",
    "x_cv = torch.tensor(test_X, dtype=torch.long).cuda()\n",
    "y_cv = torch.tensor(test_y, dtype=torch.long).cuda()\n",
    "\n",
    "# Create Torch datasets\n",
    "train = torch.utils.data.TensorDataset(x_train, y_train)\n",
    "valid = torch.utils.data.TensorDataset(x_cv, y_cv)\n",
    "\n",
    "# Create Data Loaders\n",
    "train_loader = torch.utils.data.DataLoader(train, batch_size=batch_size, shuffle=True)\n",
    "valid_loader = torch.utils.data.DataLoader(valid, batch_size=batch_size, shuffle=False)\n",
    "\n",
    "train_loss = []\n",
    "valid_loss = []\n",
    "\n",
    "for epoch in range(n_epochs):\n",
    "    start_time = time.time()\n",
    "    # Set model to train configuration\n",
    "    model.train()\n",
    "    avg_loss = 0.  \n",
    "    for i, (x_batch, y_batch) in enumerate(train_loader):\n",
    "        # Predict/Forward Pass\n",
    "        y_pred = model(x_batch)\n",
    "        # Compute loss\n",
    "        loss = loss_fn(y_pred, y_batch)\n",
    "        optimizer.zero_grad()\n",
    "        loss.backward()\n",
    "        optimizer.step()\n",
    "        avg_loss += loss.item() / len(train_loader)\n",
    "    \n",
    "    # Set model to validation configuration -Doesn't get trained here\n",
    "    model.eval()        \n",
    "    avg_val_loss = 0.\n",
    "    val_preds = np.zeros((len(x_cv),len(le.classes_)))\n",
    "    \n",
    "    for i, (x_batch, y_batch) in enumerate(valid_loader):\n",
    "        y_pred = model(x_batch).detach()\n",
    "        avg_val_loss += loss_fn(y_pred, y_batch).item() / len(valid_loader)\n",
    "        # keep/store predictions\n",
    "        val_preds[i * batch_size:(i+1) * batch_size] =F.softmax(y_pred).cpu().numpy()\n",
    "    \n",
    "    # Check Accuracy\n",
    "    val_accuracy = sum(val_preds.argmax(axis=1)==test_y)/len(test_y)\n",
    "    train_loss.append(avg_loss)\n",
    "    valid_loss.append(avg_val_loss)\n",
    "    elapsed_time = time.time() - start_time \n",
    "    print('Epoch {}/{} \\t loss={:.4f} \\t val_loss={:.4f}  \\t val_acc={:.4f}  \\t time={:.2f}s'.format(\n",
    "                epoch + 1, n_epochs, avg_loss, avg_val_loss, val_accuracy, elapsed_time))"
   ]
  },
  {
   "cell_type": "code",
   "execution_count": 0,
   "metadata": {
    "application/vnd.databricks.v1+cell": {
     "inputWidgets": {},
     "nuid": "de72d2cb-3da0-4a67-bf1f-457f8b77ceb6",
     "showTitle": false,
     "title": ""
    }
   },
   "outputs": [
    {
     "data": {
      "text/html": [
       "<style scoped>\n",
       "  .ansiout {\n",
       "    display: block;\n",
       "    unicode-bidi: embed;\n",
       "    white-space: pre-wrap;\n",
       "    word-wrap: break-word;\n",
       "    word-break: break-all;\n",
       "    font-family: \"Source Code Pro\", \"Menlo\", monospace;;\n",
       "    font-size: 13px;\n",
       "    color: #555;\n",
       "    margin-left: 4px;\n",
       "    line-height: 19px;\n",
       "  }\n",
       "</style>\n",
       "<div class=\"ansiout\">Out[51]: True</div>"
      ]
     },
     "metadata": {
      "application/vnd.databricks.v1+output": {
       "addedWidgets": {},
       "arguments": {},
       "data": "<div class=\"ansiout\">Out[51]: True</div>",
       "datasetInfos": [],
       "metadata": {},
       "removedWidgets": [],
       "type": "html"
      }
     },
     "output_type": "display_data"
    }
   ],
   "source": [
    "dbutils.fs.mkdirs(\"/tmp/glove/models\")"
   ]
  },
  {
   "cell_type": "code",
   "execution_count": 0,
   "metadata": {
    "application/vnd.databricks.v1+cell": {
     "inputWidgets": {},
     "nuid": "dac7feca-67ec-4572-a240-74dc85c4130e",
     "showTitle": false,
     "title": ""
    }
   },
   "outputs": [
    {
     "data": {
      "text/html": [
       "<style scoped>\n",
       "  .ansiout {\n",
       "    display: block;\n",
       "    unicode-bidi: embed;\n",
       "    white-space: pre-wrap;\n",
       "    word-wrap: break-word;\n",
       "    word-break: break-all;\n",
       "    font-family: \"Source Code Pro\", \"Menlo\", monospace;;\n",
       "    font-size: 13px;\n",
       "    color: #555;\n",
       "    margin-left: 4px;\n",
       "    line-height: 19px;\n",
       "  }\n",
       "</style>\n",
       "<div class=\"ansiout\"></div>"
      ]
     },
     "metadata": {
      "application/vnd.databricks.v1+output": {
       "addedWidgets": {},
       "arguments": {},
       "data": "<div class=\"ansiout\"></div>",
       "datasetInfos": [],
       "metadata": {},
       "removedWidgets": [],
       "type": "html"
      }
     },
     "output_type": "display_data"
    }
   ],
   "source": [
    "torch.save(model,'/dbfs/tmp/glove/models/textcnn_model_glove')"
   ]
  },
  {
   "cell_type": "code",
   "execution_count": 0,
   "metadata": {
    "application/vnd.databricks.v1+cell": {
     "inputWidgets": {},
     "nuid": "5496537b-9051-4927-8246-8171c9a56a7c",
     "showTitle": false,
     "title": ""
    }
   },
   "outputs": [
    {
     "data": {
      "text/html": [
       "<style scoped>\n",
       "  .ansiout {\n",
       "    display: block;\n",
       "    unicode-bidi: embed;\n",
       "    white-space: pre-wrap;\n",
       "    word-wrap: break-word;\n",
       "    word-break: break-all;\n",
       "    font-family: \"Source Code Pro\", \"Menlo\", monospace;;\n",
       "    font-size: 13px;\n",
       "    color: #555;\n",
       "    margin-left: 4px;\n",
       "    line-height: 19px;\n",
       "  }\n",
       "</style>\n",
       "<div class=\"ansiout\"></div>"
      ]
     },
     "metadata": {
      "application/vnd.databricks.v1+output": {
       "addedWidgets": {},
       "arguments": {},
       "data": "<div class=\"ansiout\"></div>",
       "datasetInfos": [],
       "metadata": {},
       "removedWidgets": [],
       "type": "html"
      }
     },
     "output_type": "display_data"
    }
   ],
   "source": [
    "def plot_graph(epochs):\n",
    "    fig = plt.figure(figsize=(12,12))\n",
    "    plt.title(\"Train/Validation Loss\")\n",
    "    plt.plot(list(np.arange(epochs) + 1) , train_loss, label='train')\n",
    "    plt.plot(list(np.arange(epochs) + 1), valid_loss, label='validation')\n",
    "    plt.xlabel('num_epochs', fontsize=12)\n",
    "    plt.ylabel('loss', fontsize=12)\n",
    "    plt.legend(loc='best')"
   ]
  },
  {
   "cell_type": "code",
   "execution_count": 0,
   "metadata": {
    "application/vnd.databricks.v1+cell": {
     "inputWidgets": {},
     "nuid": "34a9c5c3-5c71-4f65-9876-0df776104478",
     "showTitle": false,
     "title": ""
    }
   },
   "outputs": [
    {
     "data": {
      "image/png": "[encoded data removed]"
     },
     "metadata": {
      "application/vnd.databricks.v1+output": {
       "addedWidgets": {},
       "arguments": {},
       "data": "data:image/png;base64,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",
       "datasetInfos": [],
       "metadata": {
        "imageDimensions": {
         "height": 716,
         "width": 727
        }
       },
       "removedWidgets": [],
       "type": "image"
      },
      "image/png": {
       "height": 716,
       "width": 727
      }
     },
     "output_type": "display_data"
    }
   ],
   "source": [
    "plot_graph(n_epochs)"
   ]
  },
  {
   "cell_type": "code",
   "execution_count": 0,
   "metadata": {
    "application/vnd.databricks.v1+cell": {
     "inputWidgets": {},
     "nuid": "11fe09da-2df0-4b6a-91cc-d1c3b03e11ef",
     "showTitle": false,
     "title": ""
    }
   },
   "outputs": [
    {
     "data": {
      "text/html": [
       "<style scoped>\n",
       "  .ansiout {\n",
       "    display: block;\n",
       "    unicode-bidi: embed;\n",
       "    white-space: pre-wrap;\n",
       "    word-wrap: break-word;\n",
       "    word-break: break-all;\n",
       "    font-family: \"Source Code Pro\", \"Menlo\", monospace;;\n",
       "    font-size: 13px;\n",
       "    color: #555;\n",
       "    margin-left: 4px;\n",
       "    line-height: 19px;\n",
       "  }\n",
       "</style>\n",
       "<div class=\"ansiout\">Out[55]: </div>"
      ]
     },
     "metadata": {
      "application/vnd.databricks.v1+output": {
       "addedWidgets": {},
       "arguments": {},
       "data": "<div class=\"ansiout\">Out[55]: </div>",
       "datasetInfos": [],
       "metadata": {},
       "removedWidgets": [],
       "type": "html"
      }
     },
     "output_type": "display_data"
    },
    {
     "data": {
      "image/png": "[encoded data removed]"
     },
     "metadata": {
      "application/vnd.databricks.v1+output": {
       "addedWidgets": {},
       "arguments": {},
       "data": "data:image/png;base64,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",
       "datasetInfos": [],
       "metadata": {
        "imageDimensions": {
         "height": 666,
         "width": 682
        }
       },
       "removedWidgets": [],
       "type": "image"
      },
      "image/png": {
       "height": 666,
       "width": 682
      }
     },
     "output_type": "display_data"
    },
    {
     "data": {
      "text/html": [
       "<style scoped>\n",
       "  .ansiout {\n",
       "    display: block;\n",
       "    unicode-bidi: embed;\n",
       "    white-space: pre-wrap;\n",
       "    word-wrap: break-word;\n",
       "    word-break: break-all;\n",
       "    font-family: \"Source Code Pro\", \"Menlo\", monospace;;\n",
       "    font-size: 13px;\n",
       "    color: #555;\n",
       "    margin-left: 4px;\n",
       "    line-height: 19px;\n",
       "  }\n",
       "</style>\n",
       "<div class=\"ansiout\">&lt;AxesSubplot:title={&#39;center&#39;:&#39;Confusion Matrix&#39;}, xlabel=&#39;Predicted label&#39;, ylabel=&#39;True label&#39;&gt;</div>"
      ]
     },
     "metadata": {
      "application/vnd.databricks.v1+output": {
       "addedWidgets": {},
       "arguments": {},
       "data": "<div class=\"ansiout\">&lt;AxesSubplot:title={&#39;center&#39;:&#39;Confusion Matrix&#39;}, xlabel=&#39;Predicted label&#39;, ylabel=&#39;True label&#39;&gt;</div>",
       "datasetInfos": [],
       "metadata": {},
       "removedWidgets": [],
       "type": "html"
      }
     },
     "output_type": "display_data"
    }
   ],
   "source": [
    "import scikitplot as skplt\n",
    "y_true = [le.classes_[x] for x in test_y]\n",
    "y_pred = [le.classes_[x] for x in val_preds.argmax(axis=1)]\n",
    "skplt.metrics.plot_confusion_matrix(\n",
    "    y_true, \n",
    "    y_pred,\n",
    "    figsize=(12,12),x_tick_rotation=90)"
   ]
  },
  {
   "cell_type": "code",
   "execution_count": 0,
   "metadata": {
    "application/vnd.databricks.v1+cell": {
     "inputWidgets": {},
     "nuid": "d447065e-a407-4ad4-adab-b5b06310f748",
     "showTitle": false,
     "title": ""
    }
   },
   "outputs": [
    {
     "data": {
      "text/html": [
       "<style scoped>\n",
       "  .ansiout {\n",
       "    display: block;\n",
       "    unicode-bidi: embed;\n",
       "    white-space: pre-wrap;\n",
       "    word-wrap: break-word;\n",
       "    word-break: break-all;\n",
       "    font-family: \"Source Code Pro\", \"Menlo\", monospace;;\n",
       "    font-size: 13px;\n",
       "    color: #555;\n",
       "    margin-left: 4px;\n",
       "    line-height: 19px;\n",
       "  }\n",
       "</style>\n",
       "<div class=\"ansiout\"></div>"
      ]
     },
     "metadata": {
      "application/vnd.databricks.v1+output": {
       "addedWidgets": {},
       "arguments": {},
       "data": "<div class=\"ansiout\"></div>",
       "datasetInfos": [],
       "metadata": {},
       "removedWidgets": [],
       "type": "html"
      }
     },
     "output_type": "display_data"
    }
   ],
   "source": [
    "class BiLSTM(nn.Module):\n",
    "    \n",
    "    def __init__(self):\n",
    "        super(BiLSTM, self).__init__()\n",
    "        self.hidden_size = 64\n",
    "        drp = 0.1\n",
    "        n_classes = len(le.classes_)\n",
    "        self.embedding = nn.Embedding(max_features, embed_size)\n",
    "        self.embedding.weight = nn.Parameter(torch.tensor(embedding_matrix, dtype=torch.float32))\n",
    "        self.embedding.weight.requires_grad = False\n",
    "        self.lstm = nn.LSTM(embed_size, self.hidden_size, bidirectional=True, batch_first=True)\n",
    "        self.linear = nn.Linear(self.hidden_size*4 , 64)\n",
    "        self.relu = nn.ReLU()\n",
    "        self.dropout = nn.Dropout(drp)\n",
    "        self.out = nn.Linear(64, n_classes)\n",
    "\n",
    "\n",
    "    def forward(self, x):\n",
    "        #rint(x.size())\n",
    "        h_embedding = self.embedding(x)\n",
    "        #_embedding = torch.squeeze(torch.unsqueeze(h_embedding, 0))\n",
    "        h_lstm, _ = self.lstm(h_embedding)\n",
    "        avg_pool = torch.mean(h_lstm, 1)\n",
    "        max_pool, _ = torch.max(h_lstm, 1)\n",
    "        conc = torch.cat(( avg_pool, max_pool), 1)\n",
    "        conc = self.relu(self.linear(conc))\n",
    "        conc = self.dropout(conc)\n",
    "        out = self.out(conc)\n",
    "        return out"
   ]
  },
  {
   "cell_type": "code",
   "execution_count": 0,
   "metadata": {
    "application/vnd.databricks.v1+cell": {
     "inputWidgets": {},
     "nuid": "0520a83e-28a1-48df-9266-835eaee0a1d8",
     "showTitle": false,
     "title": ""
    }
   },
   "outputs": [
    {
     "data": {
      "text/html": [
       "<style scoped>\n",
       "  .ansiout {\n",
       "    display: block;\n",
       "    unicode-bidi: embed;\n",
       "    white-space: pre-wrap;\n",
       "    word-wrap: break-word;\n",
       "    word-break: break-all;\n",
       "    font-family: \"Source Code Pro\", \"Menlo\", monospace;;\n",
       "    font-size: 13px;\n",
       "    color: #555;\n",
       "    margin-left: 4px;\n",
       "    line-height: 19px;\n",
       "  }\n",
       "</style>\n",
       "<div class=\"ansiout\">&lt;command-241541&gt;:48: UserWarning:\n",
       "\n",
       "Implicit dimension choice for softmax has been deprecated. Change the call to include dim=X as an argument.\n",
       "\n",
       "Epoch 1/20 \t loss=627.0122 \t val_loss=544.8769  \t val_acc=0.5302  \t time=88.32s\n",
       "Epoch 2/20 \t loss=522.8968 \t val_loss=494.7609  \t val_acc=0.5758  \t time=88.38s\n",
       "Epoch 3/20 \t loss=478.9558 \t val_loss=464.3841  \t val_acc=0.6080  \t time=87.12s\n",
       "Epoch 4/20 \t loss=434.4098 \t val_loss=435.3991  \t val_acc=0.6425  \t time=87.41s\n",
       "Epoch 5/20 \t loss=389.2329 \t val_loss=426.7794  \t val_acc=0.6509  \t time=88.54s\n",
       "Epoch 6/20 \t loss=346.3888 \t val_loss=374.9777  \t val_acc=0.7094  \t time=87.43s\n",
       "Epoch 7/20 \t loss=304.1625 \t val_loss=332.6226  \t val_acc=0.7531  \t time=88.75s\n",
       "Epoch 8/20 \t loss=269.1803 \t val_loss=296.9352  \t val_acc=0.7865  \t time=87.34s\n",
       "Epoch 9/20 \t loss=237.6341 \t val_loss=283.6864  \t val_acc=0.7969  \t time=88.37s\n",
       "Epoch 10/20 \t loss=211.7010 \t val_loss=259.5039  \t val_acc=0.8177  \t time=88.20s\n",
       "Epoch 11/20 \t loss=188.4854 \t val_loss=251.2787  \t val_acc=0.8291  \t time=87.67s\n",
       "Epoch 12/20 \t loss=171.3803 \t val_loss=237.3465  \t val_acc=0.8369  \t time=89.25s\n",
       "Epoch 13/20 \t loss=157.6207 \t val_loss=228.5628  \t val_acc=0.8470  \t time=88.59s\n",
       "Epoch 14/20 \t loss=143.0988 \t val_loss=209.4859  \t val_acc=0.8608  \t time=88.26s\n",
       "Epoch 15/20 \t loss=132.5498 \t val_loss=207.9527  \t val_acc=0.8648  \t time=88.49s\n",
       "Epoch 16/20 \t loss=123.7151 \t val_loss=216.6261  \t val_acc=0.8613  \t time=88.80s\n",
       "Epoch 17/20 \t loss=124.3995 \t val_loss=240.8472  \t val_acc=0.8521  \t time=88.99s\n",
       "Epoch 18/20 \t loss=105.4340 \t val_loss=245.2376  \t val_acc=0.8520  \t time=88.78s\n",
       "Epoch 19/20 \t loss=101.6092 \t val_loss=200.1681  \t val_acc=0.8827  \t time=88.70s\n",
       "Epoch 20/20 \t loss=96.4088 \t val_loss=215.6955  \t val_acc=0.8738  \t time=88.94s\n",
       "</div>"
      ]
     },
     "metadata": {
      "application/vnd.databricks.v1+output": {
       "addedWidgets": {},
       "arguments": {},
       "data": "<div class=\"ansiout\">&lt;command-241541&gt;:48: UserWarning:\n\nImplicit dimension choice for softmax has been deprecated. Change the call to include dim=X as an argument.\n\nEpoch 1/20 \t loss=627.0122 \t val_loss=544.8769  \t val_acc=0.5302  \t time=88.32s\nEpoch 2/20 \t loss=522.8968 \t val_loss=494.7609  \t val_acc=0.5758  \t time=88.38s\nEpoch 3/20 \t loss=478.9558 \t val_loss=464.3841  \t val_acc=0.6080  \t time=87.12s\nEpoch 4/20 \t loss=434.4098 \t val_loss=435.3991  \t val_acc=0.6425  \t time=87.41s\nEpoch 5/20 \t loss=389.2329 \t val_loss=426.7794  \t val_acc=0.6509  \t time=88.54s\nEpoch 6/20 \t loss=346.3888 \t val_loss=374.9777  \t val_acc=0.7094  \t time=87.43s\nEpoch 7/20 \t loss=304.1625 \t val_loss=332.6226  \t val_acc=0.7531  \t time=88.75s\nEpoch 8/20 \t loss=269.1803 \t val_loss=296.9352  \t val_acc=0.7865  \t time=87.34s\nEpoch 9/20 \t loss=237.6341 \t val_loss=283.6864  \t val_acc=0.7969  \t time=88.37s\nEpoch 10/20 \t loss=211.7010 \t val_loss=259.5039  \t val_acc=0.8177  \t time=88.20s\nEpoch 11/20 \t loss=188.4854 \t val_loss=251.2787  \t val_acc=0.8291  \t time=87.67s\nEpoch 12/20 \t loss=171.3803 \t val_loss=237.3465  \t val_acc=0.8369  \t time=89.25s\nEpoch 13/20 \t loss=157.6207 \t val_loss=228.5628  \t val_acc=0.8470  \t time=88.59s\nEpoch 14/20 \t loss=143.0988 \t val_loss=209.4859  \t val_acc=0.8608  \t time=88.26s\nEpoch 15/20 \t loss=132.5498 \t val_loss=207.9527  \t val_acc=0.8648  \t time=88.49s\nEpoch 16/20 \t loss=123.7151 \t val_loss=216.6261  \t val_acc=0.8613  \t time=88.80s\nEpoch 17/20 \t loss=124.3995 \t val_loss=240.8472  \t val_acc=0.8521  \t time=88.99s\nEpoch 18/20 \t loss=105.4340 \t val_loss=245.2376  \t val_acc=0.8520  \t time=88.78s\nEpoch 19/20 \t loss=101.6092 \t val_loss=200.1681  \t val_acc=0.8827  \t time=88.70s\nEpoch 20/20 \t loss=96.4088 \t val_loss=215.6955  \t val_acc=0.8738  \t time=88.94s\n</div>",
       "datasetInfos": [],
       "metadata": {},
       "removedWidgets": [],
       "type": "html"
      }
     },
     "output_type": "display_data"
    }
   ],
   "source": [
    "n_epochs = 20\n",
    "model = BiLSTM()\n",
    "loss_fn = nn.CrossEntropyLoss(reduction='sum')\n",
    "optimizer = torch.optim.Adam(filter(lambda p: p.requires_grad, model.parameters()), lr=0.001)\n",
    "model.cuda()\n",
    "\n",
    "# Load train and test in CUDA Memory\n",
    "x_train = torch.tensor(train_X, dtype=torch.long).cuda()\n",
    "y_train = torch.tensor(train_y, dtype=torch.long).cuda()\n",
    "x_cv = torch.tensor(test_X, dtype=torch.long).cuda()\n",
    "y_cv = torch.tensor(test_y, dtype=torch.long).cuda()\n",
    "\n",
    "# Create Torch datasets\n",
    "train = torch.utils.data.TensorDataset(x_train, y_train)\n",
    "valid = torch.utils.data.TensorDataset(x_cv, y_cv)\n",
    "\n",
    "# Create Data Loaders\n",
    "train_loader = torch.utils.data.DataLoader(train, batch_size=batch_size, shuffle=True)\n",
    "valid_loader = torch.utils.data.DataLoader(valid, batch_size=batch_size, shuffle=False)\n",
    "\n",
    "train_loss = []\n",
    "valid_loss = []\n",
    "\n",
    "for epoch in range(n_epochs):\n",
    "    start_time = time.time()\n",
    "    # Set model to train configuration\n",
    "    model.train()\n",
    "    avg_loss = 0.  \n",
    "    for i, (x_batch, y_batch) in enumerate(train_loader):\n",
    "        # Predict/Forward Pass\n",
    "        y_pred = model(x_batch)\n",
    "        # Compute loss\n",
    "        loss = loss_fn(y_pred, y_batch)\n",
    "        optimizer.zero_grad()\n",
    "        loss.backward()\n",
    "        optimizer.step()\n",
    "        avg_loss += loss.item() / len(train_loader)\n",
    "    \n",
    "    # Set model to validation configuration -Doesn't get trained here\n",
    "    model.eval()        \n",
    "    avg_val_loss = 0.\n",
    "    val_preds = np.zeros((len(x_cv),len(le.classes_)))\n",
    "    \n",
    "    for i, (x_batch, y_batch) in enumerate(valid_loader):\n",
    "        y_pred = model(x_batch).detach()\n",
    "        avg_val_loss += loss_fn(y_pred, y_batch).item() / len(valid_loader)\n",
    "        # keep/store predictions\n",
    "        val_preds[i * batch_size:(i+1) * batch_size] =F.softmax(y_pred).cpu().numpy()\n",
    "    \n",
    "    # Check Accuracy\n",
    "    val_accuracy = sum(val_preds.argmax(axis=1)==test_y)/len(test_y)\n",
    "    train_loss.append(avg_loss)\n",
    "    valid_loss.append(avg_val_loss)\n",
    "    elapsed_time = time.time() - start_time \n",
    "    print('Epoch {}/{} \\t loss={:.4f} \\t val_loss={:.4f}  \\t val_acc={:.4f}  \\t time={:.2f}s'.format(\n",
    "                epoch + 1, n_epochs, avg_loss, avg_val_loss, val_accuracy, elapsed_time))"
   ]
  },
  {
   "cell_type": "code",
   "execution_count": 0,
   "metadata": {
    "application/vnd.databricks.v1+cell": {
     "inputWidgets": {},
     "nuid": "b6327b35-44f4-4134-ad15-4166131e3642",
     "showTitle": false,
     "title": ""
    }
   },
   "outputs": [
    {
     "data": {
      "image/png": "[encoded data removed]"
     },
     "metadata": {
      "application/vnd.databricks.v1+output": {
       "addedWidgets": {},
       "arguments": {},
       "data": "data:image/png;base64,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",
       "datasetInfos": [],
       "metadata": {
        "imageDimensions": {
         "height": 716,
         "width": 726
        }
       },
       "removedWidgets": [],
       "type": "image"
      },
      "image/png": {
       "height": 716,
       "width": 726
      }
     },
     "output_type": "display_data"
    }
   ],
   "source": [
    "plot_graph(n_epochs)"
   ]
  },
  {
   "cell_type": "code",
   "execution_count": 0,
   "metadata": {
    "application/vnd.databricks.v1+cell": {
     "inputWidgets": {},
     "nuid": "540f0b74-6f10-40e8-a412-efc678e62dda",
     "showTitle": false,
     "title": ""
    }
   },
   "outputs": [
    {
     "data": {
      "text/html": [
       "<style scoped>\n",
       "  .ansiout {\n",
       "    display: block;\n",
       "    unicode-bidi: embed;\n",
       "    white-space: pre-wrap;\n",
       "    word-wrap: break-word;\n",
       "    word-break: break-all;\n",
       "    font-family: \"Source Code Pro\", \"Menlo\", monospace;;\n",
       "    font-size: 13px;\n",
       "    color: #555;\n",
       "    margin-left: 4px;\n",
       "    line-height: 19px;\n",
       "  }\n",
       "</style>\n",
       "<div class=\"ansiout\"></div>"
      ]
     },
     "metadata": {
      "application/vnd.databricks.v1+output": {
       "addedWidgets": {},
       "arguments": {},
       "data": "<div class=\"ansiout\"></div>",
       "datasetInfos": [],
       "metadata": {},
       "removedWidgets": [],
       "type": "html"
      }
     },
     "output_type": "display_data"
    }
   ],
   "source": [
    "torch.save(model,'/dbfs/tmp/glove/models/bilstm_model_glove')"
   ]
  },
  {
   "cell_type": "code",
   "execution_count": 0,
   "metadata": {
    "application/vnd.databricks.v1+cell": {
     "inputWidgets": {},
     "nuid": "394ad646-283e-40fb-a3df-0154fca3e221",
     "showTitle": false,
     "title": ""
    }
   },
   "outputs": [
    {
     "data": {
      "text/html": [
       "<style scoped>\n",
       "  .ansiout {\n",
       "    display: block;\n",
       "    unicode-bidi: embed;\n",
       "    white-space: pre-wrap;\n",
       "    word-wrap: break-word;\n",
       "    word-break: break-all;\n",
       "    font-family: \"Source Code Pro\", \"Menlo\", monospace;;\n",
       "    font-size: 13px;\n",
       "    color: #555;\n",
       "    margin-left: 4px;\n",
       "    line-height: 19px;\n",
       "  }\n",
       "</style>\n",
       "<div class=\"ansiout\">Out[60]: </div>"
      ]
     },
     "metadata": {
      "application/vnd.databricks.v1+output": {
       "addedWidgets": {},
       "arguments": {},
       "data": "<div class=\"ansiout\">Out[60]: </div>",
       "datasetInfos": [],
       "metadata": {},
       "removedWidgets": [],
       "type": "html"
      }
     },
     "output_type": "display_data"
    },
    {
     "data": {
      "image/png": "[encoded data removed]"
     },
     "metadata": {
      "application/vnd.databricks.v1+output": {
       "addedWidgets": {},
       "arguments": {},
       "data": "data:image/png;base64,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",
       "datasetInfos": [],
       "metadata": {
        "imageDimensions": {
         "height": 666,
         "width": 682
        }
       },
       "removedWidgets": [],
       "type": "image"
      },
      "image/png": {
       "height": 666,
       "width": 682
      }
     },
     "output_type": "display_data"
    },
    {
     "data": {
      "text/html": [
       "<style scoped>\n",
       "  .ansiout {\n",
       "    display: block;\n",
       "    unicode-bidi: embed;\n",
       "    white-space: pre-wrap;\n",
       "    word-wrap: break-word;\n",
       "    word-break: break-all;\n",
       "    font-family: \"Source Code Pro\", \"Menlo\", monospace;;\n",
       "    font-size: 13px;\n",
       "    color: #555;\n",
       "    margin-left: 4px;\n",
       "    line-height: 19px;\n",
       "  }\n",
       "</style>\n",
       "<div class=\"ansiout\">&lt;AxesSubplot:title={&#39;center&#39;:&#39;Confusion Matrix&#39;}, xlabel=&#39;Predicted label&#39;, ylabel=&#39;True label&#39;&gt;</div>"
      ]
     },
     "metadata": {
      "application/vnd.databricks.v1+output": {
       "addedWidgets": {},
       "arguments": {},
       "data": "<div class=\"ansiout\">&lt;AxesSubplot:title={&#39;center&#39;:&#39;Confusion Matrix&#39;}, xlabel=&#39;Predicted label&#39;, ylabel=&#39;True label&#39;&gt;</div>",
       "datasetInfos": [],
       "metadata": {},
       "removedWidgets": [],
       "type": "html"
      }
     },
     "output_type": "display_data"
    }
   ],
   "source": [
    "import scikitplot as skplt\n",
    "y_true = [le.classes_[x] for x in test_y]\n",
    "y_pred = [le.classes_[x] for x in val_preds.argmax(axis=1)]\n",
    "skplt.metrics.plot_confusion_matrix(\n",
    "    y_true, \n",
    "    y_pred,\n",
    "    figsize=(12,12),x_tick_rotation=90)"
   ]
  },
  {
   "cell_type": "code",
   "execution_count": 0,
   "metadata": {
    "application/vnd.databricks.v1+cell": {
     "inputWidgets": {},
     "nuid": "3f6db758-5534-4d68-8082-f27977a9a6a5",
     "showTitle": false,
     "title": ""
    }
   },
   "outputs": [
    {
     "data": {
      "text/html": [
       "<style scoped>\n",
       "  .ansiout {\n",
       "    display: block;\n",
       "    unicode-bidi: embed;\n",
       "    white-space: pre-wrap;\n",
       "    word-wrap: break-word;\n",
       "    word-break: break-all;\n",
       "    font-family: \"Source Code Pro\", \"Menlo\", monospace;;\n",
       "    font-size: 13px;\n",
       "    color: #555;\n",
       "    margin-left: 4px;\n",
       "    line-height: 19px;\n",
       "  }\n",
       "</style>"
      ]
     },
     "metadata": {
      "application/vnd.databricks.v1+output": {
       "arguments": {},
       "data": "",
       "errorSummary": "",
       "errorTraceType": null,
       "metadata": {},
       "type": "ipynbError"
      }
     },
     "output_type": "display_data"
    }
   ],
   "source": []
  },
  {
   "cell_type": "code",
   "execution_count": 0,
   "metadata": {
    "application/vnd.databricks.v1+cell": {
     "inputWidgets": {},
     "nuid": "3a5bc678-bffd-4771-8aa5-8e7ee1ca4a4e",
     "showTitle": false,
     "title": ""
    }
   },
   "outputs": [
    {
     "data": {
      "text/html": [
       "<style scoped>\n",
       "  .ansiout {\n",
       "    display: block;\n",
       "    unicode-bidi: embed;\n",
       "    white-space: pre-wrap;\n",
       "    word-wrap: break-word;\n",
       "    word-break: break-all;\n",
       "    font-family: \"Source Code Pro\", \"Menlo\", monospace;;\n",
       "    font-size: 13px;\n",
       "    color: #555;\n",
       "    margin-left: 4px;\n",
       "    line-height: 19px;\n",
       "  }\n",
       "</style>"
      ]
     },
     "metadata": {
      "application/vnd.databricks.v1+output": {
       "arguments": {},
       "data": "",
       "errorSummary": "",
       "errorTraceType": null,
       "metadata": {},
       "type": "ipynbError"
      }
     },
     "output_type": "display_data"
    }
   ],
   "source": []
  },
  {
   "cell_type": "code",
   "execution_count": 0,
   "metadata": {
    "application/vnd.databricks.v1+cell": {
     "inputWidgets": {},
     "nuid": "aaddd6a1-4098-4048-9f48-80e88a6fa3c9",
     "showTitle": false,
     "title": ""
    }
   },
   "outputs": [
    {
     "data": {
      "text/html": [
       "<style scoped>\n",
       "  .ansiout {\n",
       "    display: block;\n",
       "    unicode-bidi: embed;\n",
       "    white-space: pre-wrap;\n",
       "    word-wrap: break-word;\n",
       "    word-break: break-all;\n",
       "    font-family: \"Source Code Pro\", \"Menlo\", monospace;;\n",
       "    font-size: 13px;\n",
       "    color: #555;\n",
       "    margin-left: 4px;\n",
       "    line-height: 19px;\n",
       "  }\n",
       "</style>"
      ]
     },
     "metadata": {
      "application/vnd.databricks.v1+output": {
       "arguments": {},
       "data": "",
       "errorSummary": "",
       "errorTraceType": null,
       "metadata": {},
       "type": "ipynbError"
      }
     },
     "output_type": "display_data"
    }
   ],
   "source": []
  }
 ],
 "metadata": {
  "application/vnd.databricks.v1+notebook": {
   "dashboards": [],
   "language": "python",
   "notebookMetadata": {
    "pythonIndentUnit": 2
   },
   "notebookName": "Text_Classification_With_glove_balanced",
   "notebookOrigID": 241497,
   "widgets": {}
  },
  "kernelspec": {
   "display_name": "Python 3 (ipykernel)",
   "language": "python",
   "name": "python3"
  },
  "language_info": {
   "codemirror_mode": {
    "name": "ipython",
    "version": 3
   },
   "file_extension": ".py",
   "mimetype": "text/x-python",
   "name": "python",
   "nbconvert_exporter": "python",
   "pygments_lexer": "ipython3",
   "version": "3.7.12"
  }
 },
 "nbformat": 4,
 "nbformat_minor": 1
}
